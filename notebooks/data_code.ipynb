{
 "cells": [
  {
   "cell_type": "code",
   "execution_count": 1,
   "id": "6e458486-5120-49bb-9ebd-ba10742fb1b4",
   "metadata": {
    "tags": []
   },
   "outputs": [],
   "source": [
    "%load_ext autoreload\n",
    "%autoreload 2\n",
    "\n",
    "import pandas as pd\n",
    "import numpy as np\n",
    "import torch\n",
    "from crypto_bot.binance.data_utils import download_data\n",
    "from crypto_bot.binance.data_utils import load_dataframe\n",
    "from crypto_bot.model.data import BinaryTradeDataset, MulticlassTradeDataset, plot_df, plot_by_idx\n",
    "from crypto_bot.utils import save_obj, load_obj\n",
    "\n",
    "DATA_FOLDER = 'C:/Users/diego/crypto_bot/data'\n",
    "WEIGHTS_PATH = 'C:/Users/diego/crypto_bot/data/models'"
   ]
  },
  {
   "cell_type": "markdown",
   "id": "17821412-7013-4c97-aa00-8c987e0cba29",
   "metadata": {},
   "source": [
    "# Download data"
   ]
  },
  {
   "cell_type": "code",
   "execution_count": 2,
   "id": "c2ae6554-275c-4015-93e4-1044a01ca126",
   "metadata": {
    "tags": []
   },
   "outputs": [],
   "source": [
    "download_data(DATA_FOLDER, startDate='2020-02-01', endDate='2021-11-01')"
   ]
  },
  {
   "cell_type": "markdown",
   "id": "85a0065e-bd75-4123-8bc1-624c7071dc23",
   "metadata": {},
   "source": [
    "# Load data"
   ]
  },
  {
   "cell_type": "code",
   "execution_count": 2,
   "id": "5bbc0e45-7d20-4646-9051-b5a0de1c6e3d",
   "metadata": {},
   "outputs": [],
   "source": [
    "train_df = load_dataframe(DATA_FOLDER, '2020-02-01', '2021-09-30')\n",
    "valid_df = load_dataframe(DATA_FOLDER, '2021-10-01', '2021-10-30')"
   ]
  },
  {
   "cell_type": "markdown",
   "id": "646366b2-9949-4e8f-9611-0530250acacf",
   "metadata": {},
   "source": [
    "# Prepare data"
   ]
  },
  {
   "cell_type": "code",
   "execution_count": 2,
   "id": "8d860a91-3fa6-496c-866a-33b1085258ef",
   "metadata": {},
   "outputs": [],
   "source": [
    "from crypto_bot.model.transforms import FilterFeatures, RelativeTransform, ManualNormalizer, ToTensorTransform\n",
    "from sklearn.pipeline import Pipeline\n",
    "from crypto_bot.model.data import MulticlassTradeDataset, plot_df, plot_by_idx\n",
    "\n",
    "features = ['Open', 'High', 'Low', 'Close', 'Volume']\n",
    "transforms = Pipeline([\n",
    "    ('filter_features', FilterFeatures(features)),\n",
    "    ('relative_features', RelativeTransform('Close', ['Open', 'High', 'Low', 'Close'])),\n",
    "    ('normalize_volume', ManualNormalizer('Volume', 52.77450324672268, 66.79777013828863)),\n",
    "    ('to_tensor', ToTensorTransform()),\n",
    "])"
   ]
  },
  {
   "cell_type": "markdown",
   "id": "27a50abd-4373-4150-8a07-c079b8521e0f",
   "metadata": {},
   "source": [
    "## Binary/Multiclass dataset"
   ]
  },
  {
   "cell_type": "code",
   "execution_count": 6,
   "id": "d0d3a67e-8c12-49d0-ad8a-7c25b44b4bef",
   "metadata": {},
   "outputs": [],
   "source": [
    "# Binary\n",
    "train_dataset = BinaryTradeDataset(train_df, transforms, 0.7, stride=1)\n",
    "valid_dataset = BinaryTradeDataset(valid_df, transforms, 0.7, stride=1)\n",
    "\n",
    "# # Multiclass\n",
    "# train_dataset = MulticlassTradeDataset(train_df, transforms, 0.7, -0.3, stride=1)\n",
    "# valid_dataset = MulticlassTradeDataset(valid_df, transforms, 0.7, -0.3, stride=1)\n",
    "\n",
    "train_dataset.precompute()\n",
    "valid_dataset.precompute()"
   ]
  },
  {
   "cell_type": "code",
   "execution_count": 9,
   "id": "54e91990-ae3f-434c-8fee-54aa8a6aa304",
   "metadata": {},
   "outputs": [],
   "source": [
    "train_ds_name = '{}/data_loaders/train_binary_dataset.ds'.format(DATA_FOLDER)\n",
    "valid_ds_name = '{}/data_loaders/valid_binary_dataset.ds'.format(DATA_FOLDER)\n",
    "\n",
    "# Save\n",
    "save_obj(train_ds_name, train_dataset)\n",
    "save_obj(valid_ds_name, valid_dataset)\n",
    "\n",
    "# # Load\n",
    "# train_dataset = load_obj(train_ds_name)\n",
    "# valid_dataset = load_obj(valid_ds_name)"
   ]
  },
  {
   "cell_type": "code",
   "execution_count": 4,
   "id": "7480fb3c-e157-4e26-b362-d41184142d12",
   "metadata": {},
   "outputs": [],
   "source": [
    "save_obj('{}/transforms/basic_transform.tf'.format(DATA_FOLDER), transforms)"
   ]
  },
  {
   "cell_type": "code",
   "execution_count": null,
   "id": "28b02b36-2503-4481-a220-2e5085b3c22e",
   "metadata": {},
   "outputs": [],
   "source": [
    "# Temporary and binary files\n",
    "*~\n",
    "*.py[cod]\n",
    "*.so\n",
    "*.cfg\n",
    "!.isort.cfg\n",
    "!setup.cfg\n",
    "*.orig\n",
    "*.log\n",
    "*.pot\n",
    "__pycache__/*\n",
    ".cache/*\n",
    ".*.swp\n",
    "*/.ipynb_checkpoints/*\n",
    ".DS_Store\n",
    "\n",
    "# Project files\n",
    ".ropeproject\n",
    ".project\n",
    ".pydevproject\n",
    ".settings\n",
    ".idea\n",
    ".vscode\n",
    "tags\n",
    "\n",
    "# Package files\n",
    "*.egg\n",
    "*.eggs/\n",
    ".installed.cfg\n",
    "*.egg-info\n",
    "\n",
    "# Unittest and coverage\n",
    "htmlcov/*\n",
    ".coverage\n",
    ".coverage.*\n",
    ".tox\n",
    "junit*.xml\n",
    "coverage.xml\n",
    ".pytest_cache/\n",
    "\n",
    "# Build and docs folder/files\n",
    "build/*\n",
    "dist/*\n",
    "sdist/*\n",
    "docs/api/*\n",
    "docs/_rst/*\n",
    "docs/_build/*\n",
    "cover/*\n",
    "data/*\n",
    "data_loaders/*\n",
    "MANIFEST\n",
    "\n",
    "# Per-project virtualenvs\n",
    ".venv*/\n",
    ".conda*/"
   ]
  }
 ],
 "metadata": {
  "kernelspec": {
   "display_name": "Python 3 (ipykernel)",
   "language": "python",
   "name": "python3"
  },
  "language_info": {
   "codemirror_mode": {
    "name": "ipython",
    "version": 3
   },
   "file_extension": ".py",
   "mimetype": "text/x-python",
   "name": "python",
   "nbconvert_exporter": "python",
   "pygments_lexer": "ipython3",
   "version": "3.9.7"
  }
 },
 "nbformat": 4,
 "nbformat_minor": 5
}
