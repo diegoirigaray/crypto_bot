{
 "cells": [
  {
   "cell_type": "markdown",
   "id": "8a6b77fa-8062-4f8a-815a-f0a338329b5a",
   "metadata": {
    "tags": []
   },
   "source": [
    "# Testing"
   ]
  },
  {
   "cell_type": "code",
   "execution_count": 1,
   "id": "ec7ef07b-f778-47e7-b7cd-519368c6d493",
   "metadata": {
    "tags": []
   },
   "outputs": [],
   "source": [
    "# Simplification of: https://github.com/binance/binance-public-data/tree/master/python\n",
    "\n",
    "import pandas as pd\n",
    "from datetime import *\n",
    "from dateutil.rrule import rrule, MONTHLY\n",
    "\n",
    "import os, sys\n",
    "from pathlib import Path\n",
    "import urllib.request\n",
    "\n",
    "\n",
    "YEARS = ['2017', '2018', '2019', '2020', '2021']\n",
    "INTERVALS = [\"1m\", \"5m\", \"15m\", \"30m\", \"1h\", \"2h\", \"4h\", \"6h\", \"8h\", \"12h\", \"1d\", \"3d\", \"1w\", \"1mo\"]\n",
    "DAILY_INTERVALS = [\"1m\", \"5m\", \"15m\", \"30m\", \"1h\", \"2h\", \"4h\", \"6h\", \"8h\", \"12h\", \"1d\"]\n",
    "TRADING_TYPE = [\"spot\", \"um\", \"cm\"]\n",
    "MONTHS = list(range(1,13))\n",
    "MAX_DAYS = 35\n",
    "BASE_URL = 'https://data.binance.vision/'\n",
    "START_DATE = date(int(YEARS[0]), MONTHS[0], 1)\n",
    "END_DATE = datetime.date(datetime.now())\n",
    "\n",
    "\n",
    "def get_destination_dir(file_url, folder=None):\n",
    "  # store_directory = os.environ.get('STORE_DIRECTORY')\n",
    "  # if folder:\n",
    "  #   store_directory = folder\n",
    "  # if not store_directory:\n",
    "  #   store_directory = os.path.dirname(os.path.realpath(__file__))\n",
    "  return os.path.join('', file_url)\n",
    "\n",
    "\n",
    "def get_download_url(file_url):\n",
    "  return \"{}{}\".format(BASE_URL, file_url)\n",
    "\n",
    "\n",
    "def download_file(base_path, file_name, date_range=None, folder=None):\n",
    "  download_path = \"{}{}\".format(base_path, file_name)\n",
    "  if folder:\n",
    "    base_path = os.path.join(folder, base_path)\n",
    "  if date_range:\n",
    "    date_range = date_range.replace(\" \",\"_\")\n",
    "    base_path = os.path.join(base_path, date_range)\n",
    "  save_path = get_destination_dir(os.path.join(base_path, file_name), folder)\n",
    "  \n",
    "\n",
    "  if os.path.exists(save_path):\n",
    "    print(\"\\nfile already exists! {}\".format(save_path))\n",
    "    return\n",
    "  \n",
    "  # make the directory\n",
    "  if not os.path.exists(base_path):\n",
    "    Path(get_destination_dir(base_path)).mkdir(parents=True, exist_ok=True)\n",
    "\n",
    "  try:\n",
    "    download_url = get_download_url(download_path)\n",
    "    dl_file = urllib.request.urlopen(download_url)\n",
    "    length = dl_file.getheader('content-length')\n",
    "    if length:\n",
    "      length = int(length)\n",
    "      blocksize = max(4096,length//100)\n",
    "\n",
    "    with open(save_path, 'wb') as out_file:\n",
    "      dl_progress = 0\n",
    "      print(\"\\nFile Download: {}\".format(save_path))\n",
    "      while True:\n",
    "        buf = dl_file.read(blocksize)   \n",
    "        if not buf:\n",
    "          break\n",
    "        dl_progress += len(buf)\n",
    "        out_file.write(buf)\n",
    "        done = int(50 * dl_progress / length)\n",
    "        sys.stdout.write(\"\\r[%s%s]\" % ('#' * done, '.' * (50-done)) )    \n",
    "        sys.stdout.flush()\n",
    "\n",
    "  except urllib.error.HTTPError:\n",
    "    print(\"\\nFile not found: {}\".format(download_url))\n",
    "    pass\n",
    "\n",
    "def convert_to_date_object(d):\n",
    "  year, month, day = [int(x) for x in d.split('-')]\n",
    "  date_obj = date(year, month, day)\n",
    "  return date_obj\n",
    "\n",
    "def get_path(trading_type, market_data_type, time_period, symbol, interval=None):\n",
    "  trading_type_path = 'data/spot'\n",
    "  if trading_type != 'spot':\n",
    "    trading_type_path = f'data/futures/{trading_type}'\n",
    "  if interval is not None:\n",
    "    path = f'{trading_type_path}/{time_period}/{market_data_type}/{symbol.upper()}/{interval}/'\n",
    "  else:\n",
    "    path = f'{trading_type_path}/{time_period}/{market_data_type}/{symbol.upper()}/'\n",
    "  return path\n",
    "\n",
    "\n",
    "def download_monthly_klines(trading_type, symbols, num_symbols, intervals, years, months, start_date, end_date, folder, checksum):\n",
    "  current = 0\n",
    "  date_range = None\n",
    "\n",
    "  # if start_date and end_date:\n",
    "  #   date_range = start_date + \" \" + end_date\n",
    "\n",
    "  if not start_date:\n",
    "    start_date = START_DATE\n",
    "  else:\n",
    "    start_date = convert_to_date_object(start_date)\n",
    "\n",
    "  if not end_date:\n",
    "    end_date = END_DATE\n",
    "  else:\n",
    "    end_date = convert_to_date_object(end_date)\n",
    "\n",
    "  print(\"Found {} symbols\".format(num_symbols))\n",
    "\n",
    "  for symbol in symbols:\n",
    "    print(\"[{}/{}] - start download monthly {} klines \".format(current+1, num_symbols, symbol))\n",
    "    for interval in intervals:\n",
    "      for year in years:\n",
    "        for month in months:\n",
    "          current_date = convert_to_date_object('{}-{}-01'.format(year, month))\n",
    "          if current_date >= start_date and current_date <= end_date:\n",
    "            path = get_path(trading_type, \"klines\", \"monthly\", symbol, interval)\n",
    "            file_name = \"{}-{}-{}-{}.zip\".format(symbol.upper(), interval, year, '{:02d}'.format(month))\n",
    "            download_file(path, file_name, date_range, folder)\n",
    "\n",
    "            if checksum == 1:\n",
    "              checksum_path = get_path(trading_type, \"klines\", \"monthly\", symbol, interval)\n",
    "              checksum_file_name = \"{}-{}-{}-{}.zip.CHECKSUM\".format(symbol.upper(), interval, year, '{:02d}'.format(month))\n",
    "              download_file(checksum_path, checksum_file_name, date_range, folder)\n",
    "\n",
    "    current += 1\n",
    "\n",
    "\n",
    "# CUSTOM CODE\n",
    "def download_data(folder, type='spot', symbols=['BTCUSDT'], intervals=['1m'], years=YEARS, months=MONTHS, startDate=None, endDate=None, checksum=0):\n",
    "    num_symbols = len(symbols)\n",
    "    download_monthly_klines(type, symbols, num_symbols, intervals, years, months, startDate, endDate, folder, checksum)\n",
    "\n",
    "\n",
    "def load_dataframe(folder, start_date, end_date, type='spot', symbol='BTCUSDT', interval='1m'):\n",
    "  cols = ['Date', 'Open', 'High', 'Low', 'Close', 'Volume', 'close_date', 'quote_asset_volume', 'number_of_trades',\t'taker_buy_base_asset_volume', 'taker_buy_quote_asset_volume',\t'ignore']\n",
    "  path = '{}/data/{}/monthly/klines/{}/{}/'.format(folder, type, symbol, interval)\n",
    "\n",
    "  data = []\n",
    "  start, end = datetime.strptime(start_date, '%Y-%m-%d'), datetime.strptime(end_date, '%Y-%m-%d')\n",
    "  rr = rrule(MONTHLY, dtstart=start, until=end)\n",
    "  for p in rr:\n",
    "    file_name = '{}-{}-{}-{:02d}.zip'.format(symbol, interval, p.year, p.month)\n",
    "    data.append(pd.read_csv(path + file_name, names=cols))\n",
    "  \n",
    "  data = pd.concat(data, ignore_index=True)\n",
    "  data['Date'] = pd.to_datetime(data['Date'], unit='ms')\n",
    "  data['close_date'] = pd.to_datetime(data['close_date'], unit='ms')\n",
    "  return data\n"
   ]
  },
  {
   "cell_type": "code",
   "execution_count": 2,
   "id": "47892569-4662-4da1-b8fe-6c1c605a6a5c",
   "metadata": {
    "tags": []
   },
   "outputs": [],
   "source": [
    "import torch\n",
    "from sklearn.base import BaseEstimator, TransformerMixin\n",
    "from sklearn.pipeline import Pipeline\n",
    "\n",
    "\n",
    "class BaseTransform(BaseEstimator, TransformerMixin):\n",
    "    def fit(self, X, y=None):\n",
    "        return self\n",
    "\n",
    "    def transform(self, X):\n",
    "        return X\n",
    "\n",
    "\n",
    "class FilterFeatures(BaseTransform):\n",
    "    '''\n",
    "    Devuelve un subset del dataframe de entrada unicamente con las\n",
    "    features seleccionadas.\n",
    "    '''\n",
    "    def __init__(self, features=[]):\n",
    "        self.features = features\n",
    "\n",
    "    def transform(self, X):\n",
    "        return X[self.features].copy()\n",
    "\n",
    "\n",
    "class RelativeTransform(BaseTransform):\n",
    "    def __init__(self, ref_col, target_cols):\n",
    "        self.ref_col = ref_col\n",
    "        self.target_cols = target_cols\n",
    "    \n",
    "    def transform(self, X):\n",
    "        ref_value = X.iloc[-1][self.ref_col]\n",
    "        ref_factor = 100 / ref_value\n",
    "        \n",
    "        X[self.target_cols] = (X[self.target_cols] * ref_factor) - 100\n",
    "        return X\n",
    "\n",
    "\n",
    "class ManualNormalizer(BaseTransform):\n",
    "    def __init__(self, feature, mean, std):\n",
    "        self.feature = feature\n",
    "        self.mean = mean\n",
    "        self.std = std\n",
    "    \n",
    "    def transform(self, X):\n",
    "        X[self.feature] = (X[self.feature] - self.mean) / self.std\n",
    "        return X\n",
    "\n",
    "\n",
    "class ToTensorTransform(BaseTransform):\n",
    "    def transform(self, X):\n",
    "        return torch.tensor(X.values).transpose(0, 1)"
   ]
  },
  {
   "cell_type": "code",
   "execution_count": 3,
   "id": "f6fcf3a0-615c-47d9-8aa4-6751cadfa520",
   "metadata": {
    "tags": []
   },
   "outputs": [],
   "source": [
    "import torch\n",
    "import numpy as np\n",
    "import mplfinance as fplt\n",
    "import plotly.graph_objects as go\n",
    "from torch.utils.data import Dataset, WeightedRandomSampler\n",
    "\n",
    "\n",
    "PLOT_PARAMS = {\n",
    "    'type': 'candle',\n",
    "    'style': 'charles',\n",
    "    'volume': True,\n",
    "    'show_nontrading': True\n",
    "}\n",
    "\n",
    "\n",
    "def plot_df_simlpe(df):\n",
    "    df_plot = df.copy()\n",
    "    df_plot.set_index('Date', inplace=True, drop=True)\n",
    "    fplt.plot(df_plot, **PLOT_PARAMS)\n",
    "\n",
    "\n",
    "def plot_df_interactive(df):\n",
    "    fig = go.Figure(data=[go.Candlestick(\n",
    "        x=df['Date'],\n",
    "        open=df['Open'],\n",
    "        high=df['High'],\n",
    "        low=df['Low'],\n",
    "        close=df['Close'])])\n",
    "    fig.update_layout(xaxis_rangeslider_visible=False)\n",
    "    # fig.show()\n",
    "    return fig\n",
    "\n",
    "\n",
    "def plot_by_date(df, min_date, max_date):\n",
    "    df_plot = df[(df.Open >= min_date) & (df.Open < max_date)].copy()\n",
    "    df_plot.set_index('Date', inplace=True, drop=True)\n",
    "    fplt.plot(df_plot, **PLOT_PARAMS)\n",
    "\n",
    "\n",
    "def plot_by_idx(df, min_idx, max_idx):\n",
    "    df_plot = df[(df.index >= min_idx) & (df.index < max_idx)].copy()\n",
    "    df_plot.set_index('Date', inplace=True, drop=True)\n",
    "    fplt.plot(df_plot, **PLOT_PARAMS)\n",
    "\n",
    "\n",
    "def get_class_weights(ds, n_classes):\n",
    "    class_counts = {}\n",
    "    binary = len(ds[0][1].size()) == 0\n",
    "    for c in range(n_classes):\n",
    "        class_counts[c] = 0\n",
    "    \n",
    "    for _, target in ds:\n",
    "        if binary:\n",
    "            class_counts[target.item()] += 1\n",
    "        else:\n",
    "            class_counts[torch.argmax(target).item()] += 1\n",
    "    \n",
    "    weights = []\n",
    "    for c in range(n_classes):\n",
    "        weights.append(1 / class_counts[c])\n",
    "    \n",
    "    return tuple(weights)\n",
    "\n",
    "\n",
    "def get_scaled_class_weights(ds, n_classes):\n",
    "    class_weights = torch.tensor(get_class_weights(ds, n_classes))\n",
    "    return torch.max(class_weights) / class_weights\n",
    "\n",
    "\n",
    "def get_weighted_random_sampler(ds, class_weights):\n",
    "    sample_weights = []\n",
    "    binary = len(ds[0][1].size()) == 0\n",
    "    \n",
    "    for _, target in ds:\n",
    "        if binary:\n",
    "            sample_weights.append(class_weights[target.item()])\n",
    "        else:\n",
    "            sample_weights.append(class_weights[torch.argmax(target).item()])\n",
    "    \n",
    "    sample_weights = torch.from_numpy(np.array(sample_weights))\n",
    "    return WeightedRandomSampler(sample_weights, len(sample_weights))\n",
    "\n",
    "\n",
    "class BaseTradingDataset(Dataset):\n",
    "    REF_COL = 'Close'\n",
    "    REF_MAX_COL = 'Close'\n",
    "    REF_MIN_COL = 'Close'\n",
    "\n",
    "    def __init__(self, df, transforms, train_window_size=25, pred_window_size=15, stride=1):\n",
    "        self.df = df\n",
    "        self.transforms = transforms\n",
    "        self.train_window_size = train_window_size\n",
    "        self.pred_window_size = pred_window_size\n",
    "        self.stride = stride\n",
    "\n",
    "        self._precomputed_data = None\n",
    "        self._precomputed_target = None\n",
    "\n",
    "    def __len__(self):\n",
    "        full_window = self.train_window_size + self.pred_window_size\n",
    "        return (len(self.df) - full_window + 1) // self.stride\n",
    "    \n",
    "    def get_label_from_target(self, price, target):\n",
    "        pass\n",
    "\n",
    "    def _get_data(self, idx, raw=False):\n",
    "        start = idx * self.stride\n",
    "        end = start + self.train_window_size\n",
    "        data = self.df[start:end].copy()\n",
    "        if not raw:\n",
    "            data = self.transforms.transform(data)\n",
    "        return data\n",
    "    \n",
    "    def _get_target(self, idx, raw=False):\n",
    "        start = (idx * self.stride) + self.train_window_size\n",
    "        end = start + self.pred_window_size\n",
    "        target = self.df[start:end].copy()\n",
    "        if not raw:\n",
    "            price = self.df.iloc[start - 1][self.REF_COL]\n",
    "            target = self.get_label_from_target(price, target)\n",
    "        return target\n",
    "\n",
    "    def precompute_data(self):\n",
    "        data = []\n",
    "        for i in range(len(self)):\n",
    "            data.append(self._get_data(i))\n",
    "        self._precomputed_data = torch.stack(data)\n",
    "    \n",
    "    def precompute_target(self):\n",
    "        target = []\n",
    "        for i in range(len(self)):\n",
    "            target.append(self._get_target(i))\n",
    "        self._precomputed_target = torch.stack(target)\n",
    "\n",
    "    def precompute(self):\n",
    "        self.precompute_data()\n",
    "        self.precompute_target()\n",
    "    \n",
    "    def to(self, device):\n",
    "        if self._precomputed_data is not None:\n",
    "            self._precomputed_data = self._precomputed_data.to(device)\n",
    "        if self._precomputed_target is not None:\n",
    "            self._precomputed_target = self._precomputed_target.to(device)\n",
    "\n",
    "    def __getitem__(self, idx):\n",
    "        if idx >= len(self):\n",
    "            raise StopIteration\n",
    "        \n",
    "        if self._precomputed_data is not None:\n",
    "            data = self._precomputed_data[idx]\n",
    "        else:\n",
    "            data = self._get_data(idx)\n",
    "        \n",
    "        if self._precomputed_target is not None:\n",
    "            target = self._precomputed_target[idx]\n",
    "        else:\n",
    "            target = self._get_target(idx)\n",
    "\n",
    "        # data = torch.tensor(data.values).transpose(0, 1)\n",
    "        return data, target\n",
    "\n",
    "\n",
    "class BinaryTradeDataset(BaseTradingDataset):\n",
    "    def __init__(self, df, transforms, threshold, increase=True, **kwargs):\n",
    "        super().__init__(df, transforms, **kwargs)\n",
    "        self.threshold = threshold\n",
    "        self.increase = increase\n",
    "    \n",
    "    def update_target(self, threshold, increase, precompute=True):\n",
    "        self.threshold = threshold\n",
    "        self.increase = increase\n",
    "        \n",
    "        if precompute:\n",
    "            self.precompute_target\n",
    "    \n",
    "    def get_label_from_target(self, price, target):\n",
    "        if self.increase:\n",
    "            max_value = target[self.REF_MAX_COL].max()\n",
    "            diff = (max_value * 100 / price) - 100\n",
    "            return torch.tensor((diff > self.threshold) * 1)\n",
    "        if not self.increase:\n",
    "            min_value = target[self.REF_MIN_COL].min()\n",
    "            diff = (min_value * 100 / price) - 100\n",
    "            return torch.tensor((diff < self.threshold) * 1)\n",
    "\n",
    "\n",
    "class MulticlassTradeDataset(BaseTradingDataset):\n",
    "    '''\n",
    "    Multiclass target with 4 classes:\n",
    "    Class 1: Upper bound broken without previously breaking lower bound\n",
    "    Class 2: Lower bound broken without previously breaking upper bound\n",
    "    Class 3: Else (no bound broken)\n",
    "    '''\n",
    "    def __init__(self, df, transforms, sup_threshold, inf_threshold, **kwargs):\n",
    "        super().__init__(df, transforms, **kwargs)\n",
    "        self.sup_threshold = sup_threshold\n",
    "        self.inf_threshold = inf_threshold\n",
    "    \n",
    "    def update_target(self, sup_threshold, inf_threshold, precompute=True):\n",
    "        self.sup_threshold = sup_threshold\n",
    "        self.inf_threshold = inf_threshold\n",
    "\n",
    "        if precompute:\n",
    "            self.precompute_target\n",
    "    \n",
    "    def get_label_from_target(self, price, target):\n",
    "        sup_price = price * (1 + (self.sup_threshold / 100))\n",
    "        inf_price = price * (1 + (self.inf_threshold / 100))\n",
    "\n",
    "        over = target[target[self.REF_MAX_COL] > sup_price]\n",
    "        if not over.empty:\n",
    "            pos = over.index[0]\n",
    "            if target[target.index <= pos][self.REF_MIN_COL].min() > inf_price:\n",
    "                return torch.tensor([1, 0, 0])\n",
    "        \n",
    "        if target[self.REF_MIN_COL].min() < inf_price:\n",
    "            return torch.tensor([0, 1, 0])\n",
    "            \n",
    "        return torch.tensor([0, 0, 1])"
   ]
  },
  {
   "cell_type": "code",
   "execution_count": 9,
   "id": "0d62b3b0-4f0c-4adc-b9dc-4d7d2b2d9bad",
   "metadata": {
    "collapsed": true,
    "jupyter": {
     "outputs_hidden": true
    },
    "tags": []
   },
   "outputs": [
    {
     "name": "stdout",
     "output_type": "stream",
     "text": [
      "Found 1 symbols\n",
      "[1/1] - start download monthly BTCUSDT klines \n",
      "\n",
      "File Download: /Users/dirigaray/repos/crypto_bot/data/data/spot/monthly/klines/BTCUSDT/15m/BTCUSDT-15m-2020-01.zip\n",
      "[##################################################]\n",
      "File Download: /Users/dirigaray/repos/crypto_bot/data/data/spot/monthly/klines/BTCUSDT/15m/BTCUSDT-15m-2020-02.zip\n",
      "[##################################################]\n",
      "File Download: /Users/dirigaray/repos/crypto_bot/data/data/spot/monthly/klines/BTCUSDT/15m/BTCUSDT-15m-2020-03.zip\n",
      "[##################################################]\n",
      "File Download: /Users/dirigaray/repos/crypto_bot/data/data/spot/monthly/klines/BTCUSDT/15m/BTCUSDT-15m-2020-04.zip\n",
      "[##################################################]\n",
      "File Download: /Users/dirigaray/repos/crypto_bot/data/data/spot/monthly/klines/BTCUSDT/15m/BTCUSDT-15m-2020-05.zip\n",
      "[##################################################]\n",
      "File Download: /Users/dirigaray/repos/crypto_bot/data/data/spot/monthly/klines/BTCUSDT/15m/BTCUSDT-15m-2020-06.zip\n",
      "[##################################################]\n",
      "File Download: /Users/dirigaray/repos/crypto_bot/data/data/spot/monthly/klines/BTCUSDT/15m/BTCUSDT-15m-2020-07.zip\n",
      "[##################################################]\n",
      "File Download: /Users/dirigaray/repos/crypto_bot/data/data/spot/monthly/klines/BTCUSDT/15m/BTCUSDT-15m-2020-08.zip\n",
      "[##################################################]\n",
      "File Download: /Users/dirigaray/repos/crypto_bot/data/data/spot/monthly/klines/BTCUSDT/15m/BTCUSDT-15m-2020-09.zip\n",
      "[##################################################]\n",
      "File Download: /Users/dirigaray/repos/crypto_bot/data/data/spot/monthly/klines/BTCUSDT/15m/BTCUSDT-15m-2020-10.zip\n",
      "[##################################################]\n",
      "File Download: /Users/dirigaray/repos/crypto_bot/data/data/spot/monthly/klines/BTCUSDT/15m/BTCUSDT-15m-2020-11.zip\n",
      "[##################################################]\n",
      "File Download: /Users/dirigaray/repos/crypto_bot/data/data/spot/monthly/klines/BTCUSDT/15m/BTCUSDT-15m-2020-12.zip\n",
      "[##################################################]\n",
      "File Download: /Users/dirigaray/repos/crypto_bot/data/data/spot/monthly/klines/BTCUSDT/15m/BTCUSDT-15m-2021-01.zip\n",
      "[##################################################]\n",
      "File Download: /Users/dirigaray/repos/crypto_bot/data/data/spot/monthly/klines/BTCUSDT/15m/BTCUSDT-15m-2021-02.zip\n",
      "[##################################################]"
     ]
    }
   ],
   "source": [
    "# download_data('/Users/dirigaray/repos/crypto_bot/data', startDate='2020-01-01', endDate='2021-02-01', intervals=['15m'])"
   ]
  },
  {
   "cell_type": "code",
   "execution_count": null,
   "id": "e724fa67-655b-40f9-937f-79f73e14044e",
   "metadata": {},
   "outputs": [],
   "source": []
  },
  {
   "cell_type": "code",
   "execution_count": 4,
   "id": "6e458486-5120-49bb-9ebd-ba10742fb1b4",
   "metadata": {
    "tags": []
   },
   "outputs": [],
   "source": [
    "%load_ext autoreload\n",
    "%autoreload 2\n",
    "\n",
    "import pandas as pd\n",
    "import numpy as np\n",
    "import torch\n",
    "# from crypto_bot.utils import save_obj, load_obj\n",
    "# from crypto_bot.binance.data_utils import download_data, load_dataframe\n",
    "# from crypto_bot.model.data import BinaryTradeDataset, MulticlassTradeDataset\n",
    "\n",
    "# DATA_FOLDER = 'C:/Users/diego/crypto_bot/data'\n",
    "# WEIGHTS_PATH = 'C:/Users/diego/crypto_bot/data/models'"
   ]
  },
  {
   "cell_type": "markdown",
   "id": "17821412-7013-4c97-aa00-8c987e0cba29",
   "metadata": {
    "jp-MarkdownHeadingCollapsed": true,
    "tags": []
   },
   "source": [
    "# Download data"
   ]
  },
  {
   "cell_type": "code",
   "execution_count": null,
   "id": "c2ae6554-275c-4015-93e4-1044a01ca126",
   "metadata": {
    "collapsed": true,
    "jupyter": {
     "outputs_hidden": true
    },
    "tags": []
   },
   "outputs": [
    {
     "name": "stdout",
     "output_type": "stream",
     "text": [
      "Found 1 symbols\n",
      "[1/1] - start download monthly BTCUSDT klines \n",
      "\n",
      "File not found: https://data.binance.vision//spot/monthly/klines/BTCUSDT/1h/BTCUSDT-1h-2020-01.zip\n",
      "\n",
      "File not found: https://data.binance.vision//spot/monthly/klines/BTCUSDT/1h/BTCUSDT-1h-2020-02.zip\n"
     ]
    }
   ],
   "source": [
    "download_data(DATA_FOLDER, startDate='2020-01-01', endDate='2022-01-01', intervals=['1h'])"
   ]
  },
  {
   "cell_type": "markdown",
   "id": "85a0065e-bd75-4123-8bc1-624c7071dc23",
   "metadata": {
    "jp-MarkdownHeadingCollapsed": true,
    "tags": []
   },
   "source": [
    "# Load data"
   ]
  },
  {
   "cell_type": "code",
   "execution_count": 2,
   "id": "5bbc0e45-7d20-4646-9051-b5a0de1c6e3d",
   "metadata": {},
   "outputs": [],
   "source": [
    "train_df = load_dataframe(DATA_FOLDER, '2020-01-01', '2021-10-30', interval='1h')\n",
    "valid_df = load_dataframe(DATA_FOLDER, '2021-11-01', '2021-12-30', interval='1h')"
   ]
  },
  {
   "cell_type": "code",
   "execution_count": 6,
   "id": "6e9fa89d-410b-47d1-90d6-00446df66fb4",
   "metadata": {},
   "outputs": [
    {
     "data": {
      "text/plain": [
       "(16050, 12)"
      ]
     },
     "execution_count": 6,
     "metadata": {},
     "output_type": "execute_result"
    }
   ],
   "source": [
    "train_df.shape"
   ]
  },
  {
   "cell_type": "markdown",
   "id": "646366b2-9949-4e8f-9611-0530250acacf",
   "metadata": {
    "jp-MarkdownHeadingCollapsed": true,
    "tags": []
   },
   "source": [
    "# Prepare data"
   ]
  },
  {
   "cell_type": "code",
   "execution_count": 10,
   "id": "8d860a91-3fa6-496c-866a-33b1085258ef",
   "metadata": {},
   "outputs": [],
   "source": [
    "from crypto_bot.model.transforms import FilterFeatures, RelativeTransform, ManualNormalizer, ToTensorTransform\n",
    "from sklearn.pipeline import Pipeline\n",
    "from crypto_bot.model.data import MulticlassTradeDataset\n",
    "\n",
    "features = ['Open', 'High', 'Low', 'Close', 'Volume']\n",
    "transforms = Pipeline([\n",
    "    ('filter_features', FilterFeatures(features)),\n",
    "    ('relative_features', RelativeTransform('Close', ['Open', 'High', 'Low', 'Close'])),\n",
    "    ('normalize_volume', ManualNormalizer('Volume', 253.104670, 294.186058)),\n",
    "    ('to_tensor', ToTensorTransform()),\n",
    "])"
   ]
  },
  {
   "cell_type": "markdown",
   "id": "27a50abd-4373-4150-8a07-c079b8521e0f",
   "metadata": {},
   "source": [
    "## Binary/Multiclass dataset"
   ]
  },
  {
   "cell_type": "code",
   "execution_count": 11,
   "id": "d0d3a67e-8c12-49d0-ad8a-7c25b44b4bef",
   "metadata": {},
   "outputs": [],
   "source": [
    "# Binary\n",
    "train_dataset = BinaryTradeDataset(train_df, transforms, 0.8, stride=3)\n",
    "valid_dataset = BinaryTradeDataset(valid_df, transforms, 0.8, stride=3)\n",
    "\n",
    "# # Multiclass\n",
    "# train_dataset = MulticlassTradeDataset(train_df, transforms, 0.7, -0.3, stride=1)\n",
    "# valid_dataset = MulticlassTradeDataset(valid_df, transforms, 0.7, -0.3, stride=1)\n",
    "\n",
    "train_dataset.precompute()\n",
    "valid_dataset.precompute()"
   ]
  },
  {
   "cell_type": "code",
   "execution_count": 14,
   "id": "54e91990-ae3f-434c-8fee-54aa8a6aa304",
   "metadata": {},
   "outputs": [],
   "source": [
    "train_ds_name = '{}/data_loaders/train_5m_v1.ds'.format(DATA_FOLDER)\n",
    "valid_ds_name = '{}/data_loaders/valid_5m_v1.ds'.format(DATA_FOLDER)\n",
    "\n",
    "# Save\n",
    "save_obj(train_ds_name, train_dataset)\n",
    "save_obj(valid_ds_name, valid_dataset)\n",
    "\n",
    "# # Load\n",
    "# train_dataset = load_obj(train_ds_name)\n",
    "# valid_dataset = load_obj(valid_ds_name)"
   ]
  },
  {
   "cell_type": "markdown",
   "id": "8051d933-e278-4757-ac53-bb9cc93b9d98",
   "metadata": {},
   "source": [
    "# Load data"
   ]
  },
  {
   "cell_type": "code",
   "execution_count": 5,
   "id": "ed2f8726-07bc-423a-97c1-2681c86d3f49",
   "metadata": {},
   "outputs": [
    {
     "data": {
      "text/plain": [
       "(2957, 12)"
      ]
     },
     "execution_count": 5,
     "metadata": {},
     "output_type": "execute_result"
    }
   ],
   "source": [
    "ds = load_dataframe('/Users/dirigaray/repos/crypto_bot/data', start_date='2020-12-01', end_date='2020-12-30', interval='15m')\n",
    "ds.shape"
   ]
  },
  {
   "cell_type": "code",
   "execution_count": 308,
   "id": "939bc89a-5ca7-482f-9f5d-da0ddaa511fc",
   "metadata": {},
   "outputs": [
    {
     "data": {
      "text/plain": [
       "{1: '_1', 2: '_2', 3: '_3'}"
      ]
     },
     "execution_count": 308,
     "metadata": {},
     "output_type": "execute_result"
    }
   ],
   "source": [
    "{k: '_{}'.format(k) for k in [1,2,3]}"
   ]
  },
  {
   "cell_type": "code",
   "execution_count": 69,
   "id": "f105b5d5-5996-4406-9561-79dbbdbb1ff1",
   "metadata": {},
   "outputs": [],
   "source": [
    "# from crypto_bot.model.transforms import BaseTransform\n",
    "from talib.abstract import Function\n",
    "\n",
    "\n",
    "class BaseCandlestickTransform(BaseTransform):\n",
    "    OPEN = 'Open'\n",
    "    HIGH = 'High'\n",
    "    LOW = 'Low'\n",
    "    CLOSE = 'Close'\n",
    "    VOLUME = 'Volume'\n",
    "\n",
    "\n",
    "class TalibBaseTransform(BaseCandlestickTransform):\n",
    "    '''\n",
    "    Base Class for using talib functions as transforms\n",
    "    https://github.com/mrjbq7/ta-lib\n",
    "    '''\n",
    "\n",
    "    def __init__(self, func_name, output_name, **kwargs):\n",
    "        self.func_name = func_name\n",
    "        self.output_name = output_name\n",
    "        self.kwargs = kwargs\n",
    "        self.f = Function(func_name)\n",
    "    \n",
    "    def transform(self, X):\n",
    "        inputs = {\n",
    "            'open': X[self.OPEN],\n",
    "            'high': X[self.HIGH],\n",
    "            'low': X[self.LOW],\n",
    "            'close': X[self.CLOSE],\n",
    "            'volume': X[self.VOLUME]\n",
    "        }\n",
    "        output = self.f(inputs, **self.kwargs)\n",
    "        if len(output) == len(X):\n",
    "            X[self.output_name] = self.f(inputs, **self.kwargs)\n",
    "        else:\n",
    "            names = {k: '{}_{}'.format(self.output_name, k) for k in range(len(output))}\n",
    "            output = pd.DataFrame(output).transpose().rename(columns=names)\n",
    "            X = pd.concat([X, output], axis=1)\n",
    "        return X\n",
    "\n",
    "\n",
    "class MovingAverageTransform(TalibBaseTransform):\n",
    "    '''\n",
    "    DEMA                 Double Exponential Moving Average\n",
    "    EMA                  Exponential Moving Average\n",
    "    KAMA                 Kaufman Adaptive Moving Average\n",
    "    MA                   Moving average\n",
    "    MAMA                 MESA Adaptive Moving Average\n",
    "    MAVP                 Moving average with variable period\n",
    "    SMA                  Simple Moving Average\n",
    "    T3                   Triple Exponential Moving Average (T3)\n",
    "    TEMA                 Triple Exponential Moving Average\n",
    "    TRIMA                Triangular Moving Average\n",
    "    WMA                  Weighted Moving Average\n",
    "    '''\n",
    "    def __init__(self, func_name, timeperiod=30, **kwargs):\n",
    "        self.output_name = '{}_{}'.format(func_name.lower(), timeperiod)\n",
    "        super().__init__(func_name, self.output_name, timeperiod=timeperiod, **kwargs)\n",
    "\n",
    "\n",
    "class CrossBaseTransform(BaseCandlestickTransform):\n",
    "    '''\n",
    "    Calculates when 2 columns values cross one each other\n",
    "    (the larger one changes from the previous candle to the next one)\n",
    "    '''\n",
    "    def __init__(self, col_a, col_b, result):\n",
    "        self.col_a = col_a\n",
    "        self.col_b = col_b\n",
    "        self.result = result\n",
    "    \n",
    "    def transform(self, X):\n",
    "        r = [0]\n",
    "        for i in range(1, len(X)):\n",
    "            r1 = X.iloc[i - 1]\n",
    "            r2 = X.iloc[i]\n",
    "            r.append(int(r1[self.col_a] < r1[self.col_b] and r2[self.col_a] > r2[self.col_b]))\n",
    "\n",
    "        X[self.result] = r\n",
    "        return X\n",
    "\n",
    "\n",
    "class MAWithCrossesTransform(BaseCandlestickTransform):\n",
    "    def __init__(self, func_name, short, long, **kwargs):\n",
    "        if short >= long:\n",
    "            raise Exception('\"short\" timeperiod must be smaller than \"long\".')\n",
    "        self.func_name = func_name\n",
    "        self.short = short\n",
    "        self.long = long\n",
    "\n",
    "        short_col = '{}_{}'.format(func_name.lower(), short)\n",
    "        long_col = '{}_{}'.format(func_name.lower(), long)\n",
    "        cross_col = '{}_{}_{}_'.format(func_name.lower(), short, long)\n",
    "        self.pipe = Pipeline([\n",
    "            ('short', MovingAverageTransform(func_name, short, **kwargs)),\n",
    "            ('long', MovingAverageTransform(func_name, long, **kwargs)),\n",
    "            ('golden', CrossBaseTransform(short_col, long_col, cross_col + 'golden-cross')),\n",
    "            ('death', CrossBaseTransform(long_col, short_col, cross_col + 'death-cross'))\n",
    "        ])\n",
    "    \n",
    "    def transform(self, X):\n",
    "        return self.pipe.transform(X)\n",
    "\n",
    "\n",
    "class LocalMinMaxBaseTransform(BaseCandlestickTransform):\n",
    "    FUNC = None\n",
    "\n",
    "    def __init__(self, steps=5):\n",
    "        self.steps = steps\n",
    "        self.radius = int((steps / 2) if (steps % 2 == 0) else ((steps - 1) / 2))\n",
    "        self.result_name = 'local{}_{}'.format(self.FUNC, steps)\n",
    "    \n",
    "    def transform(self, X):\n",
    "        i = self.radius\n",
    "        indexes = []\n",
    "        values = []\n",
    "        prices = X[self.CLOSE]\n",
    "        \n",
    "        while i < len(X) - self.radius:\n",
    "            if prices.iloc[i] == getattr(prices.iloc[(i - self.radius):(i + self.radius + 1)], self.FUNC)():\n",
    "                indexes.append(i)\n",
    "                values.append(prices.iloc[i])\n",
    "                i += self.radius + 1\n",
    "            else:\n",
    "                i += 1\n",
    "        \n",
    "        X[self.result_name] = pd.Series(values, index=indexes)\n",
    "        return X\n",
    "\n",
    "\n",
    "class LocalMinTransform(LocalMinMaxBaseTransform):\n",
    "    FUNC = 'min'\n",
    "\n",
    "\n",
    "class LocalMaxTransform(LocalMinMaxBaseTransform):\n",
    "    FUNC = 'max'\n",
    "\n",
    "\n",
    "class MovingWindowBaseTransform(BaseCandlestickTransform):\n",
    "    def __init__(self, steps, values_col, result_name, drop_last=0, default=0, run_incomplete=False):\n",
    "        self.steps = sorted(steps if isinstance(steps, list) else [steps])\n",
    "        self.values_col = values_col\n",
    "        self.result_name = result_name\n",
    "        self.drop_last = drop_last\n",
    "        self.default = default\n",
    "        self.run_incomplete = run_incomplete\n",
    "    \n",
    "    def _get_objective(self, subset):\n",
    "        pass\n",
    "    \n",
    "    def transform(self, X):\n",
    "        values = X[self.values_col]\n",
    "        indexes = []\n",
    "        result = {}\n",
    "        for j in self.steps:\n",
    "            result['{}_{}'.format(self.result_name, j)] = []\n",
    "\n",
    "        i = len(X) - 1\n",
    "        while i >= 0:\n",
    "            skip = False\n",
    "            indexes.append(i)\n",
    "\n",
    "            for j in self.steps:\n",
    "                obj = self.default\n",
    "                if self.run_incomplete or i + 1 >= j:\n",
    "                    subset = values[max(0, i + 1 - j):i + 1 - self.drop_last]\n",
    "                    obj = self._get_objective(subset)\n",
    "                result['{}_{}'.format(self.result_name, j)].append(obj)\n",
    "            i -= 1\n",
    "        \n",
    "        X = pd.concat([X, pd.DataFrame(result, index=indexes)], axis=1)\n",
    "        return X\n",
    "\n",
    "class HighersLowersBaseTransform(MovingWindowBaseTransform):\n",
    "    FUNC = None\n",
    "\n",
    "    def __init__(self, steps, values_col, suffix, radius=2):\n",
    "        result_name = '{}{}'.format(self.FUNC, suffix)\n",
    "        super().__init__(steps, values_col, result_name, drop_last=radius, default=0, run_incomplete=False)\n",
    "    \n",
    "    def _sorted(self, values):\n",
    "        for i in range(1, len(values)):\n",
    "            if self.FUNC == 'higher':\n",
    "                if values[i] < values[i - 1]:\n",
    "                    return False\n",
    "            else:\n",
    "                if values[i] > values[i - 1]:\n",
    "                    return False\n",
    "        return True\n",
    "    \n",
    "    def _get_objective(self, subset):\n",
    "        subset = subset.dropna().tolist()\n",
    "        return len(subset) if self._sorted(subset) else 0\n",
    "\n",
    "\n",
    "class HighersTransform(HighersLowersBaseTransform):\n",
    "    FUNC = 'higher'\n",
    "\n",
    "\n",
    "class LowersTransform(HighersLowersBaseTransform):\n",
    "    FUNC = 'lower'\n",
    "\n",
    "\n",
    "class MinMaxBaseTransform(MovingWindowBaseTransform):\n",
    "    FUNC = None\n",
    "    \n",
    "    def __init__(self, steps, values_col, result_name, radius=2):\n",
    "        result_name += '_{}'.format(self.FUNC)\n",
    "        super().__init__(steps, values_col, result_name, drop_last=radius, default=0, run_incomplete=False)\n",
    "\n",
    "    def _get_objective(self, subset):\n",
    "        val = getattr(subset, self.FUNC)()\n",
    "        return val if val else 0\n",
    "\n",
    "\n",
    "class MinWindowTransform(MinMaxBaseTransform):\n",
    "    FUNC = 'min'\n",
    "\n",
    "\n",
    "class MaxWindowTransform(MinMaxBaseTransform):\n",
    "    FUNC = 'max'\n",
    "\n",
    "\n",
    "class CountCondTransform(MovingWindowBaseTransform):\n",
    "    def __init__(self, steps, values_col, result_name, value, cond='eq', drop_last=0):\n",
    "        self.value = value\n",
    "        self.cond = cond\n",
    "        result_name += '_{}{}'.format(cond, value)\n",
    "        super().__init__(steps, values_col, result_name, drop_last=drop_last, default=0, run_incomplete=False)\n",
    "\n",
    "    def _get_objective(self, subset):\n",
    "        if self.cond == 'eq':\n",
    "            count = (subset == self.value).sum()\n",
    "        elif self.cond == 'gt':\n",
    "            count = (subset > self.value).sum()\n",
    "        elif self.cond == 'lt':\n",
    "            count = (subset < self.value).sum()\n",
    "        elif self.cond == 'neq':\n",
    "            count = (subset != self.value).sum()\n",
    "        return count\n",
    "\n",
    "\n",
    "class CountCondCrossTransform(MovingWindowBaseTransform):\n",
    "    def __init__(self, steps, values_col, result_name, value, cond='eq', drop_last=0):\n",
    "        self.value = value\n",
    "        self.cond = cond\n",
    "        result_name += '_{}{}'.format(cond, value)\n",
    "        super().__init__(steps, values_col, result_name, drop_last=drop_last, default=0, run_incomplete=False)\n",
    "\n",
    "    def _get_objective(self, subset):\n",
    "        if self.cond == 'eq':\n",
    "            count = (subset == self.value).sum()\n",
    "        elif self.cond == 'gt':\n",
    "            count = (subset > self.value).sum()\n",
    "        elif self.cond == 'lt':\n",
    "            count = (subset < self.value).sum()\n",
    "        elif self.cond == 'neq':\n",
    "            count = (subset != self.value).sum()\n",
    "        return count\n",
    "\n",
    "\n",
    "class SupportResistanceBounceBaseTransform(BaseCandlestickTransform):\n",
    "    TYPE = None\n",
    "\n",
    "    def __init__(self, base_col, steps=5, bounce_strength=1):\n",
    "        self.base_col = base_col\n",
    "        self.steps = steps\n",
    "        self.bounce_strength = bounce_strength\n",
    "        self.radius = int((steps / 2) if (steps % 2 == 0) else ((steps - 1) / 2))\n",
    "        self.result_name = '{}_{}_{}'.format('sup' if self.TYPE == 'support' else 'res', base_col, steps)\n",
    "    \n",
    "    def transform(self, X):\n",
    "        i = self.radius\n",
    "        indexes = []\n",
    "        values = []\n",
    "        prices = X[self.CLOSE]\n",
    "        base = X[self.base_col]\n",
    "        \n",
    "        while i < len(X) - self.radius:\n",
    "            c_m, c_l, c_r = prices.iloc[i], prices.iloc[i - self.radius], prices.iloc[i + self.radius]\n",
    "            b_m, b_l, b_r = base.iloc[i], base.iloc[i - self.radius], base.iloc[i + self.radius]\n",
    "            sup = ((self.TYPE == 'support') and (c_m < b_m) and (c_l > b_l) and (c_r > b_r))\n",
    "            res = ((self.TYPE != 'support') and (c_m > b_m) and (c_l < b_l) and (c_r < b_r))\n",
    "            dist_cond = (\n",
    "                (self.bounce_strength * abs(c_m - b_m) < abs(c_l - b_l)) and\n",
    "                (self.bounce_strength * abs(c_m - b_m) < abs(c_r - b_r))\n",
    "            )\n",
    "            local_min = c_m == prices.iloc[(i - self.radius):(i + self.radius + 1)].min()\n",
    "            if (sup or res) and dist_cond and local_min:\n",
    "                indexes.append(i)\n",
    "                values.append(c_m)\n",
    "                i += self.radius + 1\n",
    "            else:\n",
    "                i += 1\n",
    "        \n",
    "        X[self.result_name] = pd.Series(values, index=indexes)\n",
    "        return X\n",
    "\n",
    "\n",
    "class SupportBounceTransform(SupportResistanceBounceBaseTransform):\n",
    "    TYPE = 'support'\n",
    "\n",
    "\n",
    "class ResistanceBounceTransform(SupportResistanceBounceBaseTransform):\n",
    "    TYPE = 'resistance'"
   ]
  },
  {
   "cell_type": "code",
   "execution_count": 73,
   "id": "478d1d93-8f0f-404a-8bc2-1b6ed0899c10",
   "metadata": {},
   "outputs": [],
   "source": [
    "pipe = Pipeline([\n",
    "    # Overlap Studies\n",
    "    ('EMA', MovingAverageTransform('EMA', timeperiod=24)),\n",
    "    ('BOUNCE', SupportBounceTransform('ema_24', 7, 3)),\n",
    "])"
   ]
  },
  {
   "cell_type": "code",
   "execution_count": 74,
   "id": "580f266f-0562-4dc4-9fb8-337382c988d6",
   "metadata": {},
   "outputs": [],
   "source": [
    "dst = pipe.transform(ds.copy())"
   ]
  },
  {
   "cell_type": "code",
   "execution_count": 75,
   "id": "ba5672d8-5b54-48b9-8fe2-b8f8d2bdb3fe",
   "metadata": {},
   "outputs": [
    {
     "data": {
      "text/html": [
       "<div>\n",
       "<style scoped>\n",
       "    .dataframe tbody tr th:only-of-type {\n",
       "        vertical-align: middle;\n",
       "    }\n",
       "\n",
       "    .dataframe tbody tr th {\n",
       "        vertical-align: top;\n",
       "    }\n",
       "\n",
       "    .dataframe thead th {\n",
       "        text-align: right;\n",
       "    }\n",
       "</style>\n",
       "<table border=\"1\" class=\"dataframe\">\n",
       "  <thead>\n",
       "    <tr style=\"text-align: right;\">\n",
       "      <th></th>\n",
       "      <th>Date</th>\n",
       "      <th>Open</th>\n",
       "      <th>High</th>\n",
       "      <th>Low</th>\n",
       "      <th>Close</th>\n",
       "      <th>Volume</th>\n",
       "      <th>close_date</th>\n",
       "      <th>quote_asset_volume</th>\n",
       "      <th>number_of_trades</th>\n",
       "      <th>taker_buy_base_asset_volume</th>\n",
       "      <th>taker_buy_quote_asset_volume</th>\n",
       "      <th>ignore</th>\n",
       "      <th>ema_24</th>\n",
       "      <th>sup_ema_24_7</th>\n",
       "    </tr>\n",
       "  </thead>\n",
       "  <tbody>\n",
       "    <tr>\n",
       "      <th>247</th>\n",
       "      <td>2020-12-03 13:45:00</td>\n",
       "      <td>19292.18</td>\n",
       "      <td>19327.69</td>\n",
       "      <td>19252.20</td>\n",
       "      <td>19281.00</td>\n",
       "      <td>546.847782</td>\n",
       "      <td>2020-12-03 13:59:59.999</td>\n",
       "      <td>1.054681e+07</td>\n",
       "      <td>11087</td>\n",
       "      <td>238.196483</td>\n",
       "      <td>4.594188e+06</td>\n",
       "      <td>0</td>\n",
       "      <td>19287.705432</td>\n",
       "      <td>19281.00</td>\n",
       "    </tr>\n",
       "    <tr>\n",
       "      <th>570</th>\n",
       "      <td>2020-12-06 22:30:00</td>\n",
       "      <td>19168.89</td>\n",
       "      <td>19169.02</td>\n",
       "      <td>19045.00</td>\n",
       "      <td>19122.89</td>\n",
       "      <td>566.692040</td>\n",
       "      <td>2020-12-06 22:44:59.999</td>\n",
       "      <td>1.082524e+07</td>\n",
       "      <td>15649</td>\n",
       "      <td>285.634762</td>\n",
       "      <td>5.456770e+06</td>\n",
       "      <td>0</td>\n",
       "      <td>19144.179345</td>\n",
       "      <td>19122.89</td>\n",
       "    </tr>\n",
       "    <tr>\n",
       "      <th>1055</th>\n",
       "      <td>2020-12-11 23:45:00</td>\n",
       "      <td>18057.82</td>\n",
       "      <td>18099.01</td>\n",
       "      <td>18012.69</td>\n",
       "      <td>18036.53</td>\n",
       "      <td>471.471833</td>\n",
       "      <td>2020-12-11 23:59:59.999</td>\n",
       "      <td>8.516856e+06</td>\n",
       "      <td>10261</td>\n",
       "      <td>222.733697</td>\n",
       "      <td>4.023878e+06</td>\n",
       "      <td>0</td>\n",
       "      <td>18041.784951</td>\n",
       "      <td>18036.53</td>\n",
       "    </tr>\n",
       "    <tr>\n",
       "      <th>1156</th>\n",
       "      <td>2020-12-13 01:00:00</td>\n",
       "      <td>18750.00</td>\n",
       "      <td>18797.56</td>\n",
       "      <td>18711.57</td>\n",
       "      <td>18748.84</td>\n",
       "      <td>427.666727</td>\n",
       "      <td>2020-12-13 01:14:59.999</td>\n",
       "      <td>8.023441e+06</td>\n",
       "      <td>8330</td>\n",
       "      <td>219.494870</td>\n",
       "      <td>4.118149e+06</td>\n",
       "      <td>0</td>\n",
       "      <td>18751.037570</td>\n",
       "      <td>18748.84</td>\n",
       "    </tr>\n",
       "    <tr>\n",
       "      <th>1160</th>\n",
       "      <td>2020-12-13 02:00:00</td>\n",
       "      <td>18795.12</td>\n",
       "      <td>18798.82</td>\n",
       "      <td>18752.88</td>\n",
       "      <td>18758.37</td>\n",
       "      <td>432.247273</td>\n",
       "      <td>2020-12-13 02:14:59.999</td>\n",
       "      <td>8.115396e+06</td>\n",
       "      <td>7399</td>\n",
       "      <td>220.155748</td>\n",
       "      <td>4.133619e+06</td>\n",
       "      <td>0</td>\n",
       "      <td>18758.972627</td>\n",
       "      <td>18758.37</td>\n",
       "    </tr>\n",
       "    <tr>\n",
       "      <th>1166</th>\n",
       "      <td>2020-12-13 03:30:00</td>\n",
       "      <td>18786.00</td>\n",
       "      <td>18786.01</td>\n",
       "      <td>18761.67</td>\n",
       "      <td>18767.97</td>\n",
       "      <td>218.935692</td>\n",
       "      <td>2020-12-13 03:44:59.999</td>\n",
       "      <td>4.110330e+06</td>\n",
       "      <td>4553</td>\n",
       "      <td>96.546506</td>\n",
       "      <td>1.812598e+06</td>\n",
       "      <td>0</td>\n",
       "      <td>18771.194908</td>\n",
       "      <td>18767.97</td>\n",
       "    </tr>\n",
       "    <tr>\n",
       "      <th>1334</th>\n",
       "      <td>2020-12-14 21:30:00</td>\n",
       "      <td>19190.07</td>\n",
       "      <td>19208.56</td>\n",
       "      <td>19158.97</td>\n",
       "      <td>19173.70</td>\n",
       "      <td>285.146812</td>\n",
       "      <td>2020-12-14 21:44:59.999</td>\n",
       "      <td>5.470608e+06</td>\n",
       "      <td>6560</td>\n",
       "      <td>124.159356</td>\n",
       "      <td>2.382139e+06</td>\n",
       "      <td>0</td>\n",
       "      <td>19178.110920</td>\n",
       "      <td>19173.70</td>\n",
       "    </tr>\n",
       "    <tr>\n",
       "      <th>1988</th>\n",
       "      <td>2020-12-21 20:45:00</td>\n",
       "      <td>22853.05</td>\n",
       "      <td>22892.25</td>\n",
       "      <td>22774.30</td>\n",
       "      <td>22829.79</td>\n",
       "      <td>477.247300</td>\n",
       "      <td>2020-12-21 20:59:59.999</td>\n",
       "      <td>1.088753e+07</td>\n",
       "      <td>8814</td>\n",
       "      <td>224.042937</td>\n",
       "      <td>5.111714e+06</td>\n",
       "      <td>0</td>\n",
       "      <td>22846.696456</td>\n",
       "      <td>22829.79</td>\n",
       "    </tr>\n",
       "    <tr>\n",
       "      <th>2014</th>\n",
       "      <td>2020-12-22 03:15:00</td>\n",
       "      <td>22889.74</td>\n",
       "      <td>22897.96</td>\n",
       "      <td>22765.63</td>\n",
       "      <td>22835.41</td>\n",
       "      <td>609.478391</td>\n",
       "      <td>2020-12-22 03:29:59.999</td>\n",
       "      <td>1.390573e+07</td>\n",
       "      <td>10610</td>\n",
       "      <td>282.373323</td>\n",
       "      <td>6.442203e+06</td>\n",
       "      <td>0</td>\n",
       "      <td>22849.509313</td>\n",
       "      <td>22835.41</td>\n",
       "    </tr>\n",
       "    <tr>\n",
       "      <th>2272</th>\n",
       "      <td>2020-12-24 19:45:00</td>\n",
       "      <td>23330.37</td>\n",
       "      <td>23330.38</td>\n",
       "      <td>23250.18</td>\n",
       "      <td>23287.15</td>\n",
       "      <td>373.813145</td>\n",
       "      <td>2020-12-24 19:59:59.999</td>\n",
       "      <td>8.707237e+06</td>\n",
       "      <td>8184</td>\n",
       "      <td>150.280872</td>\n",
       "      <td>3.500610e+06</td>\n",
       "      <td>0</td>\n",
       "      <td>23295.623853</td>\n",
       "      <td>23287.15</td>\n",
       "    </tr>\n",
       "    <tr>\n",
       "      <th>2370</th>\n",
       "      <td>2020-12-25 21:15:00</td>\n",
       "      <td>24372.00</td>\n",
       "      <td>24385.00</td>\n",
       "      <td>24198.60</td>\n",
       "      <td>24296.83</td>\n",
       "      <td>895.948576</td>\n",
       "      <td>2020-12-25 21:29:59.999</td>\n",
       "      <td>2.174824e+07</td>\n",
       "      <td>14912</td>\n",
       "      <td>415.498092</td>\n",
       "      <td>1.008398e+07</td>\n",
       "      <td>0</td>\n",
       "      <td>24305.951707</td>\n",
       "      <td>24296.83</td>\n",
       "    </tr>\n",
       "    <tr>\n",
       "      <th>2744</th>\n",
       "      <td>2020-12-29 18:45:00</td>\n",
       "      <td>26666.20</td>\n",
       "      <td>26712.24</td>\n",
       "      <td>26574.12</td>\n",
       "      <td>26591.29</td>\n",
       "      <td>872.612456</td>\n",
       "      <td>2020-12-29 18:59:59.999</td>\n",
       "      <td>2.324462e+07</td>\n",
       "      <td>17604</td>\n",
       "      <td>359.143218</td>\n",
       "      <td>9.568510e+06</td>\n",
       "      <td>0</td>\n",
       "      <td>26604.748112</td>\n",
       "      <td>26591.29</td>\n",
       "    </tr>\n",
       "    <tr>\n",
       "      <th>2820</th>\n",
       "      <td>2020-12-30 13:45:00</td>\n",
       "      <td>27984.44</td>\n",
       "      <td>28167.21</td>\n",
       "      <td>27833.03</td>\n",
       "      <td>27869.61</td>\n",
       "      <td>1353.957831</td>\n",
       "      <td>2020-12-30 13:59:59.999</td>\n",
       "      <td>3.797542e+07</td>\n",
       "      <td>25247</td>\n",
       "      <td>687.861968</td>\n",
       "      <td>1.929697e+07</td>\n",
       "      <td>0</td>\n",
       "      <td>27887.476740</td>\n",
       "      <td>27869.61</td>\n",
       "    </tr>\n",
       "  </tbody>\n",
       "</table>\n",
       "</div>"
      ],
      "text/plain": [
       "                    Date      Open      High       Low     Close       Volume  \\\n",
       "247  2020-12-03 13:45:00  19292.18  19327.69  19252.20  19281.00   546.847782   \n",
       "570  2020-12-06 22:30:00  19168.89  19169.02  19045.00  19122.89   566.692040   \n",
       "1055 2020-12-11 23:45:00  18057.82  18099.01  18012.69  18036.53   471.471833   \n",
       "1156 2020-12-13 01:00:00  18750.00  18797.56  18711.57  18748.84   427.666727   \n",
       "1160 2020-12-13 02:00:00  18795.12  18798.82  18752.88  18758.37   432.247273   \n",
       "1166 2020-12-13 03:30:00  18786.00  18786.01  18761.67  18767.97   218.935692   \n",
       "1334 2020-12-14 21:30:00  19190.07  19208.56  19158.97  19173.70   285.146812   \n",
       "1988 2020-12-21 20:45:00  22853.05  22892.25  22774.30  22829.79   477.247300   \n",
       "2014 2020-12-22 03:15:00  22889.74  22897.96  22765.63  22835.41   609.478391   \n",
       "2272 2020-12-24 19:45:00  23330.37  23330.38  23250.18  23287.15   373.813145   \n",
       "2370 2020-12-25 21:15:00  24372.00  24385.00  24198.60  24296.83   895.948576   \n",
       "2744 2020-12-29 18:45:00  26666.20  26712.24  26574.12  26591.29   872.612456   \n",
       "2820 2020-12-30 13:45:00  27984.44  28167.21  27833.03  27869.61  1353.957831   \n",
       "\n",
       "                  close_date  quote_asset_volume  number_of_trades  \\\n",
       "247  2020-12-03 13:59:59.999        1.054681e+07             11087   \n",
       "570  2020-12-06 22:44:59.999        1.082524e+07             15649   \n",
       "1055 2020-12-11 23:59:59.999        8.516856e+06             10261   \n",
       "1156 2020-12-13 01:14:59.999        8.023441e+06              8330   \n",
       "1160 2020-12-13 02:14:59.999        8.115396e+06              7399   \n",
       "1166 2020-12-13 03:44:59.999        4.110330e+06              4553   \n",
       "1334 2020-12-14 21:44:59.999        5.470608e+06              6560   \n",
       "1988 2020-12-21 20:59:59.999        1.088753e+07              8814   \n",
       "2014 2020-12-22 03:29:59.999        1.390573e+07             10610   \n",
       "2272 2020-12-24 19:59:59.999        8.707237e+06              8184   \n",
       "2370 2020-12-25 21:29:59.999        2.174824e+07             14912   \n",
       "2744 2020-12-29 18:59:59.999        2.324462e+07             17604   \n",
       "2820 2020-12-30 13:59:59.999        3.797542e+07             25247   \n",
       "\n",
       "      taker_buy_base_asset_volume  taker_buy_quote_asset_volume  ignore  \\\n",
       "247                    238.196483                  4.594188e+06       0   \n",
       "570                    285.634762                  5.456770e+06       0   \n",
       "1055                   222.733697                  4.023878e+06       0   \n",
       "1156                   219.494870                  4.118149e+06       0   \n",
       "1160                   220.155748                  4.133619e+06       0   \n",
       "1166                    96.546506                  1.812598e+06       0   \n",
       "1334                   124.159356                  2.382139e+06       0   \n",
       "1988                   224.042937                  5.111714e+06       0   \n",
       "2014                   282.373323                  6.442203e+06       0   \n",
       "2272                   150.280872                  3.500610e+06       0   \n",
       "2370                   415.498092                  1.008398e+07       0   \n",
       "2744                   359.143218                  9.568510e+06       0   \n",
       "2820                   687.861968                  1.929697e+07       0   \n",
       "\n",
       "            ema_24  sup_ema_24_7  \n",
       "247   19287.705432      19281.00  \n",
       "570   19144.179345      19122.89  \n",
       "1055  18041.784951      18036.53  \n",
       "1156  18751.037570      18748.84  \n",
       "1160  18758.972627      18758.37  \n",
       "1166  18771.194908      18767.97  \n",
       "1334  19178.110920      19173.70  \n",
       "1988  22846.696456      22829.79  \n",
       "2014  22849.509313      22835.41  \n",
       "2272  23295.623853      23287.15  \n",
       "2370  24305.951707      24296.83  \n",
       "2744  26604.748112      26591.29  \n",
       "2820  27887.476740      27869.61  "
      ]
     },
     "execution_count": 75,
     "metadata": {},
     "output_type": "execute_result"
    }
   ],
   "source": [
    "dst[~dst.sup_ema_24_7.isna()][:20]"
   ]
  },
  {
   "cell_type": "code",
   "execution_count": 50,
   "id": "27d3943c-91fe-431d-b98f-6802fbe8ae80",
   "metadata": {},
   "outputs": [
    {
     "data": {
      "text/plain": [
       "3"
      ]
     },
     "execution_count": 50,
     "metadata": {},
     "output_type": "execute_result"
    }
   ],
   "source": [
    "pipe['BOUNCE'].radius"
   ]
  },
  {
   "cell_type": "code",
   "execution_count": null,
   "id": "b2bd52d3-8ea0-45c5-bdfe-c9fc538794d1",
   "metadata": {
    "jupyter": {
     "source_hidden": true
    },
    "tags": []
   },
   "outputs": [],
   "source": [
    "pipe = Pipeline([\n",
    "    # Overlap Studies\n",
    "    ('BBANDS', TalibBaseTransform('BBANDS', 'bbands', timeperiod=16)),\n",
    "    ('DEMA', MovingAverageTransform('DEMA', 'dema', timeperiod=16)),\n",
    "    ('EMA', MovingAverageTransform('EMA', 'dema', timeperiod=16)),\n",
    "    ('KAMA', MovingAverageTransform('KAMA', 'dema', timeperiod=16)),\n",
    "    ('MA', MovingAverageTransform('MA', 'dema', timeperiod=16)),\n",
    "    ('MAMA', MovingAverageTransform('MAMA', 'dema', timeperiod=16)),\n",
    "    ('MAVP', MovingAverageTransform('MAVP', 'dema', timeperiod=16)),\n",
    "    ('SMA', MovingAverageTransform('SMA', 'dema', timeperiod=16)),\n",
    "    ('T3', MovingAverageTransform('T3', 'dema', timeperiod=16)),\n",
    "    ('TEMA', MovingAverageTransform('TEMA', 'dema', timeperiod=16)),\n",
    "    ('TRIMA', MovingAverageTransform('TRIMA', 'dema', timeperiod=16)),\n",
    "    ('WMA', MovingAverageTransform('WMA', 'dema', timeperiod=16)),\n",
    "    MovingAverageTransform\n",
    "])"
   ]
  },
  {
   "cell_type": "code",
   "execution_count": 285,
   "id": "32fc9f01-7b0d-4fea-8215-f23d971d5404",
   "metadata": {
    "jupyter": {
     "source_hidden": true
    },
    "tags": []
   },
   "outputs": [],
   "source": [
    "# transform = MAWithCrossesTransform('TEMA', 20, 50)\n",
    "# transform = HigherHighsTransform([16, 32], 'localmax_5')\n",
    "\n",
    "pipe = Pipeline([\n",
    "    # ('localmax', LocalMaxTransform(5)),\n",
    "    # ('localmin', LocalMinTransform(5)),\n",
    "    # ('higherhigh', HighersTransform([24], 'localmax_5', 'high')),\n",
    "    # ('higherlow', HighersTransform([24], 'localmin_5', 'low')),\n",
    "    # ('lowerhigh', LowersTransform([24], 'localmax_5', 'high')),\n",
    "    # ('lowerlow', LowersTransform([24], 'localmin_5', 'low'))\n",
    "#     ('max_high', MaxWindowTransform([16, 32], 'localmax_5', 'high')),\n",
    "#     ('min_low', MinWindowTransform([16, 32], 'localmin_5', 'low')),\n",
    "    ('hangingman', TalibBaseTransform('CDLHANGINGMAN', 'hangingman')),\n",
    "    ('count_hangingman', CountCondTransform([8,16,64], 'hangingman', 'countganging', 0, cond='lt'))\n",
    "])\n",
    "\n",
    "dst = pipe.transform(ds.copy())"
   ]
  },
  {
   "cell_type": "code",
   "execution_count": 320,
   "id": "4c302d7d-dea8-4d7d-b534-fa24c980ed72",
   "metadata": {
    "collapsed": true,
    "jupyter": {
     "outputs_hidden": true,
     "source_hidden": true
    },
    "tags": []
   },
   "outputs": [
    {
     "data": {
      "text/plain": [
       "OrderedDict([('timeperiod', 5), ('nbdevup', 2), ('nbdevdn', 2), ('matype', 0)])"
      ]
     },
     "execution_count": 320,
     "metadata": {},
     "output_type": "execute_result"
    }
   ],
   "source": [
    "Function('BBANDS').parameters"
   ]
  },
  {
   "cell_type": "code",
   "execution_count": null,
   "id": "3a62b093-3509-41f8-9b1a-b949975ce239",
   "metadata": {
    "jupyter": {
     "source_hidden": true
    },
    "tags": []
   },
   "outputs": [],
   "source": [
    "t = SupportBounceTransform"
   ]
  },
  {
   "cell_type": "code",
   "execution_count": 304,
   "id": "46cb0227-969d-422f-9ae8-0ec768161742",
   "metadata": {
    "jupyter": {
     "source_hidden": true
    },
    "tags": []
   },
   "outputs": [],
   "source": [
    "f = Function('BBANDS')\n",
    "inputs = {\n",
    "    'open': ds['Open'],\n",
    "    'high': ds['High'],\n",
    "    'low': ds['Low'],\n",
    "    'close': ds['Close'],\n",
    "    'volume': ds['Volume']\n",
    "}\n",
    "r = f(inputs)"
   ]
  },
  {
   "cell_type": "code",
   "execution_count": 306,
   "id": "ba40b78a-5c51-46de-b1e0-a3388d24f3da",
   "metadata": {
    "jupyter": {
     "source_hidden": true
    },
    "tags": []
   },
   "outputs": [],
   "source": [
    "rr = pd.DataFrame(r).transpose()"
   ]
  },
  {
   "cell_type": "code",
   "execution_count": 29,
   "id": "fd673162-5a00-45bb-9246-20a8f2b2b6bf",
   "metadata": {},
   "outputs": [],
   "source": [
    "# from crypto_bot.model.data import plot_by_date, plot_by_idx, plot_df_interactive"
   ]
  },
  {
   "cell_type": "code",
   "execution_count": 48,
   "id": "e332b891-29cf-4313-af42-2da8bd97956d",
   "metadata": {},
   "outputs": [
    {
     "data": {
      "text/plain": [
       "76.62209791960777"
      ]
     },
     "execution_count": 48,
     "metadata": {},
     "output_type": "execute_result"
    }
   ],
   "source": [
    "abs(dst.iloc[145]['Close'] - dst.iloc[145]['ema_24'])"
   ]
  },
  {
   "cell_type": "code",
   "execution_count": 49,
   "id": "19d44c40-c58f-40bc-af75-712ed87de8af",
   "metadata": {},
   "outputs": [
    {
     "data": {
      "text/plain": [
       "69.87690013517931"
      ]
     },
     "execution_count": 49,
     "metadata": {},
     "output_type": "execute_result"
    }
   ],
   "source": [
    "abs(dst.iloc[148]['Close'] - dst.iloc[148]['ema_24'])"
   ]
  },
  {
   "cell_type": "code",
   "execution_count": 77,
   "id": "0d2f107b-7198-43bf-bae3-525b956f6af5",
   "metadata": {},
   "outputs": [
    {
     "data": {
      "application/vnd.plotly.v1+json": {
       "config": {
        "plotlyServerURL": "https://plot.ly"
       },
       "data": [
        {
         "close": [
          17996.86,
          17973.27,
          17978.14,
          17938.15,
          17928.03,
          17948,
          17995.53,
          17959.32,
          17966.82,
          17983.08,
          18044.26,
          18080.18,
          18063.29,
          18037.39,
          17977,
          17941.07,
          17955.69,
          17980.65,
          17982.89,
          18004.42,
          17963.22,
          18054.86,
          18100.01,
          18156.93,
          18132.77,
          18134.31,
          18127.81,
          18082.39,
          18070.53,
          18057.25,
          18036.53,
          18148.28,
          18287.09,
          18273.21,
          18342.06,
          18303.07,
          18307.23,
          18315.95,
          18283.84,
          18303.41,
          18312.33,
          18319.39,
          18319.99,
          18280.98,
          18283.82,
          18329.52,
          18282.02,
          18266.47,
          18286.34,
          18328.07,
          18370.28,
          18352.04,
          18349.68,
          18317.18,
          18313.36,
          18334.71,
          18314.21,
          18295.56,
          18315.76,
          18346.52,
          18312.54
         ],
         "high": [
          18060.26,
          18018.4,
          17997,
          18007,
          17948.75,
          17971.59,
          18004.73,
          18040.26,
          17980.04,
          17987.84,
          18046.83,
          18083.97,
          18093.95,
          18068.53,
          18040.99,
          18060,
          17967.96,
          17997.17,
          17992.1,
          18035.33,
          18007.35,
          18062.16,
          18125.18,
          18184,
          18183.96,
          18156.42,
          18134.66,
          18149.75,
          18087.04,
          18074.03,
          18099.01,
          18169.43,
          18293.47,
          18289.07,
          18370,
          18375,
          18328.6,
          18318.99,
          18328.49,
          18340.99,
          18322.65,
          18350,
          18340.89,
          18319.99,
          18300,
          18336.82,
          18334.49,
          18306.65,
          18291.64,
          18330.1,
          18390,
          18398.19,
          18367,
          18359.89,
          18343.4,
          18346,
          18366.24,
          18314.22,
          18319.27,
          18348.65,
          18349
         ],
         "low": [
          17985.08,
          17942.85,
          17959.51,
          17917.19,
          17881.06,
          17852,
          17914.08,
          17958.96,
          17943.29,
          17966.71,
          17971.04,
          18027.14,
          18043.11,
          18020,
          17959.22,
          17925.37,
          17926.13,
          17955.84,
          17945.17,
          17982.25,
          17952.15,
          17963.21,
          18046.86,
          18096.34,
          18127.72,
          18091.93,
          18067.72,
          18081,
          18037.72,
          18027.72,
          18012.69,
          18020.7,
          18147.01,
          18259.93,
          18213.49,
          18300,
          18271.1,
          18282.68,
          18279.04,
          18278.14,
          18289,
          18302.8,
          18292.66,
          18273.16,
          18280.97,
          18276.16,
          18268.34,
          18261.32,
          18263.9,
          18284,
          18325.69,
          18350,
          18332.11,
          18313.63,
          18310.01,
          18309.66,
          18312.94,
          18278.91,
          18288.14,
          18310.6,
          18311.01
         ],
         "open": [
          18040.11,
          17996.87,
          17973.27,
          17978.15,
          17938.16,
          17928.02,
          17947.99,
          17995.5,
          17959.32,
          17966.82,
          17983.09,
          18044.26,
          18080.18,
          18063.29,
          18037.39,
          17975.08,
          17941.07,
          17955.84,
          17980.64,
          17983.47,
          18004.32,
          17963.21,
          18054.85,
          18100.01,
          18156.93,
          18132.77,
          18134.43,
          18127.81,
          18082.39,
          18070.53,
          18057.82,
          18036.53,
          18148.27,
          18287.17,
          18272.63,
          18342.05,
          18303.07,
          18307.23,
          18315.96,
          18283.84,
          18303.41,
          18312.32,
          18319.39,
          18319.99,
          18280.97,
          18283.5,
          18329.53,
          18282.01,
          18266.47,
          18286.34,
          18328.06,
          18370.28,
          18351.56,
          18349.68,
          18317.18,
          18313.35,
          18334.71,
          18314.21,
          18295.56,
          18315.76,
          18346.52
         ],
         "type": "candlestick",
         "x": [
          "2020-12-11T16:15:00",
          "2020-12-11T16:30:00",
          "2020-12-11T16:45:00",
          "2020-12-11T17:00:00",
          "2020-12-11T17:15:00",
          "2020-12-11T17:30:00",
          "2020-12-11T17:45:00",
          "2020-12-11T18:00:00",
          "2020-12-11T18:15:00",
          "2020-12-11T18:30:00",
          "2020-12-11T18:45:00",
          "2020-12-11T19:00:00",
          "2020-12-11T19:15:00",
          "2020-12-11T19:30:00",
          "2020-12-11T19:45:00",
          "2020-12-11T20:00:00",
          "2020-12-11T20:15:00",
          "2020-12-11T20:30:00",
          "2020-12-11T20:45:00",
          "2020-12-11T21:00:00",
          "2020-12-11T21:15:00",
          "2020-12-11T21:30:00",
          "2020-12-11T21:45:00",
          "2020-12-11T22:00:00",
          "2020-12-11T22:15:00",
          "2020-12-11T22:30:00",
          "2020-12-11T22:45:00",
          "2020-12-11T23:00:00",
          "2020-12-11T23:15:00",
          "2020-12-11T23:30:00",
          "2020-12-11T23:45:00",
          "2020-12-12T00:00:00",
          "2020-12-12T00:15:00",
          "2020-12-12T00:30:00",
          "2020-12-12T00:45:00",
          "2020-12-12T01:00:00",
          "2020-12-12T01:15:00",
          "2020-12-12T01:30:00",
          "2020-12-12T01:45:00",
          "2020-12-12T02:00:00",
          "2020-12-12T02:15:00",
          "2020-12-12T02:30:00",
          "2020-12-12T02:45:00",
          "2020-12-12T03:00:00",
          "2020-12-12T03:15:00",
          "2020-12-12T03:30:00",
          "2020-12-12T03:45:00",
          "2020-12-12T04:00:00",
          "2020-12-12T04:15:00",
          "2020-12-12T04:30:00",
          "2020-12-12T04:45:00",
          "2020-12-12T05:00:00",
          "2020-12-12T05:15:00",
          "2020-12-12T05:30:00",
          "2020-12-12T05:45:00",
          "2020-12-12T06:00:00",
          "2020-12-12T06:15:00",
          "2020-12-12T06:30:00",
          "2020-12-12T06:45:00",
          "2020-12-12T07:00:00",
          "2020-12-12T07:15:00"
         ]
        },
        {
         "line": {
          "color": "blue"
         },
         "mode": "lines",
         "name": "tema_20",
         "type": "scatter",
         "x": [
          "2020-12-11T16:15:00",
          "2020-12-11T16:30:00",
          "2020-12-11T16:45:00",
          "2020-12-11T17:00:00",
          "2020-12-11T17:15:00",
          "2020-12-11T17:30:00",
          "2020-12-11T17:45:00",
          "2020-12-11T18:00:00",
          "2020-12-11T18:15:00",
          "2020-12-11T18:30:00",
          "2020-12-11T18:45:00",
          "2020-12-11T19:00:00",
          "2020-12-11T19:15:00",
          "2020-12-11T19:30:00",
          "2020-12-11T19:45:00",
          "2020-12-11T20:00:00",
          "2020-12-11T20:15:00",
          "2020-12-11T20:30:00",
          "2020-12-11T20:45:00",
          "2020-12-11T21:00:00",
          "2020-12-11T21:15:00",
          "2020-12-11T21:30:00",
          "2020-12-11T21:45:00",
          "2020-12-11T22:00:00",
          "2020-12-11T22:15:00",
          "2020-12-11T22:30:00",
          "2020-12-11T22:45:00",
          "2020-12-11T23:00:00",
          "2020-12-11T23:15:00",
          "2020-12-11T23:30:00",
          "2020-12-11T23:45:00",
          "2020-12-12T00:00:00",
          "2020-12-12T00:15:00",
          "2020-12-12T00:30:00",
          "2020-12-12T00:45:00",
          "2020-12-12T01:00:00",
          "2020-12-12T01:15:00",
          "2020-12-12T01:30:00",
          "2020-12-12T01:45:00",
          "2020-12-12T02:00:00",
          "2020-12-12T02:15:00",
          "2020-12-12T02:30:00",
          "2020-12-12T02:45:00",
          "2020-12-12T03:00:00",
          "2020-12-12T03:15:00",
          "2020-12-12T03:30:00",
          "2020-12-12T03:45:00",
          "2020-12-12T04:00:00",
          "2020-12-12T04:15:00",
          "2020-12-12T04:30:00",
          "2020-12-12T04:45:00",
          "2020-12-12T05:00:00",
          "2020-12-12T05:15:00",
          "2020-12-12T05:30:00",
          "2020-12-12T05:45:00",
          "2020-12-12T06:00:00",
          "2020-12-12T06:15:00",
          "2020-12-12T06:30:00",
          "2020-12-12T06:45:00",
          "2020-12-12T07:00:00",
          "2020-12-12T07:15:00"
         ],
         "y": [
          17941.657712232194,
          17944.18669525362,
          17946.902959633328,
          17946.20272286266,
          17944.748905033648,
          17945.008992630956,
          17949.050673220478,
          17949.87221936284,
          17951.22804181381,
          17953.776198468706,
          17961.01490259121,
          17970.548110383912,
          17977.9674615532,
          17982.72126462894,
          17982.263563458626,
          17978.968078381935,
          17977.10583211138,
          17977.389365542473,
          17977.829416299075,
          17979.956662995148,
          17978.617729955535,
          17984.717111559094,
          17993.940542634366,
          18006.979699223615,
          18017.042923285728,
          18026.42428942287,
          18034.53514626904,
          18038.363534567517,
          18040.936851802115,
          18042.241903657945,
          18041.78495136531,
          18050.304555256083,
          18069.247390835597,
          18085.56439956875,
          18106.08404760325,
          18121.84292379499,
          18136.67388989139,
          18151.015978700078,
          18161.641900404073,
          18172.98334837175,
          18184.131080502008,
          18194.951794061846,
          18204.9548505369,
          18211.036862493947,
          18216.85951349443,
          18225.872352414877,
          18230.364164221686,
          18233.252631083953,
          18237.49962059724,
          18244.745250949458,
          18254.7880308735,
          18262.56818840362,
          18269.53713333133,
          18273.348562664825,
          18276.54947765164,
          18281.202319439508,
          18283.84293388435,
          18284.780299173603,
          18287.258675239715,
          18291.999581220538,
          18293.642814722894
         ]
        }
       ],
       "layout": {
        "autosize": true,
        "template": {
         "data": {
          "bar": [
           {
            "error_x": {
             "color": "#2a3f5f"
            },
            "error_y": {
             "color": "#2a3f5f"
            },
            "marker": {
             "line": {
              "color": "#E5ECF6",
              "width": 0.5
             },
             "pattern": {
              "fillmode": "overlay",
              "size": 10,
              "solidity": 0.2
             }
            },
            "type": "bar"
           }
          ],
          "barpolar": [
           {
            "marker": {
             "line": {
              "color": "#E5ECF6",
              "width": 0.5
             },
             "pattern": {
              "fillmode": "overlay",
              "size": 10,
              "solidity": 0.2
             }
            },
            "type": "barpolar"
           }
          ],
          "carpet": [
           {
            "aaxis": {
             "endlinecolor": "#2a3f5f",
             "gridcolor": "white",
             "linecolor": "white",
             "minorgridcolor": "white",
             "startlinecolor": "#2a3f5f"
            },
            "baxis": {
             "endlinecolor": "#2a3f5f",
             "gridcolor": "white",
             "linecolor": "white",
             "minorgridcolor": "white",
             "startlinecolor": "#2a3f5f"
            },
            "type": "carpet"
           }
          ],
          "choropleth": [
           {
            "colorbar": {
             "outlinewidth": 0,
             "ticks": ""
            },
            "type": "choropleth"
           }
          ],
          "contour": [
           {
            "colorbar": {
             "outlinewidth": 0,
             "ticks": ""
            },
            "colorscale": [
             [
              0,
              "#0d0887"
             ],
             [
              0.1111111111111111,
              "#46039f"
             ],
             [
              0.2222222222222222,
              "#7201a8"
             ],
             [
              0.3333333333333333,
              "#9c179e"
             ],
             [
              0.4444444444444444,
              "#bd3786"
             ],
             [
              0.5555555555555556,
              "#d8576b"
             ],
             [
              0.6666666666666666,
              "#ed7953"
             ],
             [
              0.7777777777777778,
              "#fb9f3a"
             ],
             [
              0.8888888888888888,
              "#fdca26"
             ],
             [
              1,
              "#f0f921"
             ]
            ],
            "type": "contour"
           }
          ],
          "contourcarpet": [
           {
            "colorbar": {
             "outlinewidth": 0,
             "ticks": ""
            },
            "type": "contourcarpet"
           }
          ],
          "heatmap": [
           {
            "colorbar": {
             "outlinewidth": 0,
             "ticks": ""
            },
            "colorscale": [
             [
              0,
              "#0d0887"
             ],
             [
              0.1111111111111111,
              "#46039f"
             ],
             [
              0.2222222222222222,
              "#7201a8"
             ],
             [
              0.3333333333333333,
              "#9c179e"
             ],
             [
              0.4444444444444444,
              "#bd3786"
             ],
             [
              0.5555555555555556,
              "#d8576b"
             ],
             [
              0.6666666666666666,
              "#ed7953"
             ],
             [
              0.7777777777777778,
              "#fb9f3a"
             ],
             [
              0.8888888888888888,
              "#fdca26"
             ],
             [
              1,
              "#f0f921"
             ]
            ],
            "type": "heatmap"
           }
          ],
          "heatmapgl": [
           {
            "colorbar": {
             "outlinewidth": 0,
             "ticks": ""
            },
            "colorscale": [
             [
              0,
              "#0d0887"
             ],
             [
              0.1111111111111111,
              "#46039f"
             ],
             [
              0.2222222222222222,
              "#7201a8"
             ],
             [
              0.3333333333333333,
              "#9c179e"
             ],
             [
              0.4444444444444444,
              "#bd3786"
             ],
             [
              0.5555555555555556,
              "#d8576b"
             ],
             [
              0.6666666666666666,
              "#ed7953"
             ],
             [
              0.7777777777777778,
              "#fb9f3a"
             ],
             [
              0.8888888888888888,
              "#fdca26"
             ],
             [
              1,
              "#f0f921"
             ]
            ],
            "type": "heatmapgl"
           }
          ],
          "histogram": [
           {
            "marker": {
             "pattern": {
              "fillmode": "overlay",
              "size": 10,
              "solidity": 0.2
             }
            },
            "type": "histogram"
           }
          ],
          "histogram2d": [
           {
            "colorbar": {
             "outlinewidth": 0,
             "ticks": ""
            },
            "colorscale": [
             [
              0,
              "#0d0887"
             ],
             [
              0.1111111111111111,
              "#46039f"
             ],
             [
              0.2222222222222222,
              "#7201a8"
             ],
             [
              0.3333333333333333,
              "#9c179e"
             ],
             [
              0.4444444444444444,
              "#bd3786"
             ],
             [
              0.5555555555555556,
              "#d8576b"
             ],
             [
              0.6666666666666666,
              "#ed7953"
             ],
             [
              0.7777777777777778,
              "#fb9f3a"
             ],
             [
              0.8888888888888888,
              "#fdca26"
             ],
             [
              1,
              "#f0f921"
             ]
            ],
            "type": "histogram2d"
           }
          ],
          "histogram2dcontour": [
           {
            "colorbar": {
             "outlinewidth": 0,
             "ticks": ""
            },
            "colorscale": [
             [
              0,
              "#0d0887"
             ],
             [
              0.1111111111111111,
              "#46039f"
             ],
             [
              0.2222222222222222,
              "#7201a8"
             ],
             [
              0.3333333333333333,
              "#9c179e"
             ],
             [
              0.4444444444444444,
              "#bd3786"
             ],
             [
              0.5555555555555556,
              "#d8576b"
             ],
             [
              0.6666666666666666,
              "#ed7953"
             ],
             [
              0.7777777777777778,
              "#fb9f3a"
             ],
             [
              0.8888888888888888,
              "#fdca26"
             ],
             [
              1,
              "#f0f921"
             ]
            ],
            "type": "histogram2dcontour"
           }
          ],
          "mesh3d": [
           {
            "colorbar": {
             "outlinewidth": 0,
             "ticks": ""
            },
            "type": "mesh3d"
           }
          ],
          "parcoords": [
           {
            "line": {
             "colorbar": {
              "outlinewidth": 0,
              "ticks": ""
             }
            },
            "type": "parcoords"
           }
          ],
          "pie": [
           {
            "automargin": true,
            "type": "pie"
           }
          ],
          "scatter": [
           {
            "fillpattern": {
             "fillmode": "overlay",
             "size": 10,
             "solidity": 0.2
            },
            "type": "scatter"
           }
          ],
          "scatter3d": [
           {
            "line": {
             "colorbar": {
              "outlinewidth": 0,
              "ticks": ""
             }
            },
            "marker": {
             "colorbar": {
              "outlinewidth": 0,
              "ticks": ""
             }
            },
            "type": "scatter3d"
           }
          ],
          "scattercarpet": [
           {
            "marker": {
             "colorbar": {
              "outlinewidth": 0,
              "ticks": ""
             }
            },
            "type": "scattercarpet"
           }
          ],
          "scattergeo": [
           {
            "marker": {
             "colorbar": {
              "outlinewidth": 0,
              "ticks": ""
             }
            },
            "type": "scattergeo"
           }
          ],
          "scattergl": [
           {
            "marker": {
             "colorbar": {
              "outlinewidth": 0,
              "ticks": ""
             }
            },
            "type": "scattergl"
           }
          ],
          "scattermapbox": [
           {
            "marker": {
             "colorbar": {
              "outlinewidth": 0,
              "ticks": ""
             }
            },
            "type": "scattermapbox"
           }
          ],
          "scatterpolar": [
           {
            "marker": {
             "colorbar": {
              "outlinewidth": 0,
              "ticks": ""
             }
            },
            "type": "scatterpolar"
           }
          ],
          "scatterpolargl": [
           {
            "marker": {
             "colorbar": {
              "outlinewidth": 0,
              "ticks": ""
             }
            },
            "type": "scatterpolargl"
           }
          ],
          "scatterternary": [
           {
            "marker": {
             "colorbar": {
              "outlinewidth": 0,
              "ticks": ""
             }
            },
            "type": "scatterternary"
           }
          ],
          "surface": [
           {
            "colorbar": {
             "outlinewidth": 0,
             "ticks": ""
            },
            "colorscale": [
             [
              0,
              "#0d0887"
             ],
             [
              0.1111111111111111,
              "#46039f"
             ],
             [
              0.2222222222222222,
              "#7201a8"
             ],
             [
              0.3333333333333333,
              "#9c179e"
             ],
             [
              0.4444444444444444,
              "#bd3786"
             ],
             [
              0.5555555555555556,
              "#d8576b"
             ],
             [
              0.6666666666666666,
              "#ed7953"
             ],
             [
              0.7777777777777778,
              "#fb9f3a"
             ],
             [
              0.8888888888888888,
              "#fdca26"
             ],
             [
              1,
              "#f0f921"
             ]
            ],
            "type": "surface"
           }
          ],
          "table": [
           {
            "cells": {
             "fill": {
              "color": "#EBF0F8"
             },
             "line": {
              "color": "white"
             }
            },
            "header": {
             "fill": {
              "color": "#C8D4E3"
             },
             "line": {
              "color": "white"
             }
            },
            "type": "table"
           }
          ]
         },
         "layout": {
          "annotationdefaults": {
           "arrowcolor": "#2a3f5f",
           "arrowhead": 0,
           "arrowwidth": 1
          },
          "autotypenumbers": "strict",
          "coloraxis": {
           "colorbar": {
            "outlinewidth": 0,
            "ticks": ""
           }
          },
          "colorscale": {
           "diverging": [
            [
             0,
             "#8e0152"
            ],
            [
             0.1,
             "#c51b7d"
            ],
            [
             0.2,
             "#de77ae"
            ],
            [
             0.3,
             "#f1b6da"
            ],
            [
             0.4,
             "#fde0ef"
            ],
            [
             0.5,
             "#f7f7f7"
            ],
            [
             0.6,
             "#e6f5d0"
            ],
            [
             0.7,
             "#b8e186"
            ],
            [
             0.8,
             "#7fbc41"
            ],
            [
             0.9,
             "#4d9221"
            ],
            [
             1,
             "#276419"
            ]
           ],
           "sequential": [
            [
             0,
             "#0d0887"
            ],
            [
             0.1111111111111111,
             "#46039f"
            ],
            [
             0.2222222222222222,
             "#7201a8"
            ],
            [
             0.3333333333333333,
             "#9c179e"
            ],
            [
             0.4444444444444444,
             "#bd3786"
            ],
            [
             0.5555555555555556,
             "#d8576b"
            ],
            [
             0.6666666666666666,
             "#ed7953"
            ],
            [
             0.7777777777777778,
             "#fb9f3a"
            ],
            [
             0.8888888888888888,
             "#fdca26"
            ],
            [
             1,
             "#f0f921"
            ]
           ],
           "sequentialminus": [
            [
             0,
             "#0d0887"
            ],
            [
             0.1111111111111111,
             "#46039f"
            ],
            [
             0.2222222222222222,
             "#7201a8"
            ],
            [
             0.3333333333333333,
             "#9c179e"
            ],
            [
             0.4444444444444444,
             "#bd3786"
            ],
            [
             0.5555555555555556,
             "#d8576b"
            ],
            [
             0.6666666666666666,
             "#ed7953"
            ],
            [
             0.7777777777777778,
             "#fb9f3a"
            ],
            [
             0.8888888888888888,
             "#fdca26"
            ],
            [
             1,
             "#f0f921"
            ]
           ]
          },
          "colorway": [
           "#636efa",
           "#EF553B",
           "#00cc96",
           "#ab63fa",
           "#FFA15A",
           "#19d3f3",
           "#FF6692",
           "#B6E880",
           "#FF97FF",
           "#FECB52"
          ],
          "font": {
           "color": "#2a3f5f"
          },
          "geo": {
           "bgcolor": "white",
           "lakecolor": "white",
           "landcolor": "#E5ECF6",
           "showlakes": true,
           "showland": true,
           "subunitcolor": "white"
          },
          "hoverlabel": {
           "align": "left"
          },
          "hovermode": "closest",
          "mapbox": {
           "style": "light"
          },
          "paper_bgcolor": "white",
          "plot_bgcolor": "#E5ECF6",
          "polar": {
           "angularaxis": {
            "gridcolor": "white",
            "linecolor": "white",
            "ticks": ""
           },
           "bgcolor": "#E5ECF6",
           "radialaxis": {
            "gridcolor": "white",
            "linecolor": "white",
            "ticks": ""
           }
          },
          "scene": {
           "xaxis": {
            "backgroundcolor": "#E5ECF6",
            "gridcolor": "white",
            "gridwidth": 2,
            "linecolor": "white",
            "showbackground": true,
            "ticks": "",
            "zerolinecolor": "white"
           },
           "yaxis": {
            "backgroundcolor": "#E5ECF6",
            "gridcolor": "white",
            "gridwidth": 2,
            "linecolor": "white",
            "showbackground": true,
            "ticks": "",
            "zerolinecolor": "white"
           },
           "zaxis": {
            "backgroundcolor": "#E5ECF6",
            "gridcolor": "white",
            "gridwidth": 2,
            "linecolor": "white",
            "showbackground": true,
            "ticks": "",
            "zerolinecolor": "white"
           }
          },
          "shapedefaults": {
           "line": {
            "color": "#2a3f5f"
           }
          },
          "ternary": {
           "aaxis": {
            "gridcolor": "white",
            "linecolor": "white",
            "ticks": ""
           },
           "baxis": {
            "gridcolor": "white",
            "linecolor": "white",
            "ticks": ""
           },
           "bgcolor": "#E5ECF6",
           "caxis": {
            "gridcolor": "white",
            "linecolor": "white",
            "ticks": ""
           }
          },
          "title": {
           "x": 0.05
          },
          "xaxis": {
           "automargin": true,
           "gridcolor": "white",
           "linecolor": "white",
           "ticks": "",
           "title": {
            "standoff": 15
           },
           "zerolinecolor": "white",
           "zerolinewidth": 2
          },
          "yaxis": {
           "automargin": true,
           "gridcolor": "white",
           "linecolor": "white",
           "ticks": "",
           "title": {
            "standoff": 15
           },
           "zerolinecolor": "white",
           "zerolinewidth": 2
          }
         }
        },
        "xaxis": {
         "autorange": true,
         "range": [
          "2020-12-11 16:07:30",
          "2020-12-12 07:22:30"
         ],
         "rangeslider": {
          "visible": false,
          "yaxis": {}
         },
         "type": "date"
        },
        "yaxis": {
         "autorange": true,
         "range": [
          17821.65611111111,
          18428.533888888887
         ],
         "type": "linear"
        }
       }
      },
      "image/png": "[encoded data removed]",
      "text/html": [
       "<div>                            <div id=\"21601c4f-8c34-4cd2-943b-dc22d634fa50\" class=\"plotly-graph-div\" style=\"height:525px; width:100%;\"></div>            <script type=\"text/javascript\">                require([\"plotly\"], function(Plotly) {                    window.PLOTLYENV=window.PLOTLYENV || {};                                    if (document.getElementById(\"21601c4f-8c34-4cd2-943b-dc22d634fa50\")) {                    Plotly.newPlot(                        \"21601c4f-8c34-4cd2-943b-dc22d634fa50\",                        [{\"close\":[17996.86,17973.27,17978.14,17938.15,17928.03,17948.0,17995.53,17959.32,17966.82,17983.08,18044.26,18080.18,18063.29,18037.39,17977.0,17941.07,17955.69,17980.65,17982.89,18004.42,17963.22,18054.86,18100.01,18156.93,18132.77,18134.31,18127.81,18082.39,18070.53,18057.25,18036.53,18148.28,18287.09,18273.21,18342.06,18303.07,18307.23,18315.95,18283.84,18303.41,18312.33,18319.39,18319.99,18280.98,18283.82,18329.52,18282.02,18266.47,18286.34,18328.07,18370.28,18352.04,18349.68,18317.18,18313.36,18334.71,18314.21,18295.56,18315.76,18346.52,18312.54],\"high\":[18060.26,18018.4,17997.0,18007.0,17948.75,17971.59,18004.73,18040.26,17980.04,17987.84,18046.83,18083.97,18093.95,18068.53,18040.99,18060.0,17967.96,17997.17,17992.1,18035.33,18007.35,18062.16,18125.18,18184.0,18183.96,18156.42,18134.66,18149.75,18087.04,18074.03,18099.01,18169.43,18293.47,18289.07,18370.0,18375.0,18328.6,18318.99,18328.49,18340.99,18322.65,18350.0,18340.89,18319.99,18300.0,18336.82,18334.49,18306.65,18291.64,18330.1,18390.0,18398.19,18367.0,18359.89,18343.4,18346.0,18366.24,18314.22,18319.27,18348.65,18349.0],\"low\":[17985.08,17942.85,17959.51,17917.19,17881.06,17852.0,17914.08,17958.96,17943.29,17966.71,17971.04,18027.14,18043.11,18020.0,17959.22,17925.37,17926.13,17955.84,17945.17,17982.25,17952.15,17963.21,18046.86,18096.34,18127.72,18091.93,18067.72,18081.0,18037.72,18027.72,18012.69,18020.7,18147.01,18259.93,18213.49,18300.0,18271.1,18282.68,18279.04,18278.14,18289.0,18302.8,18292.66,18273.16,18280.97,18276.16,18268.34,18261.32,18263.9,18284.0,18325.69,18350.0,18332.11,18313.63,18310.01,18309.66,18312.94,18278.91,18288.14,18310.6,18311.01],\"open\":[18040.11,17996.87,17973.27,17978.15,17938.16,17928.02,17947.99,17995.5,17959.32,17966.82,17983.09,18044.26,18080.18,18063.29,18037.39,17975.08,17941.07,17955.84,17980.64,17983.47,18004.32,17963.21,18054.85,18100.01,18156.93,18132.77,18134.43,18127.81,18082.39,18070.53,18057.82,18036.53,18148.27,18287.17,18272.63,18342.05,18303.07,18307.23,18315.96,18283.84,18303.41,18312.32,18319.39,18319.99,18280.97,18283.5,18329.53,18282.01,18266.47,18286.34,18328.06,18370.28,18351.56,18349.68,18317.18,18313.35,18334.71,18314.21,18295.56,18315.76,18346.52],\"x\":[\"2020-12-11T16:15:00\",\"2020-12-11T16:30:00\",\"2020-12-11T16:45:00\",\"2020-12-11T17:00:00\",\"2020-12-11T17:15:00\",\"2020-12-11T17:30:00\",\"2020-12-11T17:45:00\",\"2020-12-11T18:00:00\",\"2020-12-11T18:15:00\",\"2020-12-11T18:30:00\",\"2020-12-11T18:45:00\",\"2020-12-11T19:00:00\",\"2020-12-11T19:15:00\",\"2020-12-11T19:30:00\",\"2020-12-11T19:45:00\",\"2020-12-11T20:00:00\",\"2020-12-11T20:15:00\",\"2020-12-11T20:30:00\",\"2020-12-11T20:45:00\",\"2020-12-11T21:00:00\",\"2020-12-11T21:15:00\",\"2020-12-11T21:30:00\",\"2020-12-11T21:45:00\",\"2020-12-11T22:00:00\",\"2020-12-11T22:15:00\",\"2020-12-11T22:30:00\",\"2020-12-11T22:45:00\",\"2020-12-11T23:00:00\",\"2020-12-11T23:15:00\",\"2020-12-11T23:30:00\",\"2020-12-11T23:45:00\",\"2020-12-12T00:00:00\",\"2020-12-12T00:15:00\",\"2020-12-12T00:30:00\",\"2020-12-12T00:45:00\",\"2020-12-12T01:00:00\",\"2020-12-12T01:15:00\",\"2020-12-12T01:30:00\",\"2020-12-12T01:45:00\",\"2020-12-12T02:00:00\",\"2020-12-12T02:15:00\",\"2020-12-12T02:30:00\",\"2020-12-12T02:45:00\",\"2020-12-12T03:00:00\",\"2020-12-12T03:15:00\",\"2020-12-12T03:30:00\",\"2020-12-12T03:45:00\",\"2020-12-12T04:00:00\",\"2020-12-12T04:15:00\",\"2020-12-12T04:30:00\",\"2020-12-12T04:45:00\",\"2020-12-12T05:00:00\",\"2020-12-12T05:15:00\",\"2020-12-12T05:30:00\",\"2020-12-12T05:45:00\",\"2020-12-12T06:00:00\",\"2020-12-12T06:15:00\",\"2020-12-12T06:30:00\",\"2020-12-12T06:45:00\",\"2020-12-12T07:00:00\",\"2020-12-12T07:15:00\"],\"type\":\"candlestick\"},{\"line\":{\"color\":\"blue\"},\"mode\":\"lines\",\"name\":\"tema_20\",\"x\":[\"2020-12-11T16:15:00\",\"2020-12-11T16:30:00\",\"2020-12-11T16:45:00\",\"2020-12-11T17:00:00\",\"2020-12-11T17:15:00\",\"2020-12-11T17:30:00\",\"2020-12-11T17:45:00\",\"2020-12-11T18:00:00\",\"2020-12-11T18:15:00\",\"2020-12-11T18:30:00\",\"2020-12-11T18:45:00\",\"2020-12-11T19:00:00\",\"2020-12-11T19:15:00\",\"2020-12-11T19:30:00\",\"2020-12-11T19:45:00\",\"2020-12-11T20:00:00\",\"2020-12-11T20:15:00\",\"2020-12-11T20:30:00\",\"2020-12-11T20:45:00\",\"2020-12-11T21:00:00\",\"2020-12-11T21:15:00\",\"2020-12-11T21:30:00\",\"2020-12-11T21:45:00\",\"2020-12-11T22:00:00\",\"2020-12-11T22:15:00\",\"2020-12-11T22:30:00\",\"2020-12-11T22:45:00\",\"2020-12-11T23:00:00\",\"2020-12-11T23:15:00\",\"2020-12-11T23:30:00\",\"2020-12-11T23:45:00\",\"2020-12-12T00:00:00\",\"2020-12-12T00:15:00\",\"2020-12-12T00:30:00\",\"2020-12-12T00:45:00\",\"2020-12-12T01:00:00\",\"2020-12-12T01:15:00\",\"2020-12-12T01:30:00\",\"2020-12-12T01:45:00\",\"2020-12-12T02:00:00\",\"2020-12-12T02:15:00\",\"2020-12-12T02:30:00\",\"2020-12-12T02:45:00\",\"2020-12-12T03:00:00\",\"2020-12-12T03:15:00\",\"2020-12-12T03:30:00\",\"2020-12-12T03:45:00\",\"2020-12-12T04:00:00\",\"2020-12-12T04:15:00\",\"2020-12-12T04:30:00\",\"2020-12-12T04:45:00\",\"2020-12-12T05:00:00\",\"2020-12-12T05:15:00\",\"2020-12-12T05:30:00\",\"2020-12-12T05:45:00\",\"2020-12-12T06:00:00\",\"2020-12-12T06:15:00\",\"2020-12-12T06:30:00\",\"2020-12-12T06:45:00\",\"2020-12-12T07:00:00\",\"2020-12-12T07:15:00\"],\"y\":[17941.657712232194,17944.18669525362,17946.902959633328,17946.20272286266,17944.748905033648,17945.008992630956,17949.050673220478,17949.87221936284,17951.22804181381,17953.776198468706,17961.01490259121,17970.548110383912,17977.9674615532,17982.72126462894,17982.263563458626,17978.968078381935,17977.10583211138,17977.389365542473,17977.829416299075,17979.956662995148,17978.617729955535,17984.717111559094,17993.940542634366,18006.979699223615,18017.042923285728,18026.42428942287,18034.53514626904,18038.363534567517,18040.936851802115,18042.241903657945,18041.78495136531,18050.304555256083,18069.247390835597,18085.56439956875,18106.08404760325,18121.84292379499,18136.67388989139,18151.015978700078,18161.641900404073,18172.98334837175,18184.131080502008,18194.951794061846,18204.9548505369,18211.036862493947,18216.85951349443,18225.872352414877,18230.364164221686,18233.252631083953,18237.49962059724,18244.745250949458,18254.7880308735,18262.56818840362,18269.53713333133,18273.348562664825,18276.54947765164,18281.202319439508,18283.84293388435,18284.780299173603,18287.258675239715,18291.999581220538,18293.642814722894],\"type\":\"scatter\"}],                        {\"template\":{\"data\":{\"histogram2dcontour\":[{\"type\":\"histogram2dcontour\",\"colorbar\":{\"outlinewidth\":0,\"ticks\":\"\"},\"colorscale\":[[0.0,\"#0d0887\"],[0.1111111111111111,\"#46039f\"],[0.2222222222222222,\"#7201a8\"],[0.3333333333333333,\"#9c179e\"],[0.4444444444444444,\"#bd3786\"],[0.5555555555555556,\"#d8576b\"],[0.6666666666666666,\"#ed7953\"],[0.7777777777777778,\"#fb9f3a\"],[0.8888888888888888,\"#fdca26\"],[1.0,\"#f0f921\"]]}],\"choropleth\":[{\"type\":\"choropleth\",\"colorbar\":{\"outlinewidth\":0,\"ticks\":\"\"}}],\"histogram2d\":[{\"type\":\"histogram2d\",\"colorbar\":{\"outlinewidth\":0,\"ticks\":\"\"},\"colorscale\":[[0.0,\"#0d0887\"],[0.1111111111111111,\"#46039f\"],[0.2222222222222222,\"#7201a8\"],[0.3333333333333333,\"#9c179e\"],[0.4444444444444444,\"#bd3786\"],[0.5555555555555556,\"#d8576b\"],[0.6666666666666666,\"#ed7953\"],[0.7777777777777778,\"#fb9f3a\"],[0.8888888888888888,\"#fdca26\"],[1.0,\"#f0f921\"]]}],\"heatmap\":[{\"type\":\"heatmap\",\"colorbar\":{\"outlinewidth\":0,\"ticks\":\"\"},\"colorscale\":[[0.0,\"#0d0887\"],[0.1111111111111111,\"#46039f\"],[0.2222222222222222,\"#7201a8\"],[0.3333333333333333,\"#9c179e\"],[0.4444444444444444,\"#bd3786\"],[0.5555555555555556,\"#d8576b\"],[0.6666666666666666,\"#ed7953\"],[0.7777777777777778,\"#fb9f3a\"],[0.8888888888888888,\"#fdca26\"],[1.0,\"#f0f921\"]]}],\"heatmapgl\":[{\"type\":\"heatmapgl\",\"colorbar\":{\"outlinewidth\":0,\"ticks\":\"\"},\"colorscale\":[[0.0,\"#0d0887\"],[0.1111111111111111,\"#46039f\"],[0.2222222222222222,\"#7201a8\"],[0.3333333333333333,\"#9c179e\"],[0.4444444444444444,\"#bd3786\"],[0.5555555555555556,\"#d8576b\"],[0.6666666666666666,\"#ed7953\"],[0.7777777777777778,\"#fb9f3a\"],[0.8888888888888888,\"#fdca26\"],[1.0,\"#f0f921\"]]}],\"contourcarpet\":[{\"type\":\"contourcarpet\",\"colorbar\":{\"outlinewidth\":0,\"ticks\":\"\"}}],\"contour\":[{\"type\":\"contour\",\"colorbar\":{\"outlinewidth\":0,\"ticks\":\"\"},\"colorscale\":[[0.0,\"#0d0887\"],[0.1111111111111111,\"#46039f\"],[0.2222222222222222,\"#7201a8\"],[0.3333333333333333,\"#9c179e\"],[0.4444444444444444,\"#bd3786\"],[0.5555555555555556,\"#d8576b\"],[0.6666666666666666,\"#ed7953\"],[0.7777777777777778,\"#fb9f3a\"],[0.8888888888888888,\"#fdca26\"],[1.0,\"#f0f921\"]]}],\"surface\":[{\"type\":\"surface\",\"colorbar\":{\"outlinewidth\":0,\"ticks\":\"\"},\"colorscale\":[[0.0,\"#0d0887\"],[0.1111111111111111,\"#46039f\"],[0.2222222222222222,\"#7201a8\"],[0.3333333333333333,\"#9c179e\"],[0.4444444444444444,\"#bd3786\"],[0.5555555555555556,\"#d8576b\"],[0.6666666666666666,\"#ed7953\"],[0.7777777777777778,\"#fb9f3a\"],[0.8888888888888888,\"#fdca26\"],[1.0,\"#f0f921\"]]}],\"mesh3d\":[{\"type\":\"mesh3d\",\"colorbar\":{\"outlinewidth\":0,\"ticks\":\"\"}}],\"scatter\":[{\"fillpattern\":{\"fillmode\":\"overlay\",\"size\":10,\"solidity\":0.2},\"type\":\"scatter\"}],\"parcoords\":[{\"type\":\"parcoords\",\"line\":{\"colorbar\":{\"outlinewidth\":0,\"ticks\":\"\"}}}],\"scatterpolargl\":[{\"type\":\"scatterpolargl\",\"marker\":{\"colorbar\":{\"outlinewidth\":0,\"ticks\":\"\"}}}],\"bar\":[{\"error_x\":{\"color\":\"#2a3f5f\"},\"error_y\":{\"color\":\"#2a3f5f\"},\"marker\":{\"line\":{\"color\":\"#E5ECF6\",\"width\":0.5},\"pattern\":{\"fillmode\":\"overlay\",\"size\":10,\"solidity\":0.2}},\"type\":\"bar\"}],\"scattergeo\":[{\"type\":\"scattergeo\",\"marker\":{\"colorbar\":{\"outlinewidth\":0,\"ticks\":\"\"}}}],\"scatterpolar\":[{\"type\":\"scatterpolar\",\"marker\":{\"colorbar\":{\"outlinewidth\":0,\"ticks\":\"\"}}}],\"histogram\":[{\"marker\":{\"pattern\":{\"fillmode\":\"overlay\",\"size\":10,\"solidity\":0.2}},\"type\":\"histogram\"}],\"scattergl\":[{\"type\":\"scattergl\",\"marker\":{\"colorbar\":{\"outlinewidth\":0,\"ticks\":\"\"}}}],\"scatter3d\":[{\"type\":\"scatter3d\",\"line\":{\"colorbar\":{\"outlinewidth\":0,\"ticks\":\"\"}},\"marker\":{\"colorbar\":{\"outlinewidth\":0,\"ticks\":\"\"}}}],\"scattermapbox\":[{\"type\":\"scattermapbox\",\"marker\":{\"colorbar\":{\"outlinewidth\":0,\"ticks\":\"\"}}}],\"scatterternary\":[{\"type\":\"scatterternary\",\"marker\":{\"colorbar\":{\"outlinewidth\":0,\"ticks\":\"\"}}}],\"scattercarpet\":[{\"type\":\"scattercarpet\",\"marker\":{\"colorbar\":{\"outlinewidth\":0,\"ticks\":\"\"}}}],\"carpet\":[{\"aaxis\":{\"endlinecolor\":\"#2a3f5f\",\"gridcolor\":\"white\",\"linecolor\":\"white\",\"minorgridcolor\":\"white\",\"startlinecolor\":\"#2a3f5f\"},\"baxis\":{\"endlinecolor\":\"#2a3f5f\",\"gridcolor\":\"white\",\"linecolor\":\"white\",\"minorgridcolor\":\"white\",\"startlinecolor\":\"#2a3f5f\"},\"type\":\"carpet\"}],\"table\":[{\"cells\":{\"fill\":{\"color\":\"#EBF0F8\"},\"line\":{\"color\":\"white\"}},\"header\":{\"fill\":{\"color\":\"#C8D4E3\"},\"line\":{\"color\":\"white\"}},\"type\":\"table\"}],\"barpolar\":[{\"marker\":{\"line\":{\"color\":\"#E5ECF6\",\"width\":0.5},\"pattern\":{\"fillmode\":\"overlay\",\"size\":10,\"solidity\":0.2}},\"type\":\"barpolar\"}],\"pie\":[{\"automargin\":true,\"type\":\"pie\"}]},\"layout\":{\"autotypenumbers\":\"strict\",\"colorway\":[\"#636efa\",\"#EF553B\",\"#00cc96\",\"#ab63fa\",\"#FFA15A\",\"#19d3f3\",\"#FF6692\",\"#B6E880\",\"#FF97FF\",\"#FECB52\"],\"font\":{\"color\":\"#2a3f5f\"},\"hovermode\":\"closest\",\"hoverlabel\":{\"align\":\"left\"},\"paper_bgcolor\":\"white\",\"plot_bgcolor\":\"#E5ECF6\",\"polar\":{\"bgcolor\":\"#E5ECF6\",\"angularaxis\":{\"gridcolor\":\"white\",\"linecolor\":\"white\",\"ticks\":\"\"},\"radialaxis\":{\"gridcolor\":\"white\",\"linecolor\":\"white\",\"ticks\":\"\"}},\"ternary\":{\"bgcolor\":\"#E5ECF6\",\"aaxis\":{\"gridcolor\":\"white\",\"linecolor\":\"white\",\"ticks\":\"\"},\"baxis\":{\"gridcolor\":\"white\",\"linecolor\":\"white\",\"ticks\":\"\"},\"caxis\":{\"gridcolor\":\"white\",\"linecolor\":\"white\",\"ticks\":\"\"}},\"coloraxis\":{\"colorbar\":{\"outlinewidth\":0,\"ticks\":\"\"}},\"colorscale\":{\"sequential\":[[0.0,\"#0d0887\"],[0.1111111111111111,\"#46039f\"],[0.2222222222222222,\"#7201a8\"],[0.3333333333333333,\"#9c179e\"],[0.4444444444444444,\"#bd3786\"],[0.5555555555555556,\"#d8576b\"],[0.6666666666666666,\"#ed7953\"],[0.7777777777777778,\"#fb9f3a\"],[0.8888888888888888,\"#fdca26\"],[1.0,\"#f0f921\"]],\"sequentialminus\":[[0.0,\"#0d0887\"],[0.1111111111111111,\"#46039f\"],[0.2222222222222222,\"#7201a8\"],[0.3333333333333333,\"#9c179e\"],[0.4444444444444444,\"#bd3786\"],[0.5555555555555556,\"#d8576b\"],[0.6666666666666666,\"#ed7953\"],[0.7777777777777778,\"#fb9f3a\"],[0.8888888888888888,\"#fdca26\"],[1.0,\"#f0f921\"]],\"diverging\":[[0,\"#8e0152\"],[0.1,\"#c51b7d\"],[0.2,\"#de77ae\"],[0.3,\"#f1b6da\"],[0.4,\"#fde0ef\"],[0.5,\"#f7f7f7\"],[0.6,\"#e6f5d0\"],[0.7,\"#b8e186\"],[0.8,\"#7fbc41\"],[0.9,\"#4d9221\"],[1,\"#276419\"]]},\"xaxis\":{\"gridcolor\":\"white\",\"linecolor\":\"white\",\"ticks\":\"\",\"title\":{\"standoff\":15},\"zerolinecolor\":\"white\",\"automargin\":true,\"zerolinewidth\":2},\"yaxis\":{\"gridcolor\":\"white\",\"linecolor\":\"white\",\"ticks\":\"\",\"title\":{\"standoff\":15},\"zerolinecolor\":\"white\",\"automargin\":true,\"zerolinewidth\":2},\"scene\":{\"xaxis\":{\"backgroundcolor\":\"#E5ECF6\",\"gridcolor\":\"white\",\"linecolor\":\"white\",\"showbackground\":true,\"ticks\":\"\",\"zerolinecolor\":\"white\",\"gridwidth\":2},\"yaxis\":{\"backgroundcolor\":\"#E5ECF6\",\"gridcolor\":\"white\",\"linecolor\":\"white\",\"showbackground\":true,\"ticks\":\"\",\"zerolinecolor\":\"white\",\"gridwidth\":2},\"zaxis\":{\"backgroundcolor\":\"#E5ECF6\",\"gridcolor\":\"white\",\"linecolor\":\"white\",\"showbackground\":true,\"ticks\":\"\",\"zerolinecolor\":\"white\",\"gridwidth\":2}},\"shapedefaults\":{\"line\":{\"color\":\"#2a3f5f\"}},\"annotationdefaults\":{\"arrowcolor\":\"#2a3f5f\",\"arrowhead\":0,\"arrowwidth\":1},\"geo\":{\"bgcolor\":\"white\",\"landcolor\":\"#E5ECF6\",\"subunitcolor\":\"white\",\"showland\":true,\"showlakes\":true,\"lakecolor\":\"white\"},\"title\":{\"x\":0.05},\"mapbox\":{\"style\":\"light\"}}},\"xaxis\":{\"rangeslider\":{\"visible\":false}}},                        {\"responsive\": true}                    ).then(function(){\n",
       "                            \n",
       "var gd = document.getElementById('21601c4f-8c34-4cd2-943b-dc22d634fa50');\n",
       "var x = new MutationObserver(function (mutations, observer) {{\n",
       "        var display = window.getComputedStyle(gd).display;\n",
       "        if (!display || display === 'none') {{\n",
       "            console.log([gd, 'removed!']);\n",
       "            Plotly.purge(gd);\n",
       "            observer.disconnect();\n",
       "        }}\n",
       "}});\n",
       "\n",
       "// Listen for the removal of the full notebook cells\n",
       "var notebookContainer = gd.closest('#notebook-container');\n",
       "if (notebookContainer) {{\n",
       "    x.observe(notebookContainer, {childList: true});\n",
       "}}\n",
       "\n",
       "// Listen for the clearing of the current output cell\n",
       "var outputEl = gd.closest('.output');\n",
       "if (outputEl) {{\n",
       "    x.observe(outputEl, {childList: true});\n",
       "}}\n",
       "\n",
       "                        })                };                });            </script>        </div>"
      ]
     },
     "metadata": {},
     "output_type": "display_data"
    }
   ],
   "source": [
    "import plotly.graph_objects as go\n",
    "\n",
    "center = 1055\n",
    "radius = 30\n",
    "sub = dst[center - radius:center + radius + 1].copy()\n",
    "fig = plot_df_interactive(sub)\n",
    "\n",
    "fig.add_trace(go.Scatter(x=sub['Date'], y=sub['ema_24'], type='scatter', mode='lines', line=dict(color='blue'), name='tema_20'))\n",
    "# fig.add_trace(go.Scatter(x=sub['Date'], y=sub['tema_50'], type='scatter', mode='lines', line=dict(color='green'), name='tema_50'))\n",
    "fig.show()"
   ]
  },
  {
   "cell_type": "markdown",
   "id": "bb44f4f4-c67c-473d-a7a2-4582e05a7602",
   "metadata": {},
   "source": [
    "## BBANDS - Bollinger Bands\n",
    "Rango en los cuales se mueve el precio (media y desviaciones)\n",
    "Por debajo de la banda inferior puede indicar subida, por encima puede indicar bajada\n",
    "\n",
    "## DEMA - Double Exponential Moving Average\n",
    "https://www.daytradetheworld.com/trading-blog/double-exponential-moving-average-dema/\n",
    "Indicador de tendencia. Precios por encima de la DEMA ayudan a confirmar up trend, por debajo confirman down-trend.\n",
    "Usar 2, una short term y otro long term. Cuando se cruzan puede indicar reversal.\n",
    "\n",
    "## EMA - Exponential Moving Average\n",
    "Indicador de tendencia, cruces del precio con la EMA pueden indicar reversal.\n",
    "\n",
    "## HT_TRENDLINE - Hilbert Transform - Instantaneous Trendline\n",
    "?\n",
    "\n",
    "## KAMA - Kaufman Adaptive Moving Average\n",
    "Otro indicador de tendencia. Controlar cruces.\n",
    "\n",
    "## MA - Moving average\n",
    "..\n",
    "\n",
    "## MAMA - MESA Adaptive Moving Average\n",
    "..\n",
    "\n",
    "## SAREXT -Parabolic SAR - Extended\n",
    "## SMA -Simple Moving Average\n",
    "?"
   ]
  }
 ],
 "metadata": {
  "kernelspec": {
   "display_name": "Python 3 (ipykernel)",
   "language": "python",
   "name": "python3"
  },
  "language_info": {
   "codemirror_mode": {
    "name": "ipython",
    "version": 3
   },
   "file_extension": ".py",
   "mimetype": "text/x-python",
   "name": "python",
   "nbconvert_exporter": "python",
   "pygments_lexer": "ipython3",
   "version": "3.9.7"
  }
 },
 "nbformat": 4,
 "nbformat_minor": 5
}
