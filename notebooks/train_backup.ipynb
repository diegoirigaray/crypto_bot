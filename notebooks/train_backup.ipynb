{
 "cells": [
  {
   "cell_type": "code",
   "execution_count": 4,
   "id": "6e458486-5120-49bb-9ebd-ba10742fb1b4",
   "metadata": {
    "tags": []
   },
   "outputs": [],
   "source": [
    "# %load_ext autoreload\n",
    "# %autoreload 2\n",
    "\n",
    "import pandas as pd\n",
    "import numpy as np\n",
    "import torch\n",
    "import matplotlib.pyplot as plt\n",
    "from sklearn.metrics import roc_curve, roc_auc_score\n",
    "from torch.utils.data import DataLoader\n",
    "from crypto_bot.utils import save_obj, load_obj\n",
    "from crypto_bot.model.data import get_class_weights, get_scaled_class_weights, get_weighted_random_sampler\n",
    "from crypto_bot.model.train_loop import Trainer\n",
    "\n",
    "DATA_FOLDER = 'C:/Users/diego/crypto_bot'\n",
    "WEIGHTS_PATH = 'C:/Users/diego/crypto_bot/data/models'"
   ]
  },
  {
   "cell_type": "markdown",
   "id": "1eb096e2-444f-4f01-9677-61b8e5b245dc",
   "metadata": {
    "tags": []
   },
   "source": [
    "# Load data"
   ]
  },
  {
   "cell_type": "code",
   "execution_count": 50,
   "id": "54e91990-ae3f-434c-8fee-54aa8a6aa304",
   "metadata": {},
   "outputs": [],
   "source": [
    "train_ds_name = '{}/data_loaders/train_binary_dataset.ds'.format(DATA_FOLDER)\n",
    "valid_ds_name = '{}/data_loaders/valid_binary_dataset.ds'.format(DATA_FOLDER)\n",
    "\n",
    "# Load\n",
    "train_dataset = load_obj(train_ds_name)\n",
    "valid_dataset = load_obj(valid_ds_name)"
   ]
  },
  {
   "cell_type": "markdown",
   "id": "a653306d-9d72-49bb-9c9a-c82a2c39a4b6",
   "metadata": {
    "tags": []
   },
   "source": [
    "### Sampler"
   ]
  },
  {
   "cell_type": "code",
   "execution_count": 53,
   "id": "a6aa51d5-9132-445d-b21c-55f061b01ab8",
   "metadata": {
    "tags": []
   },
   "outputs": [],
   "source": [
    "# Binary\n",
    "# weights = get_class_weights(train_dataset, 2)\n",
    "weights = (1.9060870891191019e-06, 2.33737699553561e-05)\n",
    "\n",
    "# # Multiclass\n",
    "# # weights = get_class_weights(train_dataset, 3)\n",
    "# weights = (2.6139690506064407e-05, 6.197937326457755e-06, 2.7187358965575367e-06)\n",
    "\n",
    "sampler_train = get_weighted_random_sampler(train_dataset, weights)\n",
    "sampler_valid = get_weighted_random_sampler(valid_dataset, weights)"
   ]
  },
  {
   "cell_type": "markdown",
   "id": "5911d98b-359e-48be-ac55-2a1df986767c",
   "metadata": {},
   "source": [
    "### DataLoader"
   ]
  },
  {
   "cell_type": "code",
   "execution_count": 58,
   "id": "b04b9d75-087e-463b-95a8-dd35ea2cc864",
   "metadata": {},
   "outputs": [],
   "source": [
    "train_loader = DataLoader(train_dataset, batch_size=256, num_workers=6, sampler=sampler_train)\n",
    "valid_loader = DataLoader(valid_dataset, batch_size=256, num_workers=6, sampler=sampler_valid)"
   ]
  },
  {
   "cell_type": "markdown",
   "id": "6eb9dfe8-566b-48eb-9e6e-9b7b67671d0b",
   "metadata": {
    "tags": []
   },
   "source": [
    "# Train model"
   ]
  },
  {
   "cell_type": "code",
   "execution_count": 13,
   "id": "de6886dd-38ef-4eeb-803e-a39c1f91e665",
   "metadata": {
    "tags": []
   },
   "outputs": [],
   "source": [
    "import torch\n",
    "import torch.nn as nn\n",
    "import torch.nn.functional as F\n",
    "from crypto_bot.model.model import ResBlock\n",
    "\n",
    "\n",
    "class ResNet(nn.Module):\n",
    "    def __init__(self, n_features):\n",
    "        super(ResNet, self).__init__()\n",
    "\n",
    "        self.block1 = ResBlock(n_features, 32)\n",
    "        self.do1 = nn.Dropout(0.25)\n",
    "        self.block2 = ResBlock(32, 32)\n",
    "        self.do2 = nn.Dropout(0.25)\n",
    "        # self.block3 = ResBlock(64, 32)\n",
    "        # self.do3 = nn.Dropout(0.2)\n",
    "        self.fc1 = nn.Linear(32, 1)\n",
    "\n",
    "    def forward(self, x):\n",
    "        x = self.do1(self.block1(x))\n",
    "        x = self.do1(self.block2(x))\n",
    "        # x = self.do1(self.block3(x))\n",
    "        x = F.adaptive_avg_pool1d(x, 1)\n",
    "        x = torch.flatten(x, 1)\n",
    "        x = torch.sigmoid(self.fc1(x))\n",
    "        # x = self.fc1(x)\n",
    "        return x"
   ]
  },
  {
   "cell_type": "markdown",
   "id": "d7cbc8fa-3a6e-4d98-b9ee-da9b00ec4596",
   "metadata": {
    "tags": []
   },
   "source": [
    "## Train loop"
   ]
  },
  {
   "cell_type": "code",
   "execution_count": null,
   "id": "b1f98d69-5921-4155-a9ec-ea44953057cc",
   "metadata": {},
   "outputs": [],
   "source": [
    "trainer = Trainer(ResNet(5), train_loader, valid_loader, 3)\n",
    "trainer.train()"
   ]
  },
  {
   "cell_type": "markdown",
   "id": "4b9c7968-b77f-4df8-b53c-e95f980c9fc0",
   "metadata": {},
   "source": [
    "## Metrics"
   ]
  },
  {
   "cell_type": "code",
   "execution_count": 13,
   "id": "0e4eace0-ae57-4956-8d5b-ae2fa6832a79",
   "metadata": {
    "tags": []
   },
   "outputs": [],
   "source": [
    "def plot_roc(data):  \n",
    "    for labels, predictions, name in data:\n",
    "        fpr, tpr, _ = roc_curve(labels, predictions)\n",
    "        roc_auc_train_score = roc_auc_score(y_train_gt, y_train_pred)\n",
    "        plt.plot(fpr, tpr, label='ROC {} (area = {:3f})'.format(name, roc_auc_train_score))\n",
    "\n",
    "    plt.legend(loc=4)\n",
    "    plt.show()\n",
    "    return"
   ]
  },
  {
   "cell_type": "code",
   "execution_count": 14,
   "id": "ba05f977-76d1-4875-a828-c2ab0f4f2580",
   "metadata": {
    "tags": []
   },
   "outputs": [],
   "source": [
    "predictions_train = []\n",
    "\n",
    "with torch.no_grad():\n",
    "    dev = 'cuda:0' if torch.cuda.is_available() else 'cpu'\n",
    "    device = torch.device(dev)\n",
    "    net.to(device)\n",
    "\n",
    "    for data, target in train_loader:\n",
    "        data = data.to(device)\n",
    "        target = target.to(device)\n",
    "        output = net(data.float())\n",
    "        predictions_train.append([target, output])\n",
    "\n",
    "preds_train = []\n",
    "for pred in predictions_train:\n",
    "    preds_train.append(\n",
    "        pd.concat([\n",
    "            pd.DataFrame(pred[0].cpu().numpy(), columns=['c1', 'c2', 'c3']),\n",
    "            pd.DataFrame(torch.softmax(pred[1], 1).cpu().numpy(), columns=['p_c1', 'p_c2', 'p_c3'])\n",
    "        ], axis=1)\n",
    "    )\n",
    "preds_train = pd.concat(preds_train)"
   ]
  },
  {
   "cell_type": "code",
   "execution_count": 15,
   "id": "d0fbfea9-f8e3-457d-b167-851b9bda0fec",
   "metadata": {
    "tags": []
   },
   "outputs": [],
   "source": [
    "predictions_valid = []\n",
    "\n",
    "with torch.no_grad():\n",
    "    dev = 'cuda:0' if torch.cuda.is_available() else 'cpu'\n",
    "    device = torch.device(dev)\n",
    "    net.to(device)\n",
    "\n",
    "    for data, target in valid_loader:\n",
    "        data = data.to(device)\n",
    "        target = target.to(device)\n",
    "        output = net(data.float())\n",
    "        predictions_valid.append([target, output])\n",
    "\n",
    "preds_valid = []\n",
    "for pred in predictions_valid:\n",
    "    preds_valid.append(\n",
    "        pd.concat([\n",
    "            pd.DataFrame(pred[0].cpu().numpy(), columns=['c1', 'c2', 'c3']),\n",
    "            pd.DataFrame(torch.softmax(pred[1], 1).cpu().numpy(), columns=['p_c1', 'p_c2', 'p_c3'])\n",
    "        ], axis=1)\n",
    "    )\n",
    "preds_valid = pd.concat(preds_valid)"
   ]
  },
  {
   "cell_type": "code",
   "execution_count": 16,
   "id": "e854c69c-27f5-4fb3-ae41-3714f25ccd11",
   "metadata": {
    "tags": []
   },
   "outputs": [
    {
     "data": {
      "image/png": "[encoded data removed]",
      "text/plain": [
       "<Figure size 432x288 with 1 Axes>"
      ]
     },
     "metadata": {
      "needs_background": "light"
     },
     "output_type": "display_data"
    },
    {
     "data": {
      "image/png": "[encoded data removed]",
      "text/plain": [
       "<Figure size 432x288 with 1 Axes>"
      ]
     },
     "metadata": {
      "needs_background": "light"
     },
     "output_type": "display_data"
    },
    {
     "data": {
      "image/png": "[encoded data removed]",
      "text/plain": [
       "<Figure size 432x288 with 1 Axes>"
      ]
     },
     "metadata": {
      "needs_background": "light"
     },
     "output_type": "display_data"
    }
   ],
   "source": [
    "from matplotlib import pyplot\n",
    "for i in range(1,4):\n",
    "    preds_train.groupby('c{}'.format(i))['p_c{}'.format(i)].plot(kind='density', legend=True)\n",
    "    pyplot.show()"
   ]
  },
  {
   "cell_type": "code",
   "execution_count": 17,
   "id": "4f546158-42a6-4b56-a4bb-a968f511360b",
   "metadata": {
    "tags": []
   },
   "outputs": [
    {
     "data": {
      "image/png": "[encoded data removed]",
      "text/plain": [
       "<Figure size 432x288 with 1 Axes>"
      ]
     },
     "metadata": {
      "needs_background": "light"
     },
     "output_type": "display_data"
    },
    {
     "data": {
      "image/png": "[encoded data removed]",
      "text/plain": [
       "<Figure size 432x288 with 1 Axes>"
      ]
     },
     "metadata": {
      "needs_background": "light"
     },
     "output_type": "display_data"
    },
    {
     "data": {
      "image/png": "[encoded data removed]",
      "text/plain": [
       "<Figure size 432x288 with 1 Axes>"
      ]
     },
     "metadata": {
      "needs_background": "light"
     },
     "output_type": "display_data"
    }
   ],
   "source": [
    "for i in range(1,4):\n",
    "    preds_valid.groupby('c{}'.format(i))['p_c{}'.format(i)].plot(kind='density', legend=True)\n",
    "    pyplot.show()"
   ]
  },
  {
   "cell_type": "markdown",
   "id": "68d1c258-032d-453e-9423-e8ec92209325",
   "metadata": {
    "tags": []
   },
   "source": [
    "## Train loop  (binary)"
   ]
  },
  {
   "cell_type": "code",
   "execution_count": 68,
   "id": "c8f475d3-05da-471b-b207-fed77faa9014",
   "metadata": {
    "tags": []
   },
   "outputs": [
    {
     "name": "stdout",
     "output_type": "stream",
     "text": [
      "Epoch: 1/3 - 45.12%\n",
      "Epoch: 1/3 - 90.23%\n",
      "Epoch: 1/3 - Train Loss: 0.5361081750934921 - Valid loss 0.5622323301860265\n",
      "Epoch: 2/3 - 35.33%\n",
      "Epoch: 2/3 - 80.44%\n",
      "Epoch: 2/3 - Train Loss: 0.5228020687279639 - Valid loss 0.5686044536318098\n",
      "Epoch: 3/3 - 25.54%\n",
      "Epoch: 3/3 - 70.65%\n",
      "Epoch: 3/3 - Train Loss: 0.5050308771186118 - Valid loss 0.5884888235160283\n"
     ]
    },
    {
     "data": {
      "text/plain": [
       "ResNet(\n",
       "  (block1): ResBlock(\n",
       "    (conv1): Conv1d(5, 32, kernel_size=(8,), stride=(1,), padding=same)\n",
       "    (bn1): BatchNorm1d(32, eps=1e-05, momentum=0.1, affine=True, track_running_stats=True)\n",
       "    (conv2): Conv1d(32, 32, kernel_size=(5,), stride=(1,), padding=same)\n",
       "    (bn2): BatchNorm1d(32, eps=1e-05, momentum=0.1, affine=True, track_running_stats=True)\n",
       "    (conv3): Conv1d(32, 32, kernel_size=(3,), stride=(1,), padding=same)\n",
       "    (bn3): BatchNorm1d(32, eps=1e-05, momentum=0.1, affine=True, track_running_stats=True)\n",
       "    (shortcut): Sequential(\n",
       "      (0): Conv1d(5, 32, kernel_size=(1,), stride=(1,), bias=False)\n",
       "      (1): BatchNorm1d(32, eps=1e-05, momentum=0.1, affine=True, track_running_stats=True)\n",
       "    )\n",
       "  )\n",
       "  (do1): Dropout(p=0.25, inplace=False)\n",
       "  (block2): ResBlock(\n",
       "    (conv1): Conv1d(32, 32, kernel_size=(8,), stride=(1,), padding=same)\n",
       "    (bn1): BatchNorm1d(32, eps=1e-05, momentum=0.1, affine=True, track_running_stats=True)\n",
       "    (conv2): Conv1d(32, 32, kernel_size=(5,), stride=(1,), padding=same)\n",
       "    (bn2): BatchNorm1d(32, eps=1e-05, momentum=0.1, affine=True, track_running_stats=True)\n",
       "    (conv3): Conv1d(32, 32, kernel_size=(3,), stride=(1,), padding=same)\n",
       "    (bn3): BatchNorm1d(32, eps=1e-05, momentum=0.1, affine=True, track_running_stats=True)\n",
       "    (shortcut): Sequential(\n",
       "      (0): BatchNorm1d(32, eps=1e-05, momentum=0.1, affine=True, track_running_stats=True)\n",
       "    )\n",
       "  )\n",
       "  (do2): Dropout(p=0.25, inplace=False)\n",
       "  (fc1): Linear(in_features=32, out_features=1, bias=True)\n",
       ")"
      ]
     },
     "execution_count": 68,
     "metadata": {},
     "output_type": "execute_result"
    }
   ],
   "source": [
    "trainer = Trainer(ResNet(5), train_loader, valid_loader, 3)\n",
    "trainer.train()"
   ]
  },
  {
   "cell_type": "code",
   "execution_count": 19,
   "id": "fe3f7bc6-e00a-4881-97a6-e857c832eaf7",
   "metadata": {
    "tags": []
   },
   "outputs": [],
   "source": [
    "import torch.optim as optim\n",
    "\n",
    "\n",
    "losses = {'train': [], 'valid': []}\n",
    "def train(net, data_loader, valid_loader=None, epochs=10, lr=0.001, weights=None):\n",
    "    dev = 'cuda:0' if torch.cuda.is_available() else 'cpu'\n",
    "    device = torch.device(dev)\n",
    "    print('Using device: {}'.format(device))\n",
    "    net.to(device)\n",
    "    data_loader.dataset.to(device)\n",
    "    if valid_loader:\n",
    "        valid_loader.dataset.to(device)\n",
    "    if weights:\n",
    "        weights = weights.to(device)\n",
    "\n",
    "    criterion = nn.BCELoss(weights)\n",
    "    optimizer = optim.Adam(net.parameters(), lr=lr)\n",
    "    percentage_factor = 100 / len(data_loader.dataset)\n",
    "\n",
    "    # net = net.float()\n",
    "\n",
    "    iters = 0\n",
    "    for epoch in range(epochs):\n",
    "        total = 0\n",
    "        train_loss = 0\n",
    "        valid_loss = 0\n",
    "        net.train()\n",
    "\n",
    "        for data, target in data_loader:\n",
    "            data = data.to(device)\n",
    "            target = target.to(device)\n",
    "            total += target.size()[0]\n",
    "            \n",
    "            optimizer.zero_grad()\n",
    "            output = net(data.float())\n",
    "            loss = criterion(output, target.float().unsqueeze(-1))\n",
    "            loss.backward()\n",
    "            optimizer.step()\n",
    "\n",
    "            train_loss += loss.item()\n",
    "            iters += 1\n",
    "            if iters % 1000 == 0:\n",
    "                print('Epoch: {}/{} - {:.2f}%'.format(epoch + 1, epochs, total * percentage_factor))\n",
    "\n",
    "        t_loss = train_loss / len(data_loader)\n",
    "        losses['train'].append(t_loss)\n",
    "        print('Epoch: {}/{} - Train Loss: {}'.format(epoch + 1, epochs, t_loss))\n",
    "        \n",
    "        if valid_loader:\n",
    "            net.eval()\n",
    "            for data, target in valid_loader:\n",
    "                data = data.to(device)\n",
    "                target = target.to(device)\n",
    "                output = net(data.float())\n",
    "                loss = criterion(output, target.float().unsqueeze(-1))\n",
    "                valid_loss += loss.item()\n",
    "            \n",
    "            v_loss = valid_loss / len(valid_loader)\n",
    "            losses['valid'].append(v_loss)\n",
    "            print('Epoch: {}/{} - Valid loss {}'.format(epoch + 1, epochs, v_loss))\n",
    "\n",
    "    return net"
   ]
  },
  {
   "cell_type": "code",
   "execution_count": null,
   "id": "5cf6de1a-eead-42df-aef4-e54382405bee",
   "metadata": {},
   "outputs": [],
   "source": [
    "trainer = Trainer()"
   ]
  },
  {
   "cell_type": "code",
   "execution_count": 20,
   "id": "68a56048-10cd-465c-918e-2aee73d0b189",
   "metadata": {
    "tags": []
   },
   "outputs": [
    {
     "name": "stdout",
     "output_type": "stream",
     "text": [
      "Using device: cuda:0\n"
     ]
    },
    {
     "name": "stderr",
     "output_type": "stream",
     "text": [
      "C:\\Users\\diego\\anaconda3\\envs\\crypto_bot\\lib\\site-packages\\torch\\nn\\modules\\conv.py:297: UserWarning: Using padding='same' with even kernel lengths and odd dilation may require a zero-padded copy of the input be created (Triggered internally at  ..\\aten\\src\\ATen\\native\\Convolution.cpp:647.)\n",
      "  return F.conv1d(input, weight, bias, self.stride,\n"
     ]
    },
    {
     "name": "stdout",
     "output_type": "stream",
     "text": [
      "Epoch: 1/3 - 45.12%\n",
      "Epoch: 1/3 - 90.23%\n",
      "Epoch: 1/3 - Train Loss: 0.5370338766973837\n",
      "Epoch: 1/3 - Valid loss 0.0\n",
      "Epoch: 2/3 - 35.33%\n",
      "Epoch: 2/3 - 80.44%\n",
      "Epoch: 2/3 - Train Loss: 0.5220157975918224\n",
      "Epoch: 2/3 - Valid loss 0.0\n",
      "Epoch: 3/3 - 25.54%\n",
      "Epoch: 3/3 - 70.65%\n",
      "Epoch: 3/3 - Train Loss: 0.49838640658125233\n",
      "Epoch: 3/3 - Valid loss 0.0\n"
     ]
    }
   ],
   "source": [
    "# from crypto_bot.model.model import ResNet\n",
    "\n",
    "net = ResNet(5)\n",
    "net = train(net, train_loader, valid_loader=valid_loader, epochs=3, lr=0.001)"
   ]
  },
  {
   "cell_type": "code",
   "execution_count": 47,
   "id": "fee1ea41-2bc6-4318-8cbe-fda68f5e55d8",
   "metadata": {},
   "outputs": [],
   "source": [
    "# from crypto_bot.model.model import save_weights\n",
    "\n",
    "# save_weights(net, 'sell_v1', WEIGHTS_PATH)"
   ]
  },
  {
   "cell_type": "code",
   "execution_count": 23,
   "id": "386dbfeb-e013-44ee-bd74-f9cf83146864",
   "metadata": {
    "tags": []
   },
   "outputs": [
    {
     "data": {
      "text/plain": [
       "target\n",
       "0    AxesSubplot(0.125,0.125;0.775x0.755)\n",
       "1    AxesSubplot(0.125,0.125;0.775x0.755)\n",
       "Name: pred, dtype: object"
      ]
     },
     "execution_count": 23,
     "metadata": {},
     "output_type": "execute_result"
    },
    {
     "data": {
      "image/png": "[encoded data removed]",
      "text/plain": [
       "<Figure size 432x288 with 1 Axes>"
      ]
     },
     "metadata": {
      "needs_background": "light"
     },
     "output_type": "display_data"
    }
   ],
   "source": [
    "predictions_train = []\n",
    "\n",
    "with torch.no_grad():\n",
    "    dev = 'cuda:0' if torch.cuda.is_available() else 'cpu'\n",
    "    device = torch.device(dev)\n",
    "    net.to(device)\n",
    "    train_loader.dataset.to(device)\n",
    "\n",
    "    for data, target in train_loader:\n",
    "        data = data.to(device)\n",
    "        target = target.to(device)\n",
    "        output = net(data.float())\n",
    "        predictions_train.append([target, output])\n",
    "\n",
    "preds_train = []\n",
    "for pred in predictions_train:\n",
    "    preds_train.append(\n",
    "        pd.concat([\n",
    "            pd.DataFrame(pred[0].cpu().numpy(), columns=['target']),\n",
    "            pd.DataFrame(pred[1].cpu().numpy(), columns=['pred'])\n",
    "        ], axis=1)\n",
    "    )\n",
    "preds_train = pd.concat(preds_train)\n",
    "preds_train.groupby('target')['pred'].plot(kind='density', legend=True)"
   ]
  },
  {
   "cell_type": "code",
   "execution_count": 59,
   "id": "6b5d8534-fccf-4273-96b8-9b3cc90e7833",
   "metadata": {
    "tags": []
   },
   "outputs": [
    {
     "data": {
      "text/plain": [
       "target\n",
       "0    AxesSubplot(0.125,0.125;0.775x0.755)\n",
       "1    AxesSubplot(0.125,0.125;0.775x0.755)\n",
       "Name: pred, dtype: object"
      ]
     },
     "execution_count": 60,
     "metadata": {},
     "output_type": "execute_result"
    },
    {
     "data": {
      "image/png": "[encoded data removed]",
      "text/plain": [
       "<Figure size 432x288 with 1 Axes>"
      ]
     },
     "metadata": {
      "needs_background": "light"
     },
     "output_type": "display_data"
    }
   ],
   "source": [
    "predictions_valid = []\n",
    "\n",
    "with torch.no_grad():\n",
    "    dev = 'cuda:0' if torch.cuda.is_available() else 'cpu'\n",
    "    device = torch.device(dev)\n",
    "    net.to(device)\n",
    "    valid_loader.dataset.to(device)\n",
    "\n",
    "    for data, target in valid_loader:\n",
    "        data = data.to(device)\n",
    "        target = target.to(device)\n",
    "        output = net(data.float())\n",
    "        predictions_valid.append([target, output])\n",
    "\n",
    "preds_valid = []\n",
    "for pred in predictions_valid:\n",
    "    preds_valid.append(\n",
    "        pd.concat([\n",
    "            pd.DataFrame(pred[0].cpu().numpy(), columns=['target']),\n",
    "            pd.DataFrame(pred[1].cpu().numpy(), columns=['pred'])\n",
    "        ], axis=1)\n",
    "    )\n",
    "preds_valid = pd.concat(preds_valid)\n",
    "preds_valid.groupby('target')['pred'].plot(kind='density', legend=True)"
   ]
  },
  {
   "cell_type": "code",
   "execution_count": 69,
   "id": "45ec8cc1-0654-4916-b73e-0484076e15bb",
   "metadata": {},
   "outputs": [
    {
     "data": {
      "text/plain": [
       "target\n",
       "0    AxesSubplot(0.125,0.125;0.775x0.755)\n",
       "1    AxesSubplot(0.125,0.125;0.775x0.755)\n",
       "Name: pred, dtype: object"
      ]
     },
     "execution_count": 69,
     "metadata": {},
     "output_type": "execute_result"
    },
    {
     "data": {
      "image/png": "[encoded data removed]",
      "text/plain": [
       "<Figure size 432x288 with 1 Axes>"
      ]
     },
     "metadata": {
      "needs_background": "light"
     },
     "output_type": "display_data"
    }
   ],
   "source": [
    "predictions_valid = []\n",
    "net = trainer.model\n",
    "\n",
    "with torch.no_grad():\n",
    "    dev = 'cuda:0' if torch.cuda.is_available() else 'cpu'\n",
    "    device = torch.device(dev)\n",
    "    net.to(device)\n",
    "    valid_loader.dataset.to(device)\n",
    "\n",
    "    for data, target in valid_loader:\n",
    "        data = data.to(device)\n",
    "        target = target.to(device)\n",
    "        output = net(data.float())\n",
    "        predictions_valid.append([target, output])\n",
    "\n",
    "preds_valid = []\n",
    "for pred in predictions_valid:\n",
    "    preds_valid.append(\n",
    "        pd.concat([\n",
    "            pd.DataFrame(pred[0].cpu().numpy(), columns=['target']),\n",
    "            pd.DataFrame(pred[1].cpu().numpy(), columns=['pred'])\n",
    "        ], axis=1)\n",
    "    )\n",
    "preds_valid = pd.concat(preds_valid)\n",
    "preds_valid.groupby('target')['pred'].plot(kind='density', legend=True)"
   ]
  },
  {
   "cell_type": "code",
   "execution_count": 40,
   "id": "53a00013-6ea8-4563-a978-ef6008e57807",
   "metadata": {},
   "outputs": [],
   "source": [
    "t = 0\n",
    "for data, target in valid_loader:\n",
    "    t += 1"
   ]
  },
  {
   "cell_type": "code",
   "execution_count": 47,
   "id": "db709d3a-1b0e-46b5-a3f1-40cea9cb835f",
   "metadata": {},
   "outputs": [
    {
     "data": {
      "text/plain": [
       "2217"
      ]
     },
     "execution_count": 47,
     "metadata": {},
     "output_type": "execute_result"
    }
   ],
   "source": [
    "len(valid_loader)"
   ]
  },
  {
   "cell_type": "code",
   "execution_count": 46,
   "id": "5e60cf7b-ab23-4d0d-a713-aa0717308fdd",
   "metadata": {},
   "outputs": [
    {
     "data": {
      "text/plain": [
       "1    1546\n",
       "0    1014\n",
       "Name: target, dtype: int64"
      ]
     },
     "execution_count": 46,
     "metadata": {},
     "output_type": "execute_result"
    }
   ],
   "source": [
    "preds_valid[preds_valid.pred > 0.65].target.value_counts(normalize=False)"
   ]
  },
  {
   "cell_type": "code",
   "execution_count": 30,
   "id": "cb2e73be-db52-4532-8cba-dc24c1f6b45e",
   "metadata": {
    "tags": []
   },
   "outputs": [],
   "source": [
    "import math\n",
    "\n",
    "corte = 0\n",
    "step = 0.025\n",
    "best_score = 0\n",
    "best_corte = 0\n",
    "\n",
    "while corte < 1:\n",
    "    corte += step\n",
    "    try:\n",
    "        score = preds_valid[preds_valid.pred > corte].target.value_counts(normalize=True)[1]\n",
    "        if score > 0.65:\n",
    "            best_score = score\n",
    "            best_corte = corte\n",
    "            break\n",
    "    except Exception:\n",
    "        continue"
   ]
  },
  {
   "cell_type": "markdown",
   "id": "0d77fd3a-cb64-4e72-8cdd-5ec93cae6d6e",
   "metadata": {},
   "source": [
    "# Load models"
   ]
  },
  {
   "cell_type": "code",
   "execution_count": 48,
   "id": "0e221a74-2c00-47c2-94e4-10fefca4974b",
   "metadata": {},
   "outputs": [],
   "source": [
    "from crypto_bot.model.model import load_weights, ResNetIC\n",
    "buy_net = ResNetIC(5)\n",
    "load_weights(buy_net, 'buy_v1', WEIGHTS_PATH)\n",
    "\n",
    "sell_net = net"
   ]
  },
  {
   "cell_type": "code",
   "execution_count": null,
   "id": "6a52e158-e75a-4f38-8bc5-7a80bf0df375",
   "metadata": {},
   "outputs": [],
   "source": [
    "WAITING = 'waiting'\n",
    "HOLDING = 'holding'\n",
    "\n",
    "class BaseTrader():\n",
    "    self.CLOSE_COL = 'Close'\n",
    "\n",
    "    def should_buy(self, data):\n",
    "        pass\n",
    "    \n",
    "    def should_sell(self, data, bought_price):\n",
    "        pass\n",
    "    \n",
    "    def buy(self):\n",
    "        pass\n",
    "    \n",
    "    def sell(self):\n",
    "        pass\n",
    "\n",
    "class BaseLossLimitedTrader(BaseTrader):\n",
    "    def __init__(self, loss_limit=0.3):\n",
    "        self.loss_limit=loss_limit\n",
    "    \n",
    "    def should_sell(self, data, base_price):\n",
    "        last_price = data.iloc[-1][self.CLOSE_COL]\n",
    "        perc = last_price * 100 / base_price\n",
    "        \n",
    "        if perc < (100 - loss_limit):\n",
    "            return True\n",
    "        return False\n",
    "\n",
    "\n",
    "class DualModelTrader():\n",
    "    def __init__(self, buy_model, sell_model):\n",
    "        self.buy_model = buy_model\n",
    "        self.sell_model = sell_model\n",
    "    \n",
    "    def should_buy(self, data):\n",
    "        buy_score = self.buy_model(data)\n",
    "        sell_score = self.sell_model(data)\n",
    "        return buy_score > 0.7 and sell_score < 0.4\n",
    "    \n",
    "    def should_sell(self, data, bought_price):\n",
    "        should_sell = super().should_sell(data, bought_price)\n",
    "        if should_sell:\n",
    "            return True\n",
    "        \n",
    "        buy_score = self.buy_model(data)\n",
    "        sell_score = self.sell_model(data)\n",
    "        return buy_score < 0.4 and sell_score < 0.65"
   ]
  }
 ],
 "metadata": {
  "kernelspec": {
   "display_name": "Python 3 (ipykernel)",
   "language": "python",
   "name": "python3"
  },
  "language_info": {
   "codemirror_mode": {
    "name": "ipython",
    "version": 3
   },
   "file_extension": ".py",
   "mimetype": "text/x-python",
   "name": "python",
   "nbconvert_exporter": "python",
   "pygments_lexer": "ipython3",
   "version": "3.9.7"
  }
 },
 "nbformat": 4,
 "nbformat_minor": 5
}
