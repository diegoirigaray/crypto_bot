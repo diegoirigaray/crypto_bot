{
 "cells": [
  {
   "cell_type": "markdown",
   "id": "30d6380c-87f8-4cea-96ff-b68156547135",
   "metadata": {
    "jp-MarkdownHeadingCollapsed": true,
    "tags": []
   },
   "source": [
    "# Imports"
   ]
  },
  {
   "cell_type": "code",
   "execution_count": 1,
   "id": "6e458486-5120-49bb-9ebd-ba10742fb1b4",
   "metadata": {
    "tags": []
   },
   "outputs": [],
   "source": [
    "%load_ext autoreload\n",
    "%autoreload 2\n",
    "\n",
    "import pandas as pd\n",
    "import numpy as np\n",
    "import torch\n",
    "import matplotlib.pyplot as plt\n",
    "from sklearn.metrics import roc_curve, roc_auc_score\n",
    "from crypto_bot.utils import save_obj, load_obj, plot_roc\n",
    "\n",
    "DATA_FOLDER = 'C:/Users/diego/crypto_bot/data'\n",
    "WEIGHTS_PATH = 'C:/Users/diego/crypto_bot/data/models'"
   ]
  },
  {
   "cell_type": "markdown",
   "id": "1eb096e2-444f-4f01-9677-61b8e5b245dc",
   "metadata": {
    "tags": []
   },
   "source": [
    "# Load data"
   ]
  },
  {
   "cell_type": "code",
   "execution_count": 2,
   "id": "54e91990-ae3f-434c-8fee-54aa8a6aa304",
   "metadata": {},
   "outputs": [],
   "source": [
    "full_ds_name = '{}/data_loaders/lgbm_15m_v1.ds'.format(DATA_FOLDER)\n",
    "\n",
    "# Load\n",
    "full_ds = load_obj(full_ds_name)\n",
    "full_ds = full_ds.loc[:,~full_ds.T.duplicated(keep='first')]\n",
    "\n",
    "train_dataset = full_ds[full_ds.Date < '2022-01-01']\n",
    "valid_dataset = full_ds[full_ds.Date >= '2022-01-01']"
   ]
  },
  {
   "cell_type": "code",
   "execution_count": 3,
   "id": "586de11d-0a0d-4ea2-b204-7783a3dd322d",
   "metadata": {},
   "outputs": [
    {
     "data": {
      "text/plain": [
       "(136763, 39)"
      ]
     },
     "execution_count": 3,
     "metadata": {},
     "output_type": "execute_result"
    }
   ],
   "source": [
    "train_dataset.shape"
   ]
  },
  {
   "cell_type": "code",
   "execution_count": 4,
   "id": "e0c2d75e-e420-4b39-b336-92cd1822d61b",
   "metadata": {},
   "outputs": [],
   "source": [
    "X_train, y_train = train_dataset[128:].copy(), train_dataset[128:].target24.copy().astype('int')\n",
    "X_valid, y_valid = valid_dataset.copy(), valid_dataset.target24.copy().astype('int')"
   ]
  },
  {
   "cell_type": "markdown",
   "id": "f6965bca-0f4c-46e6-ab26-b5de15c5cf47",
   "metadata": {
    "jp-MarkdownHeadingCollapsed": true,
    "tags": []
   },
   "source": [
    "# Feature selection"
   ]
  },
  {
   "cell_type": "code",
   "execution_count": 87,
   "id": "e336643f-ad9b-4e62-90f3-a05ccbdb78fd",
   "metadata": {
    "tags": []
   },
   "outputs": [],
   "source": [
    "from boruta import BorutaPy\n",
    "from sklearn.ensemble import RandomForestClassifier"
   ]
  },
  {
   "cell_type": "code",
   "execution_count": 104,
   "id": "825222c2-87b4-41b5-8a58-41d71e812ee2",
   "metadata": {
    "tags": []
   },
   "outputs": [],
   "source": [
    "random_forest = RandomForestClassifier(\n",
    "    n_jobs=-1,\n",
    "    n_estimators=300,\n",
    "    class_weight='balanced',\n",
    "    max_depth=7,\n",
    "    min_samples_split=20\n",
    ")"
   ]
  },
  {
   "cell_type": "code",
   "execution_count": 105,
   "id": "a0adaaca-07b5-4821-9d62-127403889588",
   "metadata": {
    "tags": []
   },
   "outputs": [],
   "source": [
    "boruta = BorutaPy(\n",
    "    random_forest,\n",
    "    n_estimators='auto',\n",
    "    verbose=2,\n",
    "    random_state=1,\n",
    "    perc=100,\n",
    "    max_iter=100\n",
    ")"
   ]
  },
  {
   "cell_type": "code",
   "execution_count": 106,
   "id": "911f7a85-83fa-43e9-a1e0-6a10a4f7bfdc",
   "metadata": {
    "tags": []
   },
   "outputs": [],
   "source": [
    "from sklearn.pipeline import Pipeline\n",
    "from crypto_bot.model.transforms import DropFeatures, FeaturesImputer, ToFloatTransform, RegisterFeatures\n",
    "\n",
    "\n",
    "drop = [\n",
    "    'Date', 'Close', 'close_date',\n",
    "    'quote_asset_volume', 'number_of_trades', 'taker_buy_base_asset_volume',\n",
    "    'taker_buy_quote_asset_volume', 'target8',\n",
    "]\n",
    "\n",
    "pipe = Pipeline([\n",
    "    ('DROP_FEATURES', DropFeatures(drop)),\n",
    "    ('IMPUTER', FeaturesImputer(features='all', strategy='constant', fill_value=0)),\n",
    "    ('TO_FLOAT', ToFloatTransform()),\n",
    "    ('FEATURES', RegisterFeatures(to_numpy=True)),\n",
    "    ('MODEL', boruta)\n",
    "])"
   ]
  },
  {
   "cell_type": "code",
   "execution_count": 107,
   "id": "9d9b4c42-45a8-4fd7-80cf-f1deeb394e6b",
   "metadata": {
    "tags": []
   },
   "outputs": [
    {
     "name": "stdout",
     "output_type": "stream",
     "text": [
      "Iteration: \t1 / 100\n",
      "Confirmed: \t0\n",
      "Tentative: \t88\n",
      "Rejected: \t0\n",
      "Iteration: \t2 / 100\n",
      "Confirmed: \t0\n",
      "Tentative: \t88\n",
      "Rejected: \t0\n",
      "Iteration: \t3 / 100\n",
      "Confirmed: \t0\n",
      "Tentative: \t88\n",
      "Rejected: \t0\n",
      "Iteration: \t4 / 100\n",
      "Confirmed: \t0\n",
      "Tentative: \t88\n",
      "Rejected: \t0\n",
      "Iteration: \t5 / 100\n",
      "Confirmed: \t0\n",
      "Tentative: \t88\n",
      "Rejected: \t0\n",
      "Iteration: \t6 / 100\n",
      "Confirmed: \t0\n",
      "Tentative: \t88\n",
      "Rejected: \t0\n",
      "Iteration: \t7 / 100\n",
      "Confirmed: \t0\n",
      "Tentative: \t88\n",
      "Rejected: \t0\n",
      "Iteration: \t8 / 100\n",
      "Confirmed: \t25\n",
      "Tentative: \t1\n",
      "Rejected: \t62\n",
      "Iteration: \t9 / 100\n",
      "Confirmed: \t25\n",
      "Tentative: \t1\n",
      "Rejected: \t62\n",
      "Iteration: \t10 / 100\n",
      "Confirmed: \t25\n",
      "Tentative: \t1\n",
      "Rejected: \t62\n",
      "Iteration: \t11 / 100\n",
      "Confirmed: \t25\n",
      "Tentative: \t1\n",
      "Rejected: \t62\n",
      "Iteration: \t12 / 100\n",
      "Confirmed: \t25\n",
      "Tentative: \t1\n",
      "Rejected: \t62\n",
      "Iteration: \t13 / 100\n",
      "Confirmed: \t25\n",
      "Tentative: \t1\n",
      "Rejected: \t62\n",
      "Iteration: \t14 / 100\n",
      "Confirmed: \t25\n",
      "Tentative: \t1\n",
      "Rejected: \t62\n",
      "Iteration: \t15 / 100\n",
      "Confirmed: \t25\n",
      "Tentative: \t1\n",
      "Rejected: \t62\n",
      "Iteration: \t16 / 100\n",
      "Confirmed: \t25\n",
      "Tentative: \t1\n",
      "Rejected: \t62\n",
      "Iteration: \t17 / 100\n",
      "Confirmed: \t25\n",
      "Tentative: \t0\n",
      "Rejected: \t63\n",
      "\n",
      "\n",
      "BorutaPy finished running.\n",
      "\n",
      "Iteration: \t18 / 100\n",
      "Confirmed: \t25\n",
      "Tentative: \t0\n",
      "Rejected: \t63\n"
     ]
    },
    {
     "data": {
      "text/plain": [
       "Pipeline(steps=[('DROP_FEATURES',\n",
       "                 DropFeatures(features=['Date', 'Close', 'close_date',\n",
       "                                        'quote_asset_volume',\n",
       "                                        'number_of_trades',\n",
       "                                        'taker_buy_base_asset_volume',\n",
       "                                        'taker_buy_quote_asset_volume',\n",
       "                                        'target8'])),\n",
       "                ('IMPUTER', FeaturesImputer(features='all')),\n",
       "                ('TO_FLOAT', ToFloatTransform()),\n",
       "                ('FEATURES', RegisterFeatures(to_numpy=True)),\n",
       "                ('MODEL',\n",
       "                 BorutaPy(estimator=RandomForestClassifier(class_weight='balanced',\n",
       "                                                           max_depth=7,\n",
       "                                                           min_samples_split=20,\n",
       "                                                           n_estimators=103,\n",
       "                                                           n_jobs=-1,\n",
       "                                                           random_state=RandomState(MT19937) at 0x1CC0218EB40),\n",
       "                          n_estimators='auto',\n",
       "                          random_state=RandomState(MT19937) at 0x1CC0218EB40,\n",
       "                          verbose=2))])"
      ]
     },
     "execution_count": 107,
     "metadata": {},
     "output_type": "execute_result"
    }
   ],
   "source": [
    "pipe.fit(X_train.copy(), y_train.copy())"
   ]
  },
  {
   "cell_type": "code",
   "execution_count": 108,
   "id": "4e6d9089-0c06-4095-aa7e-3fb594d44356",
   "metadata": {
    "tags": []
   },
   "outputs": [],
   "source": [
    "df_sel = pd.DataFrame({\n",
    "    'name': pipe['FEATURES'].features,\n",
    "    'top': pipe['MODEL'].support_,\n",
    "    'weak': pipe['MODEL'].support_weak_\n",
    "})\n",
    "df_sel['low'] = ~(df_sel['top'] | df_sel['weak'])"
   ]
  },
  {
   "cell_type": "code",
   "execution_count": 109,
   "id": "a5a0ddd0-3b20-4dc9-a3d8-de3a07114639",
   "metadata": {
    "tags": []
   },
   "outputs": [],
   "source": [
    "pd.set_option('display.max_rows', 400)\n",
    "fs_top = df_sel[df_sel.top == True].name.tolist() # mas relevantes\n",
    "fs_weak = df_sel[df_sel.weak == True].name.tolist() # talvez relevantes\n",
    "fs_low = df_sel[df_sel.low == True].name.tolist() # descartadas\n",
    "fs_ext = df_sel[df_sel.low != True].name.tolist() # no descartadas"
   ]
  },
  {
   "cell_type": "code",
   "execution_count": 110,
   "id": "1cdcf99a-94f4-43b5-8a03-74a9e047b716",
   "metadata": {
    "tags": []
   },
   "outputs": [],
   "source": [
    "selected_features = fs_top + fs_weak"
   ]
  },
  {
   "cell_type": "code",
   "execution_count": 112,
   "id": "53e69207-b42b-43b7-bb9f-d7d7e1d7f34c",
   "metadata": {
    "tags": []
   },
   "outputs": [],
   "source": [
    "selected_features = [\n",
    "    'Open',\n",
    "    'High',\n",
    "    'Low',\n",
    "    'Volume',\n",
    "    'bbands16_0',\n",
    "    'bbands16_1',\n",
    "    'bbands16_2',\n",
    "    'bbands64_0',\n",
    "    'bbands64_1',\n",
    "    'bbands64_2',\n",
    "    'sma5',\n",
    "    'sma8',\n",
    "    'sma13',\n",
    "    'mama0',\n",
    "    'mama1',\n",
    "    'rsi6',\n",
    "    'rsi14',\n",
    "    'min_sma13_16',\n",
    "    'min_sma13_64',\n",
    "    'max_sma13_16',\n",
    "    'max_sma13_64',\n",
    "    'min_supsma_16',\n",
    "    'min_ressma_16',\n",
    "    'min_ressma_32',\n",
    "]"
   ]
  },
  {
   "cell_type": "markdown",
   "id": "6eb9dfe8-566b-48eb-9e6e-9b7b67671d0b",
   "metadata": {
    "tags": []
   },
   "source": [
    "# Define model"
   ]
  },
  {
   "cell_type": "code",
   "execution_count": 22,
   "id": "182d0c45-1ed3-41d6-a3e0-ebf6c6e36093",
   "metadata": {},
   "outputs": [],
   "source": [
    "from lightgbm import LGBMClassifier\n",
    "\n",
    "\n",
    "model = LGBMClassifier(\n",
    "    num_leaves=18,\n",
    "    max_depth=5,\n",
    "    learning_rate=0.01,\n",
    "    n_estimators=3000,\n",
    "    class_weight='balanced',\n",
    "    min_child_samples=300,\n",
    "    subsample=0.5,\n",
    "    colsample_bytree=0.5,\n",
    ")"
   ]
  },
  {
   "cell_type": "code",
   "execution_count": 23,
   "id": "eaaf9c6b-c630-445d-825a-603885806a04",
   "metadata": {},
   "outputs": [],
   "source": [
    "from sklearn.pipeline import Pipeline\n",
    "from crypto_bot.model.transforms import DropFeatures, FeaturesImputer, ToFloatTransform, FilterFeatures\n",
    "\n",
    "\n",
    "drop = [\n",
    "    'Date', 'Close', 'close_date',\n",
    "    'quote_asset_volume', 'number_of_trades', 'taker_buy_base_asset_volume',\n",
    "    'taker_buy_quote_asset_volume', 'target24',\n",
    "     # 'Open', 'High', 'Low', 'Volume',\n",
    "]\n",
    "\n",
    "pipe = Pipeline([\n",
    "    # ('FILTER_FEATURES', FilterFeatures(selected_features)),\n",
    "    ('DROP_FEATURES', DropFeatures(features=drop)),\n",
    "    ('IMPUTER', FeaturesImputer(features='all', strategy='constant', fill_value=0)),\n",
    "    ('TO_FLOAT', ToFloatTransform()),\n",
    "    ('MODEL', model)\n",
    "])"
   ]
  },
  {
   "cell_type": "markdown",
   "id": "d7cbc8fa-3a6e-4d98-b9ee-da9b00ec4596",
   "metadata": {
    "tags": []
   },
   "source": [
    "# Train"
   ]
  },
  {
   "cell_type": "code",
   "execution_count": 24,
   "id": "b1f98d69-5921-4155-a9ec-ea44953057cc",
   "metadata": {
    "tags": []
   },
   "outputs": [
    {
     "data": {
      "text/plain": [
       "Pipeline(steps=[('DROP_FEATURES',\n",
       "                 DropFeatures(features=['Date', 'Close', 'close_date',\n",
       "                                        'quote_asset_volume',\n",
       "                                        'number_of_trades',\n",
       "                                        'taker_buy_base_asset_volume',\n",
       "                                        'taker_buy_quote_asset_volume',\n",
       "                                        'target24'])),\n",
       "                ('IMPUTER', FeaturesImputer(features='all')),\n",
       "                ('TO_FLOAT', ToFloatTransform()),\n",
       "                ('MODEL',\n",
       "                 LGBMClassifier(class_weight='balanced', colsample_bytree=0.5,\n",
       "                                learning_rate=0.01, max_depth=5,\n",
       "                                min_child_samples=300, n_estimators=3000,\n",
       "                                num_leaves=18, subsample=0.5))])"
      ]
     },
     "execution_count": 24,
     "metadata": {},
     "output_type": "execute_result"
    }
   ],
   "source": [
    "pipe.fit(X_train.copy(), y_train.copy())"
   ]
  },
  {
   "cell_type": "code",
   "execution_count": 18,
   "id": "98380d93-af9a-4541-b939-62c8a52a9e68",
   "metadata": {},
   "outputs": [],
   "source": [
    "train_pred = pipe.predict_proba(X_train.copy())[:,1].flatten()\n",
    "valid_pred = pipe.predict_proba(X_valid.copy())[:,1].flatten()"
   ]
  },
  {
   "cell_type": "code",
   "execution_count": 19,
   "id": "025fdd44-18be-4ff5-9585-ea6f605f6a58",
   "metadata": {},
   "outputs": [
    {
     "data": {
      "image/png": "[encoded data removed]",
      "text/plain": [
       "<Figure size 432x288 with 1 Axes>"
      ]
     },
     "metadata": {
      "needs_background": "light"
     },
     "output_type": "display_data"
    }
   ],
   "source": [
    "plot_roc({'train': (y_train, train_pred), 'valid': (y_valid, valid_pred)})"
   ]
  },
  {
   "cell_type": "code",
   "execution_count": 25,
   "id": "a2b87f53-6762-4b76-9da9-9278192034c2",
   "metadata": {},
   "outputs": [],
   "source": [
    "X_train['pred'] = train_pred\n",
    "X_valid['pred'] = valid_pred"
   ]
  },
  {
   "cell_type": "code",
   "execution_count": 27,
   "id": "57ca4043-3d51-4901-94e9-d219948ebf98",
   "metadata": {},
   "outputs": [
    {
     "data": {
      "text/plain": [
       "target24\n",
       "0.0    AxesSubplot(0.125,0.125;0.775x0.755)\n",
       "1.0    AxesSubplot(0.125,0.125;0.775x0.755)\n",
       "Name: pred, dtype: object"
      ]
     },
     "execution_count": 27,
     "metadata": {},
     "output_type": "execute_result"
    },
    {
     "data": {
      "image/png": "[encoded data removed]",
      "text/plain": [
       "<Figure size 432x288 with 1 Axes>"
      ]
     },
     "metadata": {
      "needs_background": "light"
     },
     "output_type": "display_data"
    }
   ],
   "source": [
    "X_train.groupby('target24')['pred'].plot(kind='density', legend=True)"
   ]
  },
  {
   "cell_type": "code",
   "execution_count": 28,
   "id": "34359734-d147-48b8-a44c-ea689226d51b",
   "metadata": {},
   "outputs": [
    {
     "data": {
      "text/plain": [
       "target24\n",
       "0.0    AxesSubplot(0.125,0.125;0.775x0.755)\n",
       "1.0    AxesSubplot(0.125,0.125;0.775x0.755)\n",
       "Name: pred, dtype: object"
      ]
     },
     "execution_count": 28,
     "metadata": {},
     "output_type": "execute_result"
    },
    {
     "data": {
      "image/png": "[encoded data removed]",
      "text/plain": [
       "<Figure size 432x288 with 1 Axes>"
      ]
     },
     "metadata": {
      "needs_background": "light"
     },
     "output_type": "display_data"
    }
   ],
   "source": [
    "X_valid.groupby('target24')['pred'].plot(kind='density', legend=True)"
   ]
  },
  {
   "cell_type": "code",
   "execution_count": 58,
   "id": "b2cf128e-d5f1-42c6-8f65-61b845457f65",
   "metadata": {},
   "outputs": [
    {
     "data": {
      "text/plain": [
       "0.0    0.666667\n",
       "1.0    0.333333\n",
       "Name: target8, dtype: float64"
      ]
     },
     "execution_count": 58,
     "metadata": {},
     "output_type": "execute_result"
    }
   ],
   "source": [
    "X_valid[X_valid.pred > 0.55].target8.value_counts(normalize=True)"
   ]
  },
  {
   "cell_type": "code",
   "execution_count": 86,
   "id": "eab07b29-fe2b-4c16-90ec-8945ccd3e339",
   "metadata": {},
   "outputs": [
    {
     "data": {
      "text/plain": [
       "Series([], Name: target8, dtype: float64)"
      ]
     },
     "execution_count": 86,
     "metadata": {},
     "output_type": "execute_result"
    }
   ],
   "source": [
    "X_valid[X_valid.pred > 0.6].target8.value_counts(normalize=True)"
   ]
  },
  {
   "cell_type": "code",
   "execution_count": 49,
   "id": "9e32c34d-f15e-47b7-9c8d-7deb3e5b0a0b",
   "metadata": {},
   "outputs": [],
   "source": [
    "def find_threshold(ds, target_name, step=0.025, min_score=0.65):\n",
    "    threshold = 0\n",
    "    while threshold < 1:\n",
    "        threshold += step\n",
    "        segment = ds[ds.pred > threshold]\n",
    "        if not len(segment):\n",
    "            break\n",
    "        distr = segment[target_name].value_counts(normalize=True)\n",
    "        if 1 in distr and distr[1] > min_score:\n",
    "            return threshold, distr[1]\n",
    "    return None, None\n",
    "\n",
    "def print_scores(ds, target_name, step=0.025, min_threshold=0.3, max_threshold=1):\n",
    "    threshold = min_threshold\n",
    "    while threshold < min(max_threshold, 1):\n",
    "        segment = ds[ds.pred > threshold]\n",
    "        if not len(segment):\n",
    "            break\n",
    "        distr = segment[target_name].value_counts(normalize=True)\n",
    "        if 1 in distr:\n",
    "            print('Th: {:.3f} Score: {:.3f} ({})'.format(threshold, distr[1], len(segment)))\n",
    "        else:\n",
    "            print('Th: {:.3f} Score:- ({})'.format(threshold, len(segment)))\n",
    "        threshold += step"
   ]
  },
  {
   "cell_type": "code",
   "execution_count": 50,
   "id": "7fd5fe70-3aa5-4597-a8e8-3741b19f7819",
   "metadata": {},
   "outputs": [
    {
     "data": {
      "text/plain": [
       "(None, None)"
      ]
     },
     "execution_count": 50,
     "metadata": {},
     "output_type": "execute_result"
    }
   ],
   "source": [
    "find_threshold(X_valid, 'target8')"
   ]
  },
  {
   "cell_type": "code",
   "execution_count": 103,
   "id": "e79fc660-c134-4322-a0cb-12be50655cd4",
   "metadata": {},
   "outputs": [
    {
     "name": "stdout",
     "output_type": "stream",
     "text": [
      "Th: 0.500 Score: 0.223 (864)\n",
      "Th: 0.505 Score: 0.228 (801)\n",
      "Th: 0.510 Score: 0.239 (740)\n",
      "Th: 0.515 Score: 0.242 (677)\n",
      "Th: 0.520 Score: 0.245 (629)\n",
      "Th: 0.525 Score: 0.243 (572)\n",
      "Th: 0.530 Score: 0.247 (527)\n",
      "Th: 0.535 Score: 0.247 (478)\n",
      "Th: 0.540 Score: 0.256 (446)\n",
      "Th: 0.545 Score: 0.274 (413)\n",
      "Th: 0.550 Score: 0.277 (376)\n",
      "Th: 0.555 Score: 0.275 (338)\n",
      "Th: 0.560 Score: 0.283 (300)\n",
      "Th: 0.565 Score: 0.290 (269)\n",
      "Th: 0.570 Score: 0.295 (241)\n",
      "Th: 0.575 Score: 0.315 (216)\n",
      "Th: 0.580 Score: 0.303 (188)\n",
      "Th: 0.585 Score: 0.291 (179)\n",
      "Th: 0.590 Score: 0.280 (164)\n",
      "Th: 0.595 Score: 0.283 (152)\n",
      "Th: 0.600 Score: 0.285 (137)\n",
      "Th: 0.605 Score: 0.298 (121)\n",
      "Th: 0.610 Score: 0.306 (111)\n",
      "Th: 0.615 Score: 0.333 (96)\n",
      "Th: 0.620 Score: 0.301 (83)\n",
      "Th: 0.625 Score: 0.254 (71)\n",
      "Th: 0.630 Score: 0.233 (60)\n",
      "Th: 0.635 Score: 0.220 (50)\n",
      "Th: 0.640 Score: 0.213 (47)\n",
      "Th: 0.645 Score: 0.209 (43)\n",
      "Th: 0.650 Score: 0.257 (35)\n",
      "Th: 0.655 Score: 0.300 (30)\n",
      "Th: 0.660 Score: 0.321 (28)\n",
      "Th: 0.665 Score: 0.250 (24)\n",
      "Th: 0.670 Score: 0.238 (21)\n",
      "Th: 0.675 Score: 0.167 (18)\n",
      "Th: 0.680 Score: 0.200 (15)\n",
      "Th: 0.685 Score: 0.214 (14)\n",
      "Th: 0.690 Score: 0.231 (13)\n",
      "Th: 0.695 Score: 0.167 (12)\n",
      "Th: 0.700 Score: 0.250 (8)\n",
      "Th: 0.705 Score: 0.333 (6)\n",
      "Th: 0.710 Score: 0.400 (5)\n",
      "Th: 0.715 Score: 0.400 (5)\n",
      "Th: 0.720 Score: 0.400 (5)\n",
      "Th: 0.725 Score: 0.500 (4)\n",
      "Th: 0.730 Score: 0.500 (4)\n",
      "Th: 0.735 Score: 0.333 (3)\n",
      "Th: 0.740 Score: 0.333 (3)\n",
      "Th: 0.745 Score: 0.500 (2)\n",
      "Th: 0.750 Score: 1.000 (1)\n"
     ]
    }
   ],
   "source": [
    "print_scores(X_valid, 'target8', step=0.005, min_threshold=0.5)"
   ]
  },
  {
   "cell_type": "markdown",
   "id": "4b9c7968-b77f-4df8-b53c-e95f980c9fc0",
   "metadata": {},
   "source": [
    "## Metrics"
   ]
  },
  {
   "cell_type": "markdown",
   "id": "4fbfda97-97c2-400b-9d0d-8360114a5458",
   "metadata": {},
   "source": [
    "## Save model"
   ]
  },
  {
   "cell_type": "code",
   "execution_count": 157,
   "id": "0c48c8b2-1ae7-49a5-ab69-05c9b5e50d64",
   "metadata": {},
   "outputs": [],
   "source": [
    "save_obj(WEIGHTS_PATH + '/lgbm.pickle', pipe)"
   ]
  },
  {
   "cell_type": "code",
   "execution_count": 59,
   "id": "5e17385f-a333-419f-8d08-f3acbd9a7da2",
   "metadata": {},
   "outputs": [
    {
     "data": {
      "text/plain": [
       "float"
      ]
     },
     "execution_count": 59,
     "metadata": {},
     "output_type": "execute_result"
    }
   ],
   "source": [
    "trainer.model(train_dataset[0][0].unsqueeze(0).float())[0].item()"
   ]
  },
  {
   "cell_type": "code",
   "execution_count": null,
   "id": "dafb8a65-56c2-4de8-8479-858b1d3ef271",
   "metadata": {},
   "outputs": [],
   "source": []
  }
 ],
 "metadata": {
  "kernelspec": {
   "display_name": "Python 3 (ipykernel)",
   "language": "python",
   "name": "python3"
  },
  "language_info": {
   "codemirror_mode": {
    "name": "ipython",
    "version": 3
   },
   "file_extension": ".py",
   "mimetype": "text/x-python",
   "name": "python",
   "nbconvert_exporter": "python",
   "pygments_lexer": "ipython3",
   "version": "3.9.7"
  }
 },
 "nbformat": 4,
 "nbformat_minor": 5
}
