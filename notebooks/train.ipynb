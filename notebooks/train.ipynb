{
 "cells": [
  {
   "cell_type": "markdown",
   "id": "0ded73d5-d3a9-43df-8ce1-1b7950a835d5",
   "metadata": {
    "jp-MarkdownHeadingCollapsed": true,
    "tags": []
   },
   "source": [
    "# Imports"
   ]
  },
  {
   "cell_type": "code",
   "execution_count": 1,
   "id": "6e458486-5120-49bb-9ebd-ba10742fb1b4",
   "metadata": {
    "tags": []
   },
   "outputs": [],
   "source": [
    "%load_ext autoreload\n",
    "%autoreload 2\n",
    "\n",
    "import pandas as pd\n",
    "import numpy as np\n",
    "import torch\n",
    "import matplotlib.pyplot as plt\n",
    "from sklearn.metrics import roc_curve, roc_auc_score\n",
    "from torch.utils.data import DataLoader\n",
    "from crypto_bot.utils import save_obj, load_obj\n",
    "from crypto_bot.model.data import get_class_weights, get_scaled_class_weights, get_weighted_random_sampler\n",
    "from crypto_bot.model.train_loop import Trainer\n",
    "\n",
    "DATA_FOLDER = 'C:/Users/diego/crypto_bot/data'\n",
    "WEIGHTS_PATH = 'C:/Users/diego/crypto_bot/data/models'"
   ]
  },
  {
   "cell_type": "markdown",
   "id": "1eb096e2-444f-4f01-9677-61b8e5b245dc",
   "metadata": {
    "tags": []
   },
   "source": [
    "# Load data"
   ]
  },
  {
   "cell_type": "code",
   "execution_count": 2,
   "id": "54e91990-ae3f-434c-8fee-54aa8a6aa304",
   "metadata": {},
   "outputs": [],
   "source": [
    "train_ds_name = '{}/data_loaders/train_nn_15m_v1.ds'.format(DATA_FOLDER)\n",
    "valid_ds_name = '{}/data_loaders/valid_nn_15m_v1.ds'.format(DATA_FOLDER)\n",
    "\n",
    "# # Load\n",
    "train_dataset = load_obj(train_ds_name)\n",
    "valid_dataset = load_obj(valid_ds_name)"
   ]
  },
  {
   "cell_type": "markdown",
   "id": "a653306d-9d72-49bb-9c9a-c82a2c39a4b6",
   "metadata": {
    "tags": []
   },
   "source": [
    "### Sampler"
   ]
  },
  {
   "cell_type": "code",
   "execution_count": 3,
   "id": "a6aa51d5-9132-445d-b21c-55f061b01ab8",
   "metadata": {
    "tags": []
   },
   "outputs": [],
   "source": [
    "# Binary\n",
    "weights = get_class_weights(train_dataset, 2)\n",
    "# weights = (1.9060870891191019e-06, 2.33737699553561e-05)\n",
    "\n",
    "# # Multiclass\n",
    "# # weights = get_class_weights(train_dataset, 3)\n",
    "# weights = (2.6139690506064407e-05, 6.197937326457755e-06, 2.7187358965575367e-06)\n",
    "\n",
    "sampler_train = get_weighted_random_sampler(train_dataset, weights)\n",
    "sampler_valid = get_weighted_random_sampler(valid_dataset, weights)"
   ]
  },
  {
   "cell_type": "markdown",
   "id": "5911d98b-359e-48be-ac55-2a1df986767c",
   "metadata": {},
   "source": [
    "### DataLoader"
   ]
  },
  {
   "cell_type": "code",
   "execution_count": 4,
   "id": "b04b9d75-087e-463b-95a8-dd35ea2cc864",
   "metadata": {},
   "outputs": [],
   "source": [
    "train_loader = DataLoader(train_dataset, batch_size=64, num_workers=0, sampler=sampler_train)\n",
    "valid_loader = DataLoader(valid_dataset, batch_size=64, num_workers=0, sampler=sampler_valid)"
   ]
  },
  {
   "cell_type": "markdown",
   "id": "6eb9dfe8-566b-48eb-9e6e-9b7b67671d0b",
   "metadata": {
    "tags": []
   },
   "source": [
    "# Train model"
   ]
  },
  {
   "cell_type": "markdown",
   "id": "d7cbc8fa-3a6e-4d98-b9ee-da9b00ec4596",
   "metadata": {
    "tags": []
   },
   "source": [
    "## Train loop"
   ]
  },
  {
   "cell_type": "code",
   "execution_count": 17,
   "id": "b1f98d69-5921-4155-a9ec-ea44953057cc",
   "metadata": {
    "collapsed": true,
    "jupyter": {
     "outputs_hidden": true
    },
    "tags": []
   },
   "outputs": [
    {
     "name": "stdout",
     "output_type": "stream",
     "text": [
      "Using device: cuda:0\n",
      "Epoch: 1/20 - 13.96%\n",
      "Epoch: 1/20 - 27.93%\n",
      "Epoch: 1/20 - 41.89%\n",
      "Epoch: 1/20 - 55.85%\n",
      "Epoch: 1/20 - 69.82%\n",
      "Epoch: 1/20 - 83.78%\n",
      "Epoch: 1/20 - 97.74%\n",
      "Epoch: 1/20 - Train Loss: 0.6157272535640745 - Valid loss 0.6283686960940025\n",
      "Epoch: 2/20 - 11.70%\n",
      "Epoch: 2/20 - 25.66%\n",
      "Epoch: 2/20 - 39.63%\n",
      "Epoch: 2/20 - 53.59%\n",
      "Epoch: 2/20 - 67.55%\n",
      "Epoch: 2/20 - 81.52%\n",
      "Epoch: 2/20 - 95.48%\n",
      "Epoch: 2/20 - Train Loss: 0.6100842505110872 - Valid loss 0.6345656256028711\n",
      "Epoch: 3/20 - 9.44%\n",
      "Epoch: 3/20 - 23.40%\n",
      "Epoch: 3/20 - 37.37%\n",
      "Epoch: 3/20 - 51.33%\n",
      "Epoch: 3/20 - 65.29%\n",
      "Epoch: 3/20 - 79.25%\n",
      "Epoch: 3/20 - 93.22%\n",
      "Epoch: 3/20 - Train Loss: 0.6082239558837561 - Valid loss 0.630226251582674\n",
      "Epoch: 4/20 - 7.18%\n",
      "Epoch: 4/20 - 21.14%\n",
      "Epoch: 4/20 - 35.10%\n",
      "Epoch: 4/20 - 49.07%\n",
      "Epoch: 4/20 - 63.03%\n",
      "Epoch: 4/20 - 76.99%\n",
      "Epoch: 4/20 - 90.96%\n",
      "Epoch: 4/20 - Train Loss: 0.6047460820439541 - Valid loss 0.6315111487993077\n",
      "Epoch: 5/20 - 4.91%\n",
      "Epoch: 5/20 - 18.88%\n",
      "Epoch: 5/20 - 32.84%\n",
      "Epoch: 5/20 - 46.80%\n",
      "Epoch: 5/20 - 60.77%\n",
      "Epoch: 5/20 - 74.73%\n",
      "Epoch: 5/20 - 88.69%\n",
      "Epoch: 5/20 - Train Loss: 0.6040357863418685 - Valid loss 0.6332924838513689\n",
      "Epoch: 6/20 - 2.65%\n",
      "Epoch: 6/20 - 16.62%\n",
      "Epoch: 6/20 - 30.58%\n",
      "Epoch: 6/20 - 44.54%\n",
      "Epoch: 6/20 - 58.50%\n",
      "Epoch: 6/20 - 72.47%\n",
      "Epoch: 6/20 - 86.43%\n",
      "Epoch: 6/20 - Train Loss: 0.6024594035886979 - Valid loss 0.6351819545806119\n",
      "Epoch: 7/20 - 0.39%\n",
      "Epoch: 7/20 - 14.35%\n",
      "Epoch: 7/20 - 28.32%\n",
      "Epoch: 7/20 - 42.28%\n",
      "Epoch: 7/20 - 56.24%\n",
      "Epoch: 7/20 - 70.21%\n",
      "Epoch: 7/20 - 84.17%\n",
      "Epoch: 7/20 - 98.13%\n",
      "Epoch: 7/20 - Train Loss: 0.6012012541909951 - Valid loss 0.6270309861707865\n",
      "Epoch: 8/20 - 12.09%\n",
      "Epoch: 8/20 - 26.05%\n",
      "Epoch: 8/20 - 40.02%\n",
      "Epoch: 8/20 - 53.98%\n",
      "Epoch: 8/20 - 67.94%\n",
      "Epoch: 8/20 - 81.91%\n",
      "Epoch: 8/20 - 95.87%\n",
      "Epoch: 8/20 - Train Loss: 0.5997857453561102 - Valid loss 0.6342319132670151\n",
      "Epoch: 9/20 - 9.83%\n",
      "Epoch: 9/20 - 23.79%\n",
      "Epoch: 9/20 - 37.76%\n",
      "Epoch: 9/20 - 51.72%\n",
      "Epoch: 9/20 - 65.68%\n",
      "Epoch: 9/20 - 79.64%\n",
      "Epoch: 9/20 - 93.61%\n",
      "Epoch: 9/20 - Train Loss: 0.5995891440292538 - Valid loss 0.6317049644915145\n",
      "Epoch: 10/20 - 7.57%\n",
      "Epoch: 10/20 - 21.53%\n",
      "Epoch: 10/20 - 35.49%\n",
      "Epoch: 10/20 - 49.46%\n",
      "Epoch: 10/20 - 63.42%\n",
      "Epoch: 10/20 - 77.38%\n",
      "Epoch: 10/20 - 91.35%\n",
      "Epoch: 10/20 - Train Loss: 0.599132638084459 - Valid loss 0.6306922504449866\n",
      "Epoch: 11/20 - 5.31%\n",
      "Epoch: 11/20 - 19.27%\n",
      "Epoch: 11/20 - 33.23%\n",
      "Epoch: 11/20 - 47.19%\n",
      "Epoch: 11/20 - 61.16%\n",
      "Epoch: 11/20 - 75.12%\n",
      "Epoch: 11/20 - 89.08%\n",
      "Epoch: 11/20 - Train Loss: 0.5983727489335682 - Valid loss 0.6293435829058013\n",
      "Epoch: 12/20 - 3.04%\n",
      "Epoch: 12/20 - 17.01%\n",
      "Epoch: 12/20 - 30.97%\n",
      "Epoch: 12/20 - 44.93%\n",
      "Epoch: 12/20 - 58.90%\n",
      "Epoch: 12/20 - 72.86%\n",
      "Epoch: 12/20 - 86.82%\n",
      "Epoch: 12/20 - Train Loss: 0.5977515434751095 - Valid loss 0.630675538654221\n",
      "Epoch: 13/20 - 0.78%\n",
      "Epoch: 13/20 - 14.74%\n",
      "Epoch: 13/20 - 28.71%\n",
      "Epoch: 13/20 - 42.67%\n",
      "Epoch: 13/20 - 56.63%\n",
      "Epoch: 13/20 - 70.60%\n",
      "Epoch: 13/20 - 84.56%\n",
      "Epoch: 13/20 - 98.52%\n",
      "Epoch: 13/20 - Train Loss: 0.5967021393013613 - Valid loss 0.6342502840167971\n",
      "Epoch: 14/20 - 12.48%\n",
      "Epoch: 14/20 - 26.45%\n",
      "Epoch: 14/20 - 40.41%\n",
      "Epoch: 14/20 - 54.37%\n",
      "Epoch: 14/20 - 68.33%\n",
      "Epoch: 14/20 - 82.30%\n",
      "Epoch: 14/20 - 96.26%\n",
      "Epoch: 14/20 - Train Loss: 0.5972722519695742 - Valid loss 0.6259695253850802\n",
      "Epoch: 15/20 - 10.22%\n",
      "Epoch: 15/20 - 24.18%\n",
      "Epoch: 15/20 - 38.15%\n",
      "Epoch: 15/20 - 52.11%\n",
      "Epoch: 15/20 - 66.07%\n",
      "Epoch: 15/20 - 80.04%\n",
      "Epoch: 15/20 - 94.00%\n",
      "Epoch: 15/20 - Train Loss: 0.5959873138043974 - Valid loss 0.63735668754489\n",
      "Epoch: 16/20 - 7.96%\n",
      "Epoch: 16/20 - 21.92%\n",
      "Epoch: 16/20 - 35.88%\n",
      "Epoch: 16/20 - 49.85%\n",
      "Epoch: 16/20 - 63.81%\n",
      "Epoch: 16/20 - 77.77%\n",
      "Epoch: 16/20 - 91.74%\n",
      "Epoch: 16/20 - Train Loss: 0.5946343755945085 - Valid loss 0.6332249307942657\n",
      "Epoch: 17/20 - 5.70%\n",
      "Epoch: 17/20 - 19.66%\n",
      "Epoch: 17/20 - 33.62%\n",
      "Epoch: 17/20 - 47.59%\n",
      "Epoch: 17/20 - 61.55%\n",
      "Epoch: 17/20 - 75.51%\n",
      "Epoch: 17/20 - 89.47%\n",
      "Epoch: 17/20 - Train Loss: 0.5946053894196632 - Valid loss 0.6294612693963884\n",
      "Epoch: 18/20 - 3.43%\n",
      "Epoch: 18/20 - 17.40%\n",
      "Epoch: 18/20 - 31.36%\n",
      "Epoch: 18/20 - 45.32%\n",
      "Epoch: 18/20 - 59.29%\n",
      "Epoch: 18/20 - 73.25%\n",
      "Epoch: 18/20 - 87.21%\n",
      "Epoch: 18/20 - Train Loss: 0.594940106139207 - Valid loss 0.6327489780670649\n",
      "Epoch: 19/20 - 1.17%\n",
      "Epoch: 19/20 - 15.14%\n",
      "Epoch: 19/20 - 29.10%\n",
      "Epoch: 19/20 - 43.06%\n",
      "Epoch: 19/20 - 57.02%\n",
      "Epoch: 19/20 - 70.99%\n",
      "Epoch: 19/20 - 84.95%\n",
      "Epoch: 19/20 - 98.91%\n",
      "Epoch: 19/20 - Train Loss: 0.5931441629109386 - Valid loss 0.6314222783293423\n",
      "Epoch: 20/20 - 12.87%\n",
      "Epoch: 20/20 - 26.84%\n",
      "Epoch: 20/20 - 40.80%\n",
      "Epoch: 20/20 - 54.76%\n",
      "Epoch: 20/20 - 68.73%\n",
      "Epoch: 20/20 - 82.69%\n",
      "Epoch: 20/20 - 96.65%\n",
      "Epoch: 20/20 - Train Loss: 0.5943216981542606 - Valid loss 0.6375655269866539\n"
     ]
    },
    {
     "data": {
      "text/plain": [
       "ConvBotBinary(\n",
       "  (conv1): Conv1d(16, 24, kernel_size=(4,), stride=(1,), padding=same)\n",
       "  (bn1): BatchNorm1d(24, eps=1e-05, momentum=0.1, affine=True, track_running_stats=True)\n",
       "  (do1): Dropout(p=0.5, inplace=False)\n",
       "  (conv2): Conv1d(24, 48, kernel_size=(8,), stride=(1,), padding=same)\n",
       "  (bn2): BatchNorm1d(48, eps=1e-05, momentum=0.1, affine=True, track_running_stats=True)\n",
       "  (do2): Dropout(p=0.5, inplace=False)\n",
       "  (conv3): Conv1d(48, 48, kernel_size=(6,), stride=(1,), padding=same)\n",
       "  (bn3): BatchNorm1d(48, eps=1e-05, momentum=0.1, affine=True, track_running_stats=True)\n",
       "  (fc1): Linear(in_features=48, out_features=1, bias=True)\n",
       ")"
      ]
     },
     "execution_count": 17,
     "metadata": {},
     "output_type": "execute_result"
    }
   ],
   "source": [
    "from crypto_bot.model.model import ConvBotBinary\n",
    "\n",
    "trainer = Trainer(ConvBotBinary(16), train_loader, valid_loader, 20)\n",
    "trainer.train()"
   ]
  },
  {
   "cell_type": "markdown",
   "id": "4b9c7968-b77f-4df8-b53c-e95f980c9fc0",
   "metadata": {},
   "source": [
    "## Metrics"
   ]
  },
  {
   "cell_type": "code",
   "execution_count": 18,
   "id": "10752960-7f40-497f-9644-f8a7e76ebc62",
   "metadata": {},
   "outputs": [
    {
     "data": {
      "image/png": "[encoded data removed]",
      "text/plain": [
       "<Figure size 432x288 with 1 Axes>"
      ]
     },
     "metadata": {
      "needs_background": "light"
     },
     "output_type": "display_data"
    }
   ],
   "source": [
    "trainer.plot_roc()"
   ]
  },
  {
   "cell_type": "code",
   "execution_count": 19,
   "id": "14009a38-398c-472c-9edf-312d4521734b",
   "metadata": {},
   "outputs": [
    {
     "data": {
      "image/png": "[encoded data removed]",
      "text/plain": [
       "<Figure size 432x288 with 1 Axes>"
      ]
     },
     "metadata": {
      "needs_background": "light"
     },
     "output_type": "display_data"
    }
   ],
   "source": [
    "trainer.plot_train_distr()"
   ]
  },
  {
   "cell_type": "code",
   "execution_count": 20,
   "id": "c4073830-4a63-41f7-a167-a6ba3053c9c4",
   "metadata": {},
   "outputs": [
    {
     "data": {
      "image/png": "[encoded data removed]",
      "text/plain": [
       "<Figure size 432x288 with 1 Axes>"
      ]
     },
     "metadata": {
      "needs_background": "light"
     },
     "output_type": "display_data"
    }
   ],
   "source": [
    "trainer.plot_valid_distr()"
   ]
  },
  {
   "cell_type": "code",
   "execution_count": 21,
   "id": "de539adf-bec0-4221-a0d7-0f706b35f3e7",
   "metadata": {},
   "outputs": [
    {
     "data": {
      "text/plain": [
       "(0.7000000000000003, 0.6702040816326531)"
      ]
     },
     "execution_count": 21,
     "metadata": {},
     "output_type": "execute_result"
    }
   ],
   "source": [
    "trainer.find_threshold()"
   ]
  },
  {
   "cell_type": "code",
   "execution_count": 22,
   "id": "93c882d6-19b1-4820-b671-e1dc26588b9b",
   "metadata": {},
   "outputs": [
    {
     "name": "stdout",
     "output_type": "stream",
     "text": [
      "Th: 0.500 Score: 0.574 (11520)\n",
      "Th: 0.525 Score: 0.583 (9684)\n",
      "Th: 0.550 Score: 0.595 (7745)\n",
      "Th: 0.575 Score: 0.621 (6221)\n",
      "Th: 0.600 Score: 0.628 (4768)\n",
      "Th: 0.625 Score: 0.637 (3505)\n",
      "Th: 0.650 Score: 0.631 (2492)\n",
      "Th: 0.675 Score: 0.649 (1843)\n",
      "Th: 0.700 Score: 0.670 (1225)\n",
      "Th: 0.725 Score: 0.686 (741)\n",
      "Th: 0.750 Score: 0.732 (448)\n",
      "Th: 0.775 Score: 0.731 (186)\n",
      "Th: 0.800 Score: 0.763 (76)\n",
      "Th: 0.825 Score: 0.821 (28)\n",
      "Th: 0.850 Score: 1.000 (4)\n"
     ]
    }
   ],
   "source": [
    "trainer.print_scores(min_threshold=0.5)"
   ]
  },
  {
   "cell_type": "markdown",
   "id": "4fbfda97-97c2-400b-9d0d-8360114a5458",
   "metadata": {},
   "source": [
    "## Save model"
   ]
  },
  {
   "cell_type": "code",
   "execution_count": 23,
   "id": "0c48c8b2-1ae7-49a5-ab69-05c9b5e50d64",
   "metadata": {},
   "outputs": [],
   "source": [
    "save_obj(WEIGHTS_PATH + '/net3.pickle', trainer.model)"
   ]
  },
  {
   "cell_type": "code",
   "execution_count": 59,
   "id": "5e17385f-a333-419f-8d08-f3acbd9a7da2",
   "metadata": {},
   "outputs": [
    {
     "data": {
      "text/plain": [
       "float"
      ]
     },
     "execution_count": 59,
     "metadata": {},
     "output_type": "execute_result"
    }
   ],
   "source": [
    "trainer.model(train_dataset[0][0].unsqueeze(0).float())[0].item()"
   ]
  },
  {
   "cell_type": "code",
   "execution_count": null,
   "id": "dafb8a65-56c2-4de8-8479-858b1d3ef271",
   "metadata": {},
   "outputs": [],
   "source": []
  }
 ],
 "metadata": {
  "kernelspec": {
   "display_name": "Python 3 (ipykernel)",
   "language": "python",
   "name": "python3"
  },
  "language_info": {
   "codemirror_mode": {
    "name": "ipython",
    "version": 3
   },
   "file_extension": ".py",
   "mimetype": "text/x-python",
   "name": "python",
   "nbconvert_exporter": "python",
   "pygments_lexer": "ipython3",
   "version": "3.9.7"
  }
 },
 "nbformat": 4,
 "nbformat_minor": 5
}
